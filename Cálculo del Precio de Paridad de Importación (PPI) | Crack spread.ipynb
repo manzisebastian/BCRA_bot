{
  "nbformat": 4,
  "nbformat_minor": 0,
  "metadata": {
    "colab": {
      "provenance": []
    },
    "kernelspec": {
      "name": "python3",
      "display_name": "Python 3"
    },
    "language_info": {
      "name": "python"
    }
  },
  "cells": [
    {
      "cell_type": "markdown",
      "source": [
        "# **Cálculo del Precio de Paridad de Importación (PPI)**\n",
        "\n",
        "\n",
        "---\n",
        "\n",
        "\n",
        "El Precio de Paridad de Importación es un estadístico de elaboración propia, diseñado para mostrar el costo económico de los combustibles líquidos. La serie de este estadístico contiene valores desde enero del 2019 hasta la fecha.\n",
        "\n",
        "El presente archivo contiene el código utilizado para obtener, procesar y analizar los datos de los componentes del PPI y, además, generar 2 figuras: la primera da cuenta de la evolución del PPI nacional; la segunda, en tanto, exhibe un análisis para provincias seleccionadas.\n",
        "\n",
        "El PPI se compara con el precio doméstico (o *precio en el surtidor*, aquél que se verifica en la venta al público) para observar la brecha existente entre los precios de venta y el costo de importación.\n",
        "\n",
        "Como resultado del análisis de datos, se presentan dos figuras: la primera, en forma de gráfico de líneas, muestra la evolución del precio doméstico *vis-à-vis* el precio de paridad de importación, para cada uno de los productos, en forma de promedio nacional; la segunda, en tanto, permite visualizar las realidades disímiles de la dinámica de precios en 4 jurisdicciones seleccionadas: Buenos Aires, Capital Federal, Córdoba y Corrientes."
      ],
      "metadata": {
        "id": "X8V222C9MILG"
      }
    },
    {
      "cell_type": "markdown",
      "source": [
        "## Preliminar"
      ],
      "metadata": {
        "id": "v8FHTYxc9tL1"
      }
    },
    {
      "cell_type": "markdown",
      "source": [
        "### Lectura de archivos `.pdf`\n",
        "\n",
        "Para la ejecución del siguiente código, se debe instalar el *package* `tabula-py`, necesario para la lectura de tablas en formato `.pdf`."
      ],
      "metadata": {
        "id": "Kra3HEZ-bHDs"
      }
    },
    {
      "cell_type": "code",
      "source": [
        "!pip install tabula-py"
      ],
      "metadata": {
        "colab": {
          "base_uri": "https://localhost:8080/"
        },
        "id": "l0u20AMvbd3I",
        "outputId": "d094e022-cb0f-460f-bc45-262af09644f6"
      },
      "execution_count": 1,
      "outputs": [
        {
          "output_type": "stream",
          "name": "stdout",
          "text": [
            "Looking in indexes: https://pypi.org/simple, https://us-python.pkg.dev/colab-wheels/public/simple/\n",
            "Collecting tabula-py\n",
            "  Downloading tabula_py-2.7.0-py3-none-any.whl (12.0 MB)\n",
            "\u001b[2K     \u001b[90m━━━━━━━━━━━━━━━━━━━━━━━━━━━━━━━━━━━━━━━━\u001b[0m \u001b[32m12.0/12.0 MB\u001b[0m \u001b[31m54.7 MB/s\u001b[0m eta \u001b[36m0:00:00\u001b[0m\n",
            "\u001b[?25hRequirement already satisfied: pandas>=0.25.3 in /usr/local/lib/python3.8/dist-packages (from tabula-py) (1.3.5)\n",
            "Requirement already satisfied: numpy in /usr/local/lib/python3.8/dist-packages (from tabula-py) (1.22.4)\n",
            "Collecting distro\n",
            "  Downloading distro-1.8.0-py3-none-any.whl (20 kB)\n",
            "Requirement already satisfied: pytz>=2017.3 in /usr/local/lib/python3.8/dist-packages (from pandas>=0.25.3->tabula-py) (2022.7.1)\n",
            "Requirement already satisfied: python-dateutil>=2.7.3 in /usr/local/lib/python3.8/dist-packages (from pandas>=0.25.3->tabula-py) (2.8.2)\n",
            "Requirement already satisfied: six>=1.5 in /usr/local/lib/python3.8/dist-packages (from python-dateutil>=2.7.3->pandas>=0.25.3->tabula-py) (1.15.0)\n",
            "Installing collected packages: distro, tabula-py\n",
            "Successfully installed distro-1.8.0 tabula-py-2.7.0\n"
          ]
        }
      ]
    },
    {
      "cell_type": "markdown",
      "source": [
        "### Importación de *libraries*\n",
        "\n",
        "Se importan las *libraries* a utilizar en el código."
      ],
      "metadata": {
        "id": "Wb4Bl30G7H9I"
      }
    },
    {
      "cell_type": "code",
      "source": [
        "import pandas as pd\n",
        "import tabula\n",
        "import datetime as dt\n",
        "from datetime import date\n",
        "import io\n",
        "from bs4 import BeautifulSoup\n",
        "from urllib.request import Request, urlopen\n",
        "import plotly.graph_objects as go\n",
        "import numpy as np\n",
        "import requests\n",
        "import zipfile\n",
        "import plotly.express as px\n",
        "import plotly.io as pio"
      ],
      "metadata": {
        "id": "ij__7VmE9tL2"
      },
      "execution_count": 2,
      "outputs": []
    },
    {
      "cell_type": "markdown",
      "source": [
        "### Exportación a archivo `.pdf`\n",
        "\n",
        "En caso de precisarse exportar las figuras resultantes a formato `.pdf`, se debe instalar el *package* `kaleido`.\n",
        "\n",
        "**IMPORTANTE**: para evitar problemas de desconexión, es recomendable ejecutar el código la siguiente celda y, una vez terminado el proceso de instalación, reiniciar el entorno de ejecución y ejecutar todas las celdas."
      ],
      "metadata": {
        "id": "HJrL1Jgw03te"
      }
    },
    {
      "cell_type": "code",
      "source": [
        "!pip install -U kaleido"
      ],
      "metadata": {
        "id": "YwZ_PfIfbbkT",
        "colab": {
          "base_uri": "https://localhost:8080/"
        },
        "outputId": "9fd2046e-4847-4492-a917-82cc2b1353bc"
      },
      "execution_count": 3,
      "outputs": [
        {
          "output_type": "stream",
          "name": "stdout",
          "text": [
            "Looking in indexes: https://pypi.org/simple, https://us-python.pkg.dev/colab-wheels/public/simple/\n",
            "Collecting kaleido\n",
            "  Downloading kaleido-0.2.1-py2.py3-none-manylinux1_x86_64.whl (79.9 MB)\n",
            "\u001b[2K     \u001b[90m━━━━━━━━━━━━━━━━━━━━━━━━━━━━━━━━━━━━━━━━\u001b[0m \u001b[32m79.9/79.9 MB\u001b[0m \u001b[31m11.4 MB/s\u001b[0m eta \u001b[36m0:00:00\u001b[0m\n",
            "\u001b[?25hInstalling collected packages: kaleido\n",
            "Successfully installed kaleido-0.2.1\n"
          ]
        }
      ]
    },
    {
      "cell_type": "markdown",
      "source": [
        "### Eludir controles de *scraping*\n",
        "\n",
        "Muchas de las páginas utilizadas en el presente documento para recopilación de información tienen prevención de robots de *scraping*.\n",
        "\n",
        "Estos controles se eluden introduciendo el *header* definido en `header` como *value* de un *key* (`'User-Agent': header`)"
      ],
      "metadata": {
        "id": "HaGEP1dkAZGR"
      }
    },
    {
      "cell_type": "code",
      "source": [
        "header = 'Mozilla/5.0 (Windows NT 10.0; Win64; x64) AppleWebKit/537.36 (KHTML, like Gecko) Chrome/108.0.0.0 Safari/537.36 Edg/108.0.1462.54'"
      ],
      "metadata": {
        "id": "tjpuaIKTBGHa"
      },
      "execution_count": 4,
      "outputs": []
    },
    {
      "cell_type": "markdown",
      "source": [
        "## Componentes\n",
        "\n",
        "El precio de paridad de importación se construye a partir de diversas bases de datos de distintas fuentes (en su mayoría, organismos estatales)."
      ],
      "metadata": {
        "id": "pUPta4t6ODo3"
      }
    },
    {
      "cell_type": "markdown",
      "source": [
        "### Precios internacionales"
      ],
      "metadata": {
        "id": "3U12p62JU5zN"
      }
    },
    {
      "cell_type": "markdown",
      "source": [
        "#### Obtención y limpieza de datos\n",
        "\n",
        "Los precios internacionales de los productos (Gas Oil y Nafta) son un componente constitutivo del cálculo del Precio de Paridad de Importación.\n",
        "\n",
        "Los datos sobre los precios internacionales son publicados mensualmente por la Energy Information Administration (EIA) de Estados Unidos.\n",
        "\n",
        "Particularmente, se utiliza el archivo que contiene los precios futuros de los productos, y se utiliza siempre el contrato de duración más corta.\n",
        "\n",
        "El link `url_internacionales` refiere al archivo \"NYMEX Futures Prices\". Son de particular interés: para el Gas Oil, el \"No. 2 Heating Oil\" y, para la Nafta, la \"RBOB Regular Gasoline\", ambos productos extraídos del puerto de Nueva York."
      ],
      "metadata": {
        "id": "MzumA4InXxfS"
      }
    },
    {
      "cell_type": "code",
      "source": [
        "url_internacionales = \"https://www.eia.gov/dnav/pet/xls/PET_PRI_FUT_S1_M.xls\""
      ],
      "metadata": {
        "id": "Rzx6ZtQLU8qH"
      },
      "execution_count": 5,
      "outputs": []
    },
    {
      "cell_type": "markdown",
      "source": [
        "El *DataFrame* `rbob` contiene los datos de la lectura de la hoja \"Data 3\" del archivo (correspondiente a los datos de la RBOB Regular Gasoline), ignorando las primeras 159 filas y utilizando la primera y segunda columna."
      ],
      "metadata": {
        "id": "xv8ovu2AZL8y"
      }
    },
    {
      "cell_type": "code",
      "source": [
        "rbob = pd.read_excel(url_internacionales, sheet_name=\"Data 3\", usecols=[0, 1], skiprows=159)"
      ],
      "metadata": {
        "id": "NqZGqAJ4VQAH"
      },
      "execution_count": 6,
      "outputs": []
    },
    {
      "cell_type": "markdown",
      "source": [
        "Se renombran las columnas del *DataFrame*."
      ],
      "metadata": {
        "id": "xcAbiAm3Zbvp"
      }
    },
    {
      "cell_type": "code",
      "source": [
        "rbob.columns = [\"Período\", \"RBOB\"]"
      ],
      "metadata": {
        "id": "uPn1mZVbVkEZ"
      },
      "execution_count": 7,
      "outputs": []
    },
    {
      "cell_type": "markdown",
      "source": [
        "El *DataFrame* `n2_ho` contiene los datos de la lectura de la hoja \"Data 3\" del archivo (correspondiente a los datos del No. 2 Heating Oil), ignorando las primeras 470 filas y utilizando la primera y segunda columna."
      ],
      "metadata": {
        "id": "cZgm_IfIZfXV"
      }
    },
    {
      "cell_type": "code",
      "source": [
        "n2_ho = pd.read_excel(url_internacionales, sheet_name=\"Data 4\", usecols=[0, 1], skiprows=470)"
      ],
      "metadata": {
        "id": "ff9x0lf6VkJt"
      },
      "execution_count": 8,
      "outputs": []
    },
    {
      "cell_type": "markdown",
      "source": [
        "Se renombran las columnas del *DataFrame*."
      ],
      "metadata": {
        "id": "QP5fem6cZwXo"
      }
    },
    {
      "cell_type": "code",
      "source": [
        "n2_ho.columns = [\"Período\", \"N2_HO\"]"
      ],
      "metadata": {
        "id": "cqUTVD3bVkLs"
      },
      "execution_count": 9,
      "outputs": []
    },
    {
      "cell_type": "markdown",
      "source": [
        "#### *DataFrame* final\n",
        "\n",
        "Mediante el comando `.merge()` se unen ambos *DataFrames*, utilizando como guía la columna \"Período\". El *DataFrame* resultante se denomina `internacionales`."
      ],
      "metadata": {
        "id": "hnkEdaPDZw_I"
      }
    },
    {
      "cell_type": "code",
      "source": [
        "internacionales = rbob.merge(n2_ho, on=\"Período\")"
      ],
      "metadata": {
        "id": "jtnItIgiXssW"
      },
      "execution_count": 10,
      "outputs": []
    },
    {
      "cell_type": "markdown",
      "source": [
        "Se convierte en formato `datetime` a la columna \"Período\", y se reemplazan todos los días por el primer día de cada mes."
      ],
      "metadata": {
        "id": "zvpcSZBuaALi"
      }
    },
    {
      "cell_type": "code",
      "source": [
        "internacionales[\"Período\"] = pd.to_datetime(internacionales[\"Período\"]).apply(lambda x: x.replace(day=1))"
      ],
      "metadata": {
        "id": "eSTeURb0XxEL"
      },
      "execution_count": 11,
      "outputs": []
    },
    {
      "cell_type": "markdown",
      "source": [
        "### Tipo de cambio"
      ],
      "metadata": {
        "id": "2X_t7C1cOin_"
      }
    },
    {
      "cell_type": "markdown",
      "source": [
        "#### Obtención y limpieza de datos\n",
        "\n",
        "El valor del tipo de cambio se extrae directamente de la serie del Tipo de Cambio Nominal Promedio Mensual (TCNPM), publicada por el Banco Central de la República Argentina."
      ],
      "metadata": {
        "id": "cymp4MXiRds8"
      }
    },
    {
      "cell_type": "code",
      "source": [
        "url_tc = \"https://www.bcra.gob.ar/Pdfs/PublicacionesEstadisticas/com3500.xls\""
      ],
      "metadata": {
        "id": "J6TeD51_JfM2"
      },
      "execution_count": 12,
      "outputs": []
    },
    {
      "cell_type": "markdown",
      "source": [
        "La serie de TCNPM se lee con la *library* `pandas`."
      ],
      "metadata": {
        "id": "6L0P0fZNQTqX"
      }
    },
    {
      "cell_type": "code",
      "source": [
        "tc = pd.read_excel(\n",
        "    url_tc,\n",
        "    sheet_name=\"Serie de TCNPM\",\n",
        "    skiprows=1,\n",
        "    usecols=[\"Mes\", \"Tipo de cambio nominal promedio mensual\"]).drop([0]).rename(\n",
        "        columns = {\n",
        "            \"Mes\": \"Período\",\n",
        "            \"Tipo de cambio nominal promedio mensual\": \"TCN\"\n",
        "            })"
      ],
      "metadata": {
        "id": "zu85ZgDAQSRa"
      },
      "execution_count": 13,
      "outputs": []
    },
    {
      "cell_type": "markdown",
      "source": [
        "#### *DataFrame* final\n",
        "\n",
        "Se recorta el *DataFrame* para que incluya solo los valores deseados (desde la fila 202 en adelante, `tc[202::]`) y se resetea el índice con el comando `.reset_index(drop=True)`.\n",
        "\n",
        "El archivo `tc` es el *DataFrame* de la serie mensual del tipo de cambio nominal."
      ],
      "metadata": {
        "id": "KJ7lRR3eTtly"
      }
    },
    {
      "cell_type": "code",
      "source": [
        "tc = tc[202::].reset_index(drop=True)"
      ],
      "metadata": {
        "id": "_JEPOykgBp-D"
      },
      "execution_count": 14,
      "outputs": []
    },
    {
      "cell_type": "markdown",
      "source": [
        "A continuación, se presentan las primeras 5 filas del *DataFrame*."
      ],
      "metadata": {
        "id": "mzXmlz3_UyVt"
      }
    },
    {
      "cell_type": "code",
      "source": [
        "tc.head()"
      ],
      "metadata": {
        "colab": {
          "base_uri": "https://localhost:8080/",
          "height": 206
        },
        "id": "4__1Kzp3SZzO",
        "outputId": "57e9d8d8-5d75-497e-d3e6-6f80e495cd9d"
      },
      "execution_count": 15,
      "outputs": [
        {
          "output_type": "execute_result",
          "data": {
            "text/plain": [
              "               Período      TCN\n",
              "0  2019-01-01 00:00:00  37.4069\n",
              "1  2019-02-01 00:00:00  38.4086\n",
              "2  2019-03-01 00:00:00  41.3624\n",
              "3  2019-04-01 00:00:00  43.2338\n",
              "4  2019-05-01 00:00:00  44.9332"
            ],
            "text/html": [
              "\n",
              "  <div id=\"df-4a7bdb97-b498-412b-a647-2abde2f136d3\">\n",
              "    <div class=\"colab-df-container\">\n",
              "      <div>\n",
              "<style scoped>\n",
              "    .dataframe tbody tr th:only-of-type {\n",
              "        vertical-align: middle;\n",
              "    }\n",
              "\n",
              "    .dataframe tbody tr th {\n",
              "        vertical-align: top;\n",
              "    }\n",
              "\n",
              "    .dataframe thead th {\n",
              "        text-align: right;\n",
              "    }\n",
              "</style>\n",
              "<table border=\"1\" class=\"dataframe\">\n",
              "  <thead>\n",
              "    <tr style=\"text-align: right;\">\n",
              "      <th></th>\n",
              "      <th>Período</th>\n",
              "      <th>TCN</th>\n",
              "    </tr>\n",
              "  </thead>\n",
              "  <tbody>\n",
              "    <tr>\n",
              "      <th>0</th>\n",
              "      <td>2019-01-01 00:00:00</td>\n",
              "      <td>37.4069</td>\n",
              "    </tr>\n",
              "    <tr>\n",
              "      <th>1</th>\n",
              "      <td>2019-02-01 00:00:00</td>\n",
              "      <td>38.4086</td>\n",
              "    </tr>\n",
              "    <tr>\n",
              "      <th>2</th>\n",
              "      <td>2019-03-01 00:00:00</td>\n",
              "      <td>41.3624</td>\n",
              "    </tr>\n",
              "    <tr>\n",
              "      <th>3</th>\n",
              "      <td>2019-04-01 00:00:00</td>\n",
              "      <td>43.2338</td>\n",
              "    </tr>\n",
              "    <tr>\n",
              "      <th>4</th>\n",
              "      <td>2019-05-01 00:00:00</td>\n",
              "      <td>44.9332</td>\n",
              "    </tr>\n",
              "  </tbody>\n",
              "</table>\n",
              "</div>\n",
              "      <button class=\"colab-df-convert\" onclick=\"convertToInteractive('df-4a7bdb97-b498-412b-a647-2abde2f136d3')\"\n",
              "              title=\"Convert this dataframe to an interactive table.\"\n",
              "              style=\"display:none;\">\n",
              "        \n",
              "  <svg xmlns=\"http://www.w3.org/2000/svg\" height=\"24px\"viewBox=\"0 0 24 24\"\n",
              "       width=\"24px\">\n",
              "    <path d=\"M0 0h24v24H0V0z\" fill=\"none\"/>\n",
              "    <path d=\"M18.56 5.44l.94 2.06.94-2.06 2.06-.94-2.06-.94-.94-2.06-.94 2.06-2.06.94zm-11 1L8.5 8.5l.94-2.06 2.06-.94-2.06-.94L8.5 2.5l-.94 2.06-2.06.94zm10 10l.94 2.06.94-2.06 2.06-.94-2.06-.94-.94-2.06-.94 2.06-2.06.94z\"/><path d=\"M17.41 7.96l-1.37-1.37c-.4-.4-.92-.59-1.43-.59-.52 0-1.04.2-1.43.59L10.3 9.45l-7.72 7.72c-.78.78-.78 2.05 0 2.83L4 21.41c.39.39.9.59 1.41.59.51 0 1.02-.2 1.41-.59l7.78-7.78 2.81-2.81c.8-.78.8-2.07 0-2.86zM5.41 20L4 18.59l7.72-7.72 1.47 1.35L5.41 20z\"/>\n",
              "  </svg>\n",
              "      </button>\n",
              "      \n",
              "  <style>\n",
              "    .colab-df-container {\n",
              "      display:flex;\n",
              "      flex-wrap:wrap;\n",
              "      gap: 12px;\n",
              "    }\n",
              "\n",
              "    .colab-df-convert {\n",
              "      background-color: #E8F0FE;\n",
              "      border: none;\n",
              "      border-radius: 50%;\n",
              "      cursor: pointer;\n",
              "      display: none;\n",
              "      fill: #1967D2;\n",
              "      height: 32px;\n",
              "      padding: 0 0 0 0;\n",
              "      width: 32px;\n",
              "    }\n",
              "\n",
              "    .colab-df-convert:hover {\n",
              "      background-color: #E2EBFA;\n",
              "      box-shadow: 0px 1px 2px rgba(60, 64, 67, 0.3), 0px 1px 3px 1px rgba(60, 64, 67, 0.15);\n",
              "      fill: #174EA6;\n",
              "    }\n",
              "\n",
              "    [theme=dark] .colab-df-convert {\n",
              "      background-color: #3B4455;\n",
              "      fill: #D2E3FC;\n",
              "    }\n",
              "\n",
              "    [theme=dark] .colab-df-convert:hover {\n",
              "      background-color: #434B5C;\n",
              "      box-shadow: 0px 1px 3px 1px rgba(0, 0, 0, 0.15);\n",
              "      filter: drop-shadow(0px 1px 2px rgba(0, 0, 0, 0.3));\n",
              "      fill: #FFFFFF;\n",
              "    }\n",
              "  </style>\n",
              "\n",
              "      <script>\n",
              "        const buttonEl =\n",
              "          document.querySelector('#df-4a7bdb97-b498-412b-a647-2abde2f136d3 button.colab-df-convert');\n",
              "        buttonEl.style.display =\n",
              "          google.colab.kernel.accessAllowed ? 'block' : 'none';\n",
              "\n",
              "        async function convertToInteractive(key) {\n",
              "          const element = document.querySelector('#df-4a7bdb97-b498-412b-a647-2abde2f136d3');\n",
              "          const dataTable =\n",
              "            await google.colab.kernel.invokeFunction('convertToInteractive',\n",
              "                                                     [key], {});\n",
              "          if (!dataTable) return;\n",
              "\n",
              "          const docLinkHtml = 'Like what you see? Visit the ' +\n",
              "            '<a target=\"_blank\" href=https://colab.research.google.com/notebooks/data_table.ipynb>data table notebook</a>'\n",
              "            + ' to learn more about interactive tables.';\n",
              "          element.innerHTML = '';\n",
              "          dataTable['output_type'] = 'display_data';\n",
              "          await google.colab.output.renderOutput(dataTable, element);\n",
              "          const docLink = document.createElement('div');\n",
              "          docLink.innerHTML = docLinkHtml;\n",
              "          element.appendChild(docLink);\n",
              "        }\n",
              "      </script>\n",
              "    </div>\n",
              "  </div>\n",
              "  "
            ]
          },
          "metadata": {},
          "execution_count": 15
        }
      ]
    },
    {
      "cell_type": "markdown",
      "source": [
        "### Biocombustibles\n",
        "\n"
      ],
      "metadata": {
        "id": "_1vf6vbwVd01"
      }
    },
    {
      "cell_type": "markdown",
      "source": [
        "#### Obtención de datos\n",
        "\n",
        "La Secretaría de Energía de la Nación publica los datos mensuales del precio del biodiesel y del bioetanol. Los links de `url_biodiesel` y `url_bioetanol` refieren a los reportes de precio de cada biocombustible."
      ],
      "metadata": {
        "id": "2QqlwV_sWHpL"
      }
    },
    {
      "cell_type": "code",
      "source": [
        "url_biodiesel = \"https://glp.se.gob.ar/biocombustible/reporte_precios.php\""
      ],
      "metadata": {
        "id": "0K91QRXhBqDb"
      },
      "execution_count": 16,
      "outputs": []
    },
    {
      "cell_type": "code",
      "source": [
        "url_bioetanol = \"https://glp.se.gob.ar/biocombustible/reporte_precios_bioetanol.php\""
      ],
      "metadata": {
        "id": "GvFGAA3Y1tHo"
      },
      "execution_count": 17,
      "outputs": []
    },
    {
      "cell_type": "markdown",
      "source": [
        "Dado que la información es publicada en el lenguaje `php`, se define la función `request_biocombustibles` para obtener la información de cada uno de los sitios web.\n",
        "\n",
        "Los parámetros de la función son:\n",
        "*   `url`: link de la página web (`.php`) de la cual extraer los datos\n",
        "*   `data`: lista vacía donde almacenar los datos extraídos.\n",
        "\n",
        "**Importante**: para evitar errores de permisos no otorgados, y dado que la página de la Secretaría de Energía detecta y previene el uso de robots de *scraping*, es preciso especificar el *header* previamente guardado."
      ],
      "metadata": {
        "id": "S3lATaeJXEjb"
      }
    },
    {
      "cell_type": "code",
      "source": [
        "def request_biocombustibles(url, data):\n",
        "  req = Request(\n",
        "    url,\n",
        "    headers = {\n",
        "      'User-Agent': header\n",
        "      }\n",
        "  )\n",
        "  page = urlopen(req)\n",
        "  html_parser = BeautifulSoup(page, \"lxml\")\n",
        "  tables = html_parser.findAll('tr')\n",
        "  for tr in tables:\n",
        "    row_data = []\n",
        "    for td in tr.findAll('td'):\n",
        "        row_data.append(td.text)\n",
        "    data.append(row_data)\n",
        "  return data"
      ],
      "metadata": {
        "id": "PjL2079KK2nR"
      },
      "execution_count": 18,
      "outputs": []
    },
    {
      "cell_type": "markdown",
      "source": [
        "La función se divide en dos partes:\n",
        "1.   `Request`: se *abre* la página web especificada y se guardan todas las tablas contenidas en ella.\n",
        "2.   `Iteration`: se itera sobre cada una de las tablas y se guarda en la lista vacía (`data`)."
      ],
      "metadata": {
        "id": "WY4g2-yOYMf9"
      }
    },
    {
      "cell_type": "markdown",
      "source": [
        "##### Biodiesel\n",
        "\n",
        "Se crea la lista vacía `biodiesel_data`, donde se almacenará la información correspondiente."
      ],
      "metadata": {
        "id": "s7Ev5KC2Yu6q"
      }
    },
    {
      "cell_type": "code",
      "source": [
        "biodiesel_data = []"
      ],
      "metadata": {
        "id": "6yYbFCh16cYy"
      },
      "execution_count": 19,
      "outputs": []
    },
    {
      "cell_type": "markdown",
      "source": [
        "Se ejecuta la función `request_biocombustibles` para la página web que contiene los precios del biodiesel."
      ],
      "metadata": {
        "id": "xbxFyyjkBnl_"
      }
    },
    {
      "cell_type": "code",
      "source": [
        "biodiesel_data = request_biocombustibles(url_biodiesel, biodiesel_data)"
      ],
      "metadata": {
        "id": "B_mpjyW3ZIri"
      },
      "execution_count": 20,
      "outputs": []
    },
    {
      "cell_type": "markdown",
      "source": [
        "Por último, se convierte la información a un *DataFrame* con el comando `pd.DataFrame()`. "
      ],
      "metadata": {
        "id": "mbm0VcwjBqyZ"
      }
    },
    {
      "cell_type": "code",
      "source": [
        "biodiesel = pd.DataFrame(biodiesel_data)"
      ],
      "metadata": {
        "id": "XQD79kV_5SFq"
      },
      "execution_count": 21,
      "outputs": []
    },
    {
      "cell_type": "markdown",
      "source": [
        "##### Bioetanol\n",
        "\n",
        "El procedimiento para la página web del bioetanol es idéntico. Primeramente, se crea la lista vacía `bioetanol_data`."
      ],
      "metadata": {
        "id": "6jNeQ0fvcU4O"
      }
    },
    {
      "cell_type": "code",
      "source": [
        "bioetanol_data = []"
      ],
      "metadata": {
        "id": "PPJh26xFc2Xq"
      },
      "execution_count": 22,
      "outputs": []
    },
    {
      "cell_type": "markdown",
      "source": [
        "Se ejecuta la función `request_biocombustibles` para la página web que contiene los precios del bioetanol."
      ],
      "metadata": {
        "id": "NBsI9i1zC6h9"
      }
    },
    {
      "cell_type": "code",
      "source": [
        "bioetanol_data = request_biocombustibles(url_bioetanol, bioetanol_data)"
      ],
      "metadata": {
        "id": "QWEcqJ6C9HlV"
      },
      "execution_count": 23,
      "outputs": []
    },
    {
      "cell_type": "markdown",
      "source": [
        "Y se convierte la información a un *DataFrame*"
      ],
      "metadata": {
        "id": "7hC8ZjbjC_q3"
      }
    },
    {
      "cell_type": "code",
      "source": [
        "bioetanol = pd.DataFrame(bioetanol_data)"
      ],
      "metadata": {
        "id": "nSWDktYF9HlW"
      },
      "execution_count": 24,
      "outputs": []
    },
    {
      "cell_type": "markdown",
      "source": [
        "#### *Data cleaning*"
      ],
      "metadata": {
        "id": "pAJrotZ3cp6f"
      }
    },
    {
      "cell_type": "markdown",
      "source": [
        "##### Biodiesel\n",
        "\n",
        "Se eliminan columnas (con `NaN`) y filas innecesarias."
      ],
      "metadata": {
        "id": "4t_Wmva8c-9C"
      }
    },
    {
      "cell_type": "code",
      "source": [
        "biodiesel.drop(biodiesel.iloc[:, 2:8], inplace=True, axis=1)"
      ],
      "metadata": {
        "id": "LzmSds9iZLWK"
      },
      "execution_count": 25,
      "outputs": []
    },
    {
      "cell_type": "code",
      "source": [
        "biodiesel = biodiesel[1:38]"
      ],
      "metadata": {
        "id": "ehtCfrQucv4T"
      },
      "execution_count": 26,
      "outputs": []
    },
    {
      "cell_type": "markdown",
      "source": [
        "Se actualizan los nombres de las columnas."
      ],
      "metadata": {
        "id": "pGZ30EnCDmXs"
      }
    },
    {
      "cell_type": "code",
      "source": [
        "biodiesel.columns = [\"Período\", \"Precio\"]"
      ],
      "metadata": {
        "id": "B5gRZqWTDi-I"
      },
      "execution_count": 27,
      "outputs": []
    },
    {
      "cell_type": "markdown",
      "source": [
        "Se invierte la tabla y resetea el índice."
      ],
      "metadata": {
        "id": "w59m40CFDrRo"
      }
    },
    {
      "cell_type": "code",
      "source": [
        "biodiesel = biodiesel[::-1].reset_index(drop=True)"
      ],
      "metadata": {
        "id": "-MU1OpIlDtdU"
      },
      "execution_count": 28,
      "outputs": []
    },
    {
      "cell_type": "markdown",
      "source": [
        "Algunos meses del índice temporal contienen fallas, resueltas a continuación."
      ],
      "metadata": {
        "id": "SZdS5yQtaFMI"
      }
    },
    {
      "cell_type": "code",
      "source": [
        "biodiesel[\"Período\"][12] = \"Octubre 2020\"\n",
        "biodiesel[\"Período\"][18] = \"Julio 2021\"\n",
        "biodiesel[\"Período\"][32] = \"Noviembre 2022\""
      ],
      "metadata": {
        "id": "T5M1JP2S5PZI"
      },
      "execution_count": 29,
      "outputs": []
    },
    {
      "cell_type": "markdown",
      "source": [
        "Dado que el comando `pd.to_datetime()` funciona exclusivamente para fechas en idioma inglés, se deben cambiar los meses del índice temporal por su equivalente en ingles.\n",
        "\n",
        "Ello se logra definiendo un *dictionary* en el que cada `key` es el mes en español (`mes`), y cada `value` es el mes en inglés (`month`).\n"
      ],
      "metadata": {
        "id": "MVY18Ql6aR_q"
      }
    },
    {
      "cell_type": "code",
      "source": [
        "mes_month = {\n",
        "    \"Enero\": \"January\",\n",
        "    \"Febrero\": \"February\",\n",
        "    \"Marzo\": \"March\",\n",
        "    \"Abril\": \"April\",\n",
        "    \"Mayo\": \"May\",\n",
        "    \"Junio\": \"June\",\n",
        "    \"Julio\": \"July\",\n",
        "    \"Agosto\": \"August\",\n",
        "    \"Septiembre\": \"September\",\n",
        "    \"Octubre\": \"October\",\n",
        "    \"Noviembre\": \"November\",\n",
        "    \"Diciembre\": \"December\"\n",
        "}"
      ],
      "metadata": {
        "id": "Y5YI1rmnCNOp"
      },
      "execution_count": 30,
      "outputs": []
    },
    {
      "cell_type": "markdown",
      "source": [
        "Finalmente, se incorpora esta información al *DataFrame* reemplazando en la columna \"Período\" cada `mes` por cada `month` y se convierte la columna al formato `datetime`."
      ],
      "metadata": {
        "id": "LvELexjUbHCr"
      }
    },
    {
      "cell_type": "code",
      "source": [
        "for mes, month in mes_month.items():\n",
        "  biodiesel[\"Período\"] = biodiesel[\"Período\"].str.replace(mes, month, regex=False)\n",
        "  \n",
        "biodiesel[\"Período\"] = pd.to_datetime(biodiesel[\"Período\"])"
      ],
      "metadata": {
        "id": "AQzJLQ_mC1oz"
      },
      "execution_count": 31,
      "outputs": []
    },
    {
      "cell_type": "markdown",
      "source": [
        "Algunos de los valores de la columna \"Precio\" contienen referencias con asteriscos (\\*). Se eliminan estas referencias."
      ],
      "metadata": {
        "id": "jsKpqYLDbt4l"
      }
    },
    {
      "cell_type": "code",
      "source": [
        "biodiesel['Precio'] = biodiesel['Precio'].str.replace(\" *\", \"\", regex=False)"
      ],
      "metadata": {
        "id": "JJydBJ_EBXBP"
      },
      "execution_count": 32,
      "outputs": []
    },
    {
      "cell_type": "markdown",
      "source": [
        "Los valores en `biodiesel` son interpretados como cadenas de texto (`string`). Se actualiza su *type* mediante el comand `astype()`, siendo éste actualizado a `float`."
      ],
      "metadata": {
        "id": "1ePJQKhAEYuw"
      }
    },
    {
      "cell_type": "code",
      "source": [
        "biodiesel[\"Precio\"] = biodiesel[\"Precio\"].astype(float)"
      ],
      "metadata": {
        "id": "mEfdI-TgDmT6"
      },
      "execution_count": 33,
      "outputs": []
    },
    {
      "cell_type": "markdown",
      "source": [
        "Dado que el precio del biodiesel es publicado en pesos argentinos por tonelada (\\$/ton), para expresar el dato en pesos argentinos por metro cúbico (\\$/m3) se debe:\n",
        "\n",
        "*   multiplicar por su densidad ( 0.886 kg/l)\n",
        "*   multiplicar por 1000\n"
      ],
      "metadata": {
        "id": "T9nLApX_cJnf"
      }
    },
    {
      "cell_type": "code",
      "source": [
        "densidad_biodiesel = 0.886"
      ],
      "metadata": {
        "id": "dk3-Aivl85BM"
      },
      "execution_count": 34,
      "outputs": []
    },
    {
      "cell_type": "code",
      "source": [
        "biodiesel[\"Precio\"] = biodiesel[\"Precio\"] * densidad_biodiesel * 1000"
      ],
      "metadata": {
        "id": "X8ozpA7563F6"
      },
      "execution_count": 35,
      "outputs": []
    },
    {
      "cell_type": "markdown",
      "source": [
        "##### Bioetanol\n",
        "\n",
        "Se eliminan filas innecesarias."
      ],
      "metadata": {
        "id": "yuWRETbyeTbm"
      }
    },
    {
      "cell_type": "code",
      "source": [
        "bioetanol = bioetanol[1:34].drop([4]).reset_index(drop=True)"
      ],
      "metadata": {
        "id": "-ik7f81K9QRQ"
      },
      "execution_count": 36,
      "outputs": []
    },
    {
      "cell_type": "markdown",
      "source": [
        "Se actualizan los nombres de las columnas."
      ],
      "metadata": {
        "id": "j1L7qhLPE7mQ"
      }
    },
    {
      "cell_type": "code",
      "source": [
        "bioetanol.columns = [\"Período\", \"Caña\", \"Maíz\"]"
      ],
      "metadata": {
        "id": "Yqz9hKwWE7mQ"
      },
      "execution_count": 37,
      "outputs": []
    },
    {
      "cell_type": "markdown",
      "source": [
        "Se invierte la tabla y resetea el índice."
      ],
      "metadata": {
        "id": "ioR4LKi-E7mQ"
      }
    },
    {
      "cell_type": "code",
      "source": [
        "bioetanol = bioetanol[::-1].reset_index(drop=True)"
      ],
      "metadata": {
        "id": "55wjupmME7mR"
      },
      "execution_count": 38,
      "outputs": []
    },
    {
      "cell_type": "markdown",
      "source": [
        "En el caso del *DataFrame* del bioetanol, las fallas contenidas en el índice temporal se deben solucionar a partir de un *loop* (comando `for`) que corrige los valores de las filas especificadas en la lista `filas_a_modificar`.\n",
        "\n",
        "Los valores correctos se encuentran en la lista `valores_modificados`."
      ],
      "metadata": {
        "id": "MFQSQPL1egn3"
      }
    },
    {
      "cell_type": "code",
      "source": [
        "filas_a_modificar = [12, 18, 20, 21, 23, 30, 31]"
      ],
      "metadata": {
        "id": "DMH0Wtc-XAwR"
      },
      "execution_count": 39,
      "outputs": []
    },
    {
      "cell_type": "code",
      "source": [
        "valores_modificados = [\"10-2020\", \"07-2021\", \"02-2022\", \"03-2022\", \"05-2022\", \"12/2022\", \"01/2023\"]"
      ],
      "metadata": {
        "id": "QuEUAtY4FMKO"
      },
      "execution_count": 40,
      "outputs": []
    },
    {
      "cell_type": "code",
      "source": [
        "for column, value in zip(filas_a_modificar, valores_modificados):\n",
        "  bioetanol[\"Período\"][column] = value"
      ],
      "metadata": {
        "id": "mPT0IXAeFHgH"
      },
      "execution_count": 41,
      "outputs": []
    },
    {
      "cell_type": "markdown",
      "source": [
        "Se convierte la columna `\"Período\"` en índice temporal, con el comando `pd.to_datetime()`."
      ],
      "metadata": {
        "id": "GEaGLwDfgMlw"
      }
    },
    {
      "cell_type": "code",
      "source": [
        "bioetanol['Período'] = pd.to_datetime(bioetanol['Período'])"
      ],
      "metadata": {
        "id": "lvyjlHDs4FOA"
      },
      "execution_count": 42,
      "outputs": []
    },
    {
      "cell_type": "markdown",
      "source": [
        "Mediante un *loop*, se eliminan distintos agregados, como asteríscos o comentarios, de las columnas de los precios, y se reemplazan las comas (`,`) por puntos (`.`) como separador de decimales.\n",
        "\n",
        "Dado que el precio del bioetanol es publicado en pesos argentinos por litro (\\$/l), para expresar el dato en pesos argentinos por metro cúbico (\\$/m3) se multiplica el dato por 1000."
      ],
      "metadata": {
        "id": "X8-kIDyIgjlS"
      }
    },
    {
      "cell_type": "code",
      "source": [
        "for column in bioetanol.columns[1:]:\n",
        "  bioetanol[column] = bioetanol[column].str.replace(\"*\", \"\", regex=True)\n",
        "  bioetanol[column] = bioetanol[column].str.replace(r\"\\(.*\\)\",\"\", regex=True)\n",
        "  bioetanol[column] = bioetanol[column].str.replace(\" \", \"\", regex=True)\n",
        "  bioetanol[column] = bioetanol[column].str.replace(\",\", \".\", regex=True).astype(float)\n",
        "  bioetanol[column] = bioetanol[column]*1000"
      ],
      "metadata": {
        "id": "sS8RSOP3W2jv"
      },
      "execution_count": 43,
      "outputs": []
    },
    {
      "cell_type": "markdown",
      "source": [
        "Finalmente, se toma el promedio entre el bioetanol a base de caña y el bioetanol a base de maíz."
      ],
      "metadata": {
        "id": "4rdpPUhLhJAJ"
      }
    },
    {
      "cell_type": "code",
      "source": [
        "bioetanol[\"Promedio\"] = bioetanol[['Caña', 'Maíz']].mean(axis=1)"
      ],
      "metadata": {
        "id": "SifJBqtf9FPf"
      },
      "execution_count": 44,
      "outputs": []
    },
    {
      "cell_type": "markdown",
      "source": [
        "#### *DataFrame* final\n",
        "\n",
        "La serie completa del precio de los biocombustibles se construye a partir de dos *dictionaries* de cada uno de los biocombustibles.\n",
        "\n",
        "En cada caso, la `key` es el período, y el `value` es el precio."
      ],
      "metadata": {
        "id": "mKYDH0l2hRAA"
      }
    },
    {
      "cell_type": "code",
      "source": [
        "biodiesel_dict = dict(zip(biodiesel[\"Período\"].tolist(), biodiesel[\"Precio\"].tolist()))"
      ],
      "metadata": {
        "id": "JWsfO-EW2sya"
      },
      "execution_count": 45,
      "outputs": []
    },
    {
      "cell_type": "code",
      "source": [
        "bioetanol_dict = dict(zip(bioetanol[\"Período\"].tolist(), bioetanol[\"Promedio\"].tolist()))"
      ],
      "metadata": {
        "id": "GGT7N9F93NIH"
      },
      "execution_count": 46,
      "outputs": []
    },
    {
      "cell_type": "markdown",
      "source": [
        "Dado que existen diferencias entre las `keys` de cada *dictionary*, éstos deben ser *mapeados* a un índice temporal que incorpore toda la información. Se denomina a este índice temporal como `biocombustibles`, y contiene los todos los meses de análisis.\n",
        "\n",
        "Se convierte a `biocombustible` en un *DataFrame* de una sola columna."
      ],
      "metadata": {
        "id": "FYIxwDN7iN3i"
      }
    },
    {
      "cell_type": "code",
      "source": [
        "biocombustibles = pd.date_range(biodiesel['Período'][0], biodiesel['Período'][len(biodiesel)-1], freq='MS').to_frame(index=False)"
      ],
      "metadata": {
        "id": "SyoO-ovPBXES"
      },
      "execution_count": 47,
      "outputs": []
    },
    {
      "cell_type": "markdown",
      "source": [
        "Se transforma dicha columna a formato `datetime`."
      ],
      "metadata": {
        "id": "CtBLSLQ_GWr7"
      }
    },
    {
      "cell_type": "code",
      "source": [
        "biocombustibles[0] = pd.to_datetime(biocombustibles[0])"
      ],
      "metadata": {
        "id": "a2No9YKDGXGB"
      },
      "execution_count": 48,
      "outputs": []
    },
    {
      "cell_type": "markdown",
      "source": [
        "Y se le agrega el nombre de \"Período\"."
      ],
      "metadata": {
        "id": "LfSwgN0qGsyr"
      }
    },
    {
      "cell_type": "code",
      "source": [
        "biocombustibles.columns = [\"Período\"]"
      ],
      "metadata": {
        "id": "ZTQ-gU1fGva3"
      },
      "execution_count": 49,
      "outputs": []
    },
    {
      "cell_type": "markdown",
      "source": [
        "Así, se pueden agregar al *DataFrame* distintas columnas, en particular:\n",
        "*   la columna \"Biodiesel\" contiene los valores mapeados del *dictionary* `biodiesel_dict`\n",
        "*   la columna \"Bioetanol\" contiene los valores mapeados del *dictionary* `bioetanol_dict`."
      ],
      "metadata": {
        "id": "CYONUmoVi5mD"
      }
    },
    {
      "cell_type": "code",
      "source": [
        "biocombustibles[\"Biodiesel\"] = biocombustibles[\"Período\"].map(biodiesel_dict)\n",
        "biocombustibles[\"Bioetanol\"] = biocombustibles[\"Período\"].map(bioetanol_dict)"
      ],
      "metadata": {
        "id": "33jKfGbBEFpT"
      },
      "execution_count": 50,
      "outputs": []
    },
    {
      "cell_type": "markdown",
      "source": [
        "Los valores `NaN` deben ser eliminados con `.fillna()` utilizando el método \"ffill\" (o *forward-fill*), que rellena los `NaN` con la última observación válida."
      ],
      "metadata": {
        "id": "c2Q-w7eLjQNs"
      }
    },
    {
      "cell_type": "code",
      "source": [
        "biocombustibles = biocombustibles.fillna(method=\"ffill\")"
      ],
      "metadata": {
        "id": "YwfUUn8o8-JA"
      },
      "execution_count": 51,
      "outputs": []
    },
    {
      "cell_type": "markdown",
      "source": [
        "El archivo `biocombustibles` es el *DataFrame* de la serie mensual del precio de los biocombustibles (bioetanol y biodiesel).\n",
        "\n",
        "A continuación, se presentan las primeras 5 filas del *DataFrame*."
      ],
      "metadata": {
        "id": "zwCDy25sjsRT"
      }
    },
    {
      "cell_type": "code",
      "source": [
        "biocombustibles.head()"
      ],
      "metadata": {
        "id": "ja-c_IohjsRV",
        "colab": {
          "base_uri": "https://localhost:8080/",
          "height": 206
        },
        "outputId": "de31bc11-918d-441c-e171-765a37d108cf"
      },
      "execution_count": 52,
      "outputs": [
        {
          "output_type": "execute_result",
          "data": {
            "text/plain": [
              "     Período  Biodiesel  Bioetanol\n",
              "0 2019-01-01  25110.126    21222.0\n",
              "1 2019-02-01  24506.760    21636.5\n",
              "2 2019-03-01  24506.760    21636.5\n",
              "3 2019-04-01  25458.324    21799.5\n",
              "4 2019-05-01  26348.754    22339.5"
            ],
            "text/html": [
              "\n",
              "  <div id=\"df-00409186-90d4-40b0-8229-fc85db87a54e\">\n",
              "    <div class=\"colab-df-container\">\n",
              "      <div>\n",
              "<style scoped>\n",
              "    .dataframe tbody tr th:only-of-type {\n",
              "        vertical-align: middle;\n",
              "    }\n",
              "\n",
              "    .dataframe tbody tr th {\n",
              "        vertical-align: top;\n",
              "    }\n",
              "\n",
              "    .dataframe thead th {\n",
              "        text-align: right;\n",
              "    }\n",
              "</style>\n",
              "<table border=\"1\" class=\"dataframe\">\n",
              "  <thead>\n",
              "    <tr style=\"text-align: right;\">\n",
              "      <th></th>\n",
              "      <th>Período</th>\n",
              "      <th>Biodiesel</th>\n",
              "      <th>Bioetanol</th>\n",
              "    </tr>\n",
              "  </thead>\n",
              "  <tbody>\n",
              "    <tr>\n",
              "      <th>0</th>\n",
              "      <td>2019-01-01</td>\n",
              "      <td>25110.126</td>\n",
              "      <td>21222.0</td>\n",
              "    </tr>\n",
              "    <tr>\n",
              "      <th>1</th>\n",
              "      <td>2019-02-01</td>\n",
              "      <td>24506.760</td>\n",
              "      <td>21636.5</td>\n",
              "    </tr>\n",
              "    <tr>\n",
              "      <th>2</th>\n",
              "      <td>2019-03-01</td>\n",
              "      <td>24506.760</td>\n",
              "      <td>21636.5</td>\n",
              "    </tr>\n",
              "    <tr>\n",
              "      <th>3</th>\n",
              "      <td>2019-04-01</td>\n",
              "      <td>25458.324</td>\n",
              "      <td>21799.5</td>\n",
              "    </tr>\n",
              "    <tr>\n",
              "      <th>4</th>\n",
              "      <td>2019-05-01</td>\n",
              "      <td>26348.754</td>\n",
              "      <td>22339.5</td>\n",
              "    </tr>\n",
              "  </tbody>\n",
              "</table>\n",
              "</div>\n",
              "      <button class=\"colab-df-convert\" onclick=\"convertToInteractive('df-00409186-90d4-40b0-8229-fc85db87a54e')\"\n",
              "              title=\"Convert this dataframe to an interactive table.\"\n",
              "              style=\"display:none;\">\n",
              "        \n",
              "  <svg xmlns=\"http://www.w3.org/2000/svg\" height=\"24px\"viewBox=\"0 0 24 24\"\n",
              "       width=\"24px\">\n",
              "    <path d=\"M0 0h24v24H0V0z\" fill=\"none\"/>\n",
              "    <path d=\"M18.56 5.44l.94 2.06.94-2.06 2.06-.94-2.06-.94-.94-2.06-.94 2.06-2.06.94zm-11 1L8.5 8.5l.94-2.06 2.06-.94-2.06-.94L8.5 2.5l-.94 2.06-2.06.94zm10 10l.94 2.06.94-2.06 2.06-.94-2.06-.94-.94-2.06-.94 2.06-2.06.94z\"/><path d=\"M17.41 7.96l-1.37-1.37c-.4-.4-.92-.59-1.43-.59-.52 0-1.04.2-1.43.59L10.3 9.45l-7.72 7.72c-.78.78-.78 2.05 0 2.83L4 21.41c.39.39.9.59 1.41.59.51 0 1.02-.2 1.41-.59l7.78-7.78 2.81-2.81c.8-.78.8-2.07 0-2.86zM5.41 20L4 18.59l7.72-7.72 1.47 1.35L5.41 20z\"/>\n",
              "  </svg>\n",
              "      </button>\n",
              "      \n",
              "  <style>\n",
              "    .colab-df-container {\n",
              "      display:flex;\n",
              "      flex-wrap:wrap;\n",
              "      gap: 12px;\n",
              "    }\n",
              "\n",
              "    .colab-df-convert {\n",
              "      background-color: #E8F0FE;\n",
              "      border: none;\n",
              "      border-radius: 50%;\n",
              "      cursor: pointer;\n",
              "      display: none;\n",
              "      fill: #1967D2;\n",
              "      height: 32px;\n",
              "      padding: 0 0 0 0;\n",
              "      width: 32px;\n",
              "    }\n",
              "\n",
              "    .colab-df-convert:hover {\n",
              "      background-color: #E2EBFA;\n",
              "      box-shadow: 0px 1px 2px rgba(60, 64, 67, 0.3), 0px 1px 3px 1px rgba(60, 64, 67, 0.15);\n",
              "      fill: #174EA6;\n",
              "    }\n",
              "\n",
              "    [theme=dark] .colab-df-convert {\n",
              "      background-color: #3B4455;\n",
              "      fill: #D2E3FC;\n",
              "    }\n",
              "\n",
              "    [theme=dark] .colab-df-convert:hover {\n",
              "      background-color: #434B5C;\n",
              "      box-shadow: 0px 1px 3px 1px rgba(0, 0, 0, 0.15);\n",
              "      filter: drop-shadow(0px 1px 2px rgba(0, 0, 0, 0.3));\n",
              "      fill: #FFFFFF;\n",
              "    }\n",
              "  </style>\n",
              "\n",
              "      <script>\n",
              "        const buttonEl =\n",
              "          document.querySelector('#df-00409186-90d4-40b0-8229-fc85db87a54e button.colab-df-convert');\n",
              "        buttonEl.style.display =\n",
              "          google.colab.kernel.accessAllowed ? 'block' : 'none';\n",
              "\n",
              "        async function convertToInteractive(key) {\n",
              "          const element = document.querySelector('#df-00409186-90d4-40b0-8229-fc85db87a54e');\n",
              "          const dataTable =\n",
              "            await google.colab.kernel.invokeFunction('convertToInteractive',\n",
              "                                                     [key], {});\n",
              "          if (!dataTable) return;\n",
              "\n",
              "          const docLinkHtml = 'Like what you see? Visit the ' +\n",
              "            '<a target=\"_blank\" href=https://colab.research.google.com/notebooks/data_table.ipynb>data table notebook</a>'\n",
              "            + ' to learn more about interactive tables.';\n",
              "          element.innerHTML = '';\n",
              "          dataTable['output_type'] = 'display_data';\n",
              "          await google.colab.output.renderOutput(dataTable, element);\n",
              "          const docLink = document.createElement('div');\n",
              "          docLink.innerHTML = docLinkHtml;\n",
              "          element.appendChild(docLink);\n",
              "        }\n",
              "      </script>\n",
              "    </div>\n",
              "  </div>\n",
              "  "
            ]
          },
          "metadata": {},
          "execution_count": 52
        }
      ]
    },
    {
      "cell_type": "markdown",
      "source": [
        "### Impuestos"
      ],
      "metadata": {
        "id": "JqLfBMO_Gwz7"
      }
    },
    {
      "cell_type": "markdown",
      "source": [
        "#### Obtención de datos\n",
        "\n",
        "Los montos de los impuestos sobre los combustibles líquidos y sobre el dióxido de carbono se publican mensualmente en un documento publicado por la Dirección Nacional de Investigaciones y Análisis Fiscal (Subsecretaría de Ingresos Públicos - Secretaría de Hacienda).\n",
        "\n",
        "Ante la ausencia de este dato, se puede recurrir a la búsqueda de los cuadros legislativos publicados por la Administración Federal de Ingresos Públicos (AFIP).\n",
        "\n",
        "El link `url_impuestos` refiere al primer documento, que contiene los montos de los impuestos hasta el mes de febrero del año 2023 (inclusive)."
      ],
      "metadata": {
        "id": "6rrAV83wYGjo"
      }
    },
    {
      "cell_type": "code",
      "source": [
        "url_impuestos = \"https://www.argentina.gob.ar/sites/default/files/impuestos_sobre_los_combustibles_al_28-02-2023.pdf\""
      ],
      "metadata": {
        "id": "gQPH1MeuG0dr"
      },
      "execution_count": 53,
      "outputs": []
    },
    {
      "cell_type": "markdown",
      "source": [
        "A partir del link del documento, mediante `Request` y `urlopen`, se *abre* la página web especificada (esto es, se *abre* el archivo `.pdf`). Luego, el comando `.read()` lee el archivo `.pdf` abierto.\n",
        "\n",
        "Nuevamente, se incluye dentro de la `Request` el *header* especificado, para evitar errores de permisos no otorgados."
      ],
      "metadata": {
        "id": "JfO1URq1aA-D"
      }
    },
    {
      "cell_type": "code",
      "source": [
        "req_impuestos = Request(\n",
        "    url_impuestos,\n",
        "    headers = {\n",
        "      'User-Agent': header\n",
        "      }\n",
        "  )\n",
        "\n",
        "pdf_impuestos = urlopen(req_impuestos)\n",
        "\n",
        "pdf_impuestos = pdf_impuestos.read()"
      ],
      "metadata": {
        "id": "ewguF7YCaB5m"
      },
      "execution_count": 54,
      "outputs": []
    },
    {
      "cell_type": "markdown",
      "source": [
        "##### Impuesto a los combustibles líquidos\n",
        "\n",
        "A partir de la *library* `tabula`, se crea un *DataFrame* con los montos del impuesto a los combustibles líquidos (ICL) desde el año 2019. Corresponde a la página 2 del archivo `.pdf` abierto y leído."
      ],
      "metadata": {
        "id": "aAXlWHnpcXFg"
      }
    },
    {
      "cell_type": "code",
      "source": [
        "ICL = tabula.read_pdf(io.BytesIO(pdf_impuestos), pages=[2])"
      ],
      "metadata": {
        "id": "0Btl9L9o-dF_",
        "colab": {
          "base_uri": "https://localhost:8080/"
        },
        "outputId": "7223211a-ce02-46a9-b77a-d63899d23ee3"
      },
      "execution_count": 55,
      "outputs": [
        {
          "output_type": "stream",
          "name": "stderr",
          "text": [
            "WARNING:tabula.io:Got stderr: Mar 02, 2023 5:29:22 PM org.apache.pdfbox.pdmodel.font.FileSystemFontProvider loadDiskCache\n",
            "WARNING: New fonts found, font cache will be re-built\n",
            "Mar 02, 2023 5:29:22 PM org.apache.pdfbox.pdmodel.font.FileSystemFontProvider <init>\n",
            "WARNING: Building on-disk font cache, this may take a while\n",
            "Mar 02, 2023 5:29:22 PM org.apache.pdfbox.pdmodel.font.FileSystemFontProvider <init>\n",
            "WARNING: Finished building on-disk font cache, found 17 fonts\n",
            "\n"
          ]
        }
      ]
    },
    {
      "cell_type": "markdown",
      "source": [
        "##### Impuesto al dióxido de carbono\n",
        "\n",
        "Igual procedimiento para los montos del impuesto al dióxido de carbono (ICO). Corresponde a la página 3 del archivo `.pdf` abierto y leído."
      ],
      "metadata": {
        "id": "WDaZlaWadbKt"
      }
    },
    {
      "cell_type": "code",
      "source": [
        "ICO = tabula.read_pdf(io.BytesIO(pdf_impuestos), pages=[3])"
      ],
      "metadata": {
        "id": "9JS018SVdjcn"
      },
      "execution_count": 56,
      "outputs": []
    },
    {
      "cell_type": "markdown",
      "source": [
        "#### Data cleaning"
      ],
      "metadata": {
        "id": "USDKDVljdx32"
      }
    },
    {
      "cell_type": "markdown",
      "source": [
        "##### General\n",
        "\n",
        "Dado que las tablas encontradas en el archivo `.pdf` son similares, se define una función (`impuesto_extract`) que obtenga solo los valores deseados para cada impuesto.\n",
        "\n",
        "Los parámetros de esta función son:\n",
        "*   `df`: *DataFrame* del que se extraen los datos.\n",
        "*   `productos`: lista de todos los nombres de los productos sobre los que se aplica el impuesto.\n",
        "*   `split_min_1`, `split_max_1`, `split_min_2` y `split_max_2`: índices para el recorte de filas.\n",
        "*   `productos_seleccionados`: lista que contiene los nombres de los productos con exenciones impositivas o regímenes diferenciales."
      ],
      "metadata": {
        "id": "yHzWcydUd3c9"
      }
    },
    {
      "cell_type": "code",
      "source": [
        "def impuesto_extract(df, productos, split_min_1, split_max_1,\n",
        "                     split_min_2, split_max_2, productos_seleccionados):\n",
        "  df = df[0][20::].dropna(subset=['Unnamed: 0']).reset_index(drop=True)\n",
        "\n",
        "  df = df.rename(columns={\n",
        "  df.columns[0]: \"Desde-Hasta\",\n",
        "  df.columns[2]: productos[1]\n",
        "  })\n",
        "  \n",
        "  df[productos[split_min_1:split_max_1]] = df[df.columns[3]].apply(lambda x: pd.Series(str(x).split(\" \")))\n",
        "  if split_min_2 != None:\n",
        "    df[productos[split_min_2:split_max_2]] = df[df.columns[5]].apply(lambda x: pd.Series(str(x).split(\" \")))\n",
        "\n",
        "  df[\"Desde\"] = pd.to_datetime(df[\"Desde-Hasta\"].str.split(\" \").apply(lambda x: x[0]), dayfirst=True)\n",
        "  df[\"Hasta\"] = pd.to_datetime(df[\"Desde-Hasta\"].str.split(\" \").apply(lambda x: x[1]), dayfirst=True)\n",
        "  \n",
        "  df['Período'] = df[['Desde', 'Hasta']].apply(lambda x: pd.date_range(x['Desde'], x['Hasta'], freq=\"MS\"), axis=1)\n",
        "  df = df.explode('Período').drop(['Desde-Hasta'], axis=1)\n",
        "  df = df.reset_index(drop=True)\n",
        "\n",
        "  df.insert(0, 'Período', df.pop('Período'))\n",
        "\n",
        "  for column in df.columns[1:]:\n",
        "    if column not in productos_seleccionados:\n",
        "      df = df.drop([column], axis=1)\n",
        "    else:\n",
        "      df[column] = df[column].str.replace(',','.')\n",
        "      df[column] = df[column].str.replace('-','0')\n",
        "      df[column] = df[column].astype(float)\n",
        "      df[column] = df[column] * 1000\n",
        "\n",
        "  return df"
      ],
      "metadata": {
        "id": "xQAB1XY6eGvB"
      },
      "execution_count": 57,
      "outputs": []
    },
    {
      "cell_type": "markdown",
      "source": [
        "Asimismo, los productos sobre los que se aplican el ICL y el ICO son similares."
      ],
      "metadata": {
        "id": "uAfuX33siZsy"
      }
    },
    {
      "cell_type": "markdown",
      "source": [
        "En el caso del ICL, los productos se replican en la lista `productos_ICL`."
      ],
      "metadata": {
        "id": "WwslQS05K9oM"
      }
    },
    {
      "cell_type": "code",
      "source": [
        "productos_ICL = [\n",
        "  \"NAFTAS SIN PLOMO, HASTA 92 RON\", \n",
        "  \"NAFTAS SIN PLOMO, DE MAS DE 92 RON\",\n",
        "  \"NAFTAS VIRGEN\",\n",
        "  \"GASOLINA NATURAL O DE PIROLISIS\",\n",
        "  \"SOLVENTE\",\n",
        "  \"AGUARRAS\",\n",
        "  \"GASOIL\",\n",
        "  \"DIESEL OIL\",\n",
        "  \"KEROSENE\",\n",
        "  \"GASOIL ZE\",\n",
        "  \"DIESEL OIL ZE\",\n",
        "  \"KEROSENE ZE\"\n",
        "]"
      ],
      "metadata": {
        "id": "jND487V0gZth"
      },
      "execution_count": 58,
      "outputs": []
    },
    {
      "cell_type": "markdown",
      "source": [
        "Para el cálculo del PPI, solo se precisa el monto a pagar por ICL de las naftas de más de 92 RON, del gasoil y del gasoil comercializado en la Zona Exenta (Ver art. 7, inc. d), de la Ley Nº 23.966). Estos productos se encuentran en la lista `seleccionados_ICL`."
      ],
      "metadata": {
        "id": "HQa9PwLmK_vA"
      }
    },
    {
      "cell_type": "code",
      "source": [
        "seleccionados_ICL = [\n",
        "    productos_ICL[1], \n",
        "    productos_ICL[6],\n",
        "    productos_ICL[9]\n",
        "]"
      ],
      "metadata": {
        "id": "7eG2v-iFLBb7"
      },
      "execution_count": 59,
      "outputs": []
    },
    {
      "cell_type": "markdown",
      "source": [
        "Los productos sobre los que aplica el ICO se replican en la lista `productos_ICO`."
      ],
      "metadata": {
        "id": "efXQyDhGj7vK"
      }
    },
    {
      "cell_type": "code",
      "source": [
        "productos_ICO = productos_ICL.copy()\n",
        "\n",
        "productos_a_modificar = [\"FUEL OIL\", \"COQUE DE PETRÓLEO\", \"CARBON MINERAL\"]\n",
        "\n",
        "for column, producto in zip(range(9, 12), productos_a_modificar):\n",
        "  productos_ICO[column] = producto"
      ],
      "metadata": {
        "id": "7bvuSL1rkPNa"
      },
      "execution_count": 60,
      "outputs": []
    },
    {
      "cell_type": "markdown",
      "source": [
        "Nuevamente, solo algunos de los productos son tratados diferencialmente, definidos en `seleccionados_ICO`."
      ],
      "metadata": {
        "id": "-C56fauULH2V"
      }
    },
    {
      "cell_type": "code",
      "source": [
        "seleccionados_ICO = [\n",
        "    productos_ICO[1], \n",
        "    productos_ICO[6]\n",
        "]"
      ],
      "metadata": {
        "id": "xkuIHCutLRbB"
      },
      "execution_count": 61,
      "outputs": []
    },
    {
      "cell_type": "markdown",
      "source": [
        "##### Impuesto a los combustibles líquidos\n",
        "\n",
        "Se ejecuta la función `impuesto_extract` utilizando como argumentos las listas `productos_ICL` y `seleccionados_ICL`."
      ],
      "metadata": {
        "id": "b8HY5MVWi1hz"
      }
    },
    {
      "cell_type": "code",
      "source": [
        "ICL = impuesto_extract(ICL, productos_ICL, 2, 8, 9, 13, seleccionados_ICL)"
      ],
      "metadata": {
        "id": "XmDLOUxYeG5l"
      },
      "execution_count": 62,
      "outputs": []
    },
    {
      "cell_type": "markdown",
      "source": [
        "Para facilitar el trabajo posterior, se renombran las columnas."
      ],
      "metadata": {
        "id": "ytMGD-amqqC4"
      }
    },
    {
      "cell_type": "code",
      "source": [
        "ICL = ICL.rename(\n",
        "  columns={\n",
        "  ICL.columns[1]: \"ICL N\",\n",
        "  ICL.columns[2]: \"ICL GO\",\n",
        "  ICL.columns[3]: \"ICL GO ZE\"\n",
        "  }\n",
        ")"
      ],
      "metadata": {
        "id": "3bSgZbV9mnvQ"
      },
      "execution_count": 63,
      "outputs": []
    },
    {
      "cell_type": "markdown",
      "source": [
        "Se especifica que el valor del ICL para la Nafta en la Zona Exenta es de 0 pesos."
      ],
      "metadata": {
        "id": "lg6ccAPcLVk9"
      }
    },
    {
      "cell_type": "code",
      "source": [
        "ICL['ICL N ZE'] = 0"
      ],
      "metadata": {
        "id": "SIjabwCkN1SF"
      },
      "execution_count": 64,
      "outputs": []
    },
    {
      "cell_type": "markdown",
      "source": [
        "Por último, se elimina/n la/s filas problemáticas."
      ],
      "metadata": {
        "id": "J7ysvEhZ-5G-"
      }
    },
    {
      "cell_type": "code",
      "source": [
        "ICL = ICL.drop([28]).reset_index(drop=True)"
      ],
      "metadata": {
        "id": "v69Nd9FSh72i"
      },
      "execution_count": 65,
      "outputs": []
    },
    {
      "cell_type": "markdown",
      "source": [
        "##### Impuesto al dióxido de carbono\n",
        "\n",
        "Análogamente, se ejecuta la función `impuesto_extract` utilizando como argumentos las listas `productos_ICO` y `seleccionados_ICO`."
      ],
      "metadata": {
        "id": "EZ_Gk26Rq-vD"
      }
    },
    {
      "cell_type": "code",
      "source": [
        "ICO = impuesto_extract(ICO, productos_ICO, 2, 10, None, None, seleccionados_ICO)"
      ],
      "metadata": {
        "id": "0sPCVh_RhH4z"
      },
      "execution_count": 66,
      "outputs": []
    },
    {
      "cell_type": "markdown",
      "source": [
        "Nuevamente, se renombran las columnas."
      ],
      "metadata": {
        "id": "skogmVb6rNJQ"
      }
    },
    {
      "cell_type": "code",
      "source": [
        "ICO = ICO.rename(\n",
        "  columns={\n",
        "  ICO.columns[1]: \"ICO N\",\n",
        "  ICO.columns[2]: \"ICO GO\"\n",
        "  }\n",
        ")"
      ],
      "metadata": {
        "id": "bIQsrwaMUOmJ"
      },
      "execution_count": 67,
      "outputs": []
    },
    {
      "cell_type": "markdown",
      "source": [
        "Dado que la tabla original contiene omisiones, algunos valores en el *DataFrame* son erróneos. Se modifican manualmente."
      ],
      "metadata": {
        "id": "zd_CKN39sAqY"
      }
    },
    {
      "cell_type": "code",
      "source": [
        "ICO[ICO.columns[1]][0] = 545\n",
        "ICO[ICO.columns[1]][1] = 545\n",
        "ICO[ICO.columns[2]][0] = 626\n",
        "ICO[ICO.columns[2]][1] = 626\n",
        "ICO[ICO.columns[0]][37] = pd.to_datetime(\"2021-12-01\")"
      ],
      "metadata": {
        "id": "7D06Lx47ZG_b",
        "colab": {
          "base_uri": "https://localhost:8080/"
        },
        "outputId": "9b2ab533-ec47-4cff-ee30-5c9a6d63e875"
      },
      "execution_count": 68,
      "outputs": [
        {
          "output_type": "stream",
          "name": "stderr",
          "text": [
            "<ipython-input-68-46d9a0b9cbcc>:1: SettingWithCopyWarning: \n",
            "A value is trying to be set on a copy of a slice from a DataFrame\n",
            "\n",
            "See the caveats in the documentation: https://pandas.pydata.org/pandas-docs/stable/user_guide/indexing.html#returning-a-view-versus-a-copy\n",
            "  ICO[ICO.columns[1]][0] = 545\n",
            "<ipython-input-68-46d9a0b9cbcc>:2: SettingWithCopyWarning: \n",
            "A value is trying to be set on a copy of a slice from a DataFrame\n",
            "\n",
            "See the caveats in the documentation: https://pandas.pydata.org/pandas-docs/stable/user_guide/indexing.html#returning-a-view-versus-a-copy\n",
            "  ICO[ICO.columns[1]][1] = 545\n",
            "<ipython-input-68-46d9a0b9cbcc>:3: SettingWithCopyWarning: \n",
            "A value is trying to be set on a copy of a slice from a DataFrame\n",
            "\n",
            "See the caveats in the documentation: https://pandas.pydata.org/pandas-docs/stable/user_guide/indexing.html#returning-a-view-versus-a-copy\n",
            "  ICO[ICO.columns[2]][0] = 626\n",
            "<ipython-input-68-46d9a0b9cbcc>:4: SettingWithCopyWarning: \n",
            "A value is trying to be set on a copy of a slice from a DataFrame\n",
            "\n",
            "See the caveats in the documentation: https://pandas.pydata.org/pandas-docs/stable/user_guide/indexing.html#returning-a-view-versus-a-copy\n",
            "  ICO[ICO.columns[2]][1] = 626\n",
            "<ipython-input-68-46d9a0b9cbcc>:5: SettingWithCopyWarning: \n",
            "A value is trying to be set on a copy of a slice from a DataFrame\n",
            "\n",
            "See the caveats in the documentation: https://pandas.pydata.org/pandas-docs/stable/user_guide/indexing.html#returning-a-view-versus-a-copy\n",
            "  ICO[ICO.columns[0]][37] = pd.to_datetime(\"2021-12-01\")\n"
          ]
        }
      ]
    },
    {
      "cell_type": "markdown",
      "source": [
        "Por último, se elimina/n la/s filas problemáticas."
      ],
      "metadata": {
        "id": "xPCkPI07_c_y"
      }
    },
    {
      "cell_type": "code",
      "source": [
        "ICO = ICO.drop([24, 28, 48], axis=0).reset_index(drop=True)"
      ],
      "metadata": {
        "id": "QqAr_hG4hpgY"
      },
      "execution_count": 69,
      "outputs": []
    },
    {
      "cell_type": "markdown",
      "source": [
        "#### DataFrame final"
      ],
      "metadata": {
        "id": "8M-Q2axOmrCd"
      }
    },
    {
      "cell_type": "markdown",
      "source": [
        "Se juntan ambos *DataFrames* en un único *DataFrame* llamado `impuestos`.\n",
        "\n",
        "El archivo `impuestos` es el *DataFrame* de la serie mensual del monto fijo de los impuestos al combustible líquido (ICL) y al dióxido de carbono (ICO)."
      ],
      "metadata": {
        "id": "GHkPbO_C_fnb"
      }
    },
    {
      "cell_type": "code",
      "source": [
        "impuestos = ICL.merge(ICO, on=\"Período\")"
      ],
      "metadata": {
        "id": "N57Z7zfWuhQ7"
      },
      "execution_count": 70,
      "outputs": []
    },
    {
      "cell_type": "markdown",
      "source": [
        "A continuación, se presentan las primeras 5 filas del *DataFrame*."
      ],
      "metadata": {
        "id": "gTHOZP_I_rat"
      }
    },
    {
      "cell_type": "code",
      "source": [
        "impuestos.head()"
      ],
      "metadata": {
        "id": "GadFwmr7LlS4",
        "colab": {
          "base_uri": "https://localhost:8080/",
          "height": 206
        },
        "outputId": "38fcef31-8cbe-4183-be91-77ac87b33139"
      },
      "execution_count": 71,
      "outputs": [
        {
          "output_type": "execute_result",
          "data": {
            "text/plain": [
              "     Período   ICL N  ICL GO  ICL GO ZE  ICL N ZE  ICO N  ICO GO\n",
              "0 2019-01-01  8903.0  5491.0     2972.0         0  545.0   626.0\n",
              "1 2019-02-01  8903.0  5491.0     2972.0         0  545.0   626.0\n",
              "2 2019-03-01  9388.0  5773.0     3317.0         0  608.0   699.0\n",
              "3 2019-04-01  9936.0  6128.0     3317.0         0  608.0   699.0\n",
              "4 2019-05-01  9936.0  6128.0     3317.0         0  608.0   699.0"
            ],
            "text/html": [
              "\n",
              "  <div id=\"df-d9a16bc1-4565-4aaf-b4a9-93439088c7cd\">\n",
              "    <div class=\"colab-df-container\">\n",
              "      <div>\n",
              "<style scoped>\n",
              "    .dataframe tbody tr th:only-of-type {\n",
              "        vertical-align: middle;\n",
              "    }\n",
              "\n",
              "    .dataframe tbody tr th {\n",
              "        vertical-align: top;\n",
              "    }\n",
              "\n",
              "    .dataframe thead th {\n",
              "        text-align: right;\n",
              "    }\n",
              "</style>\n",
              "<table border=\"1\" class=\"dataframe\">\n",
              "  <thead>\n",
              "    <tr style=\"text-align: right;\">\n",
              "      <th></th>\n",
              "      <th>Período</th>\n",
              "      <th>ICL N</th>\n",
              "      <th>ICL GO</th>\n",
              "      <th>ICL GO ZE</th>\n",
              "      <th>ICL N ZE</th>\n",
              "      <th>ICO N</th>\n",
              "      <th>ICO GO</th>\n",
              "    </tr>\n",
              "  </thead>\n",
              "  <tbody>\n",
              "    <tr>\n",
              "      <th>0</th>\n",
              "      <td>2019-01-01</td>\n",
              "      <td>8903.0</td>\n",
              "      <td>5491.0</td>\n",
              "      <td>2972.0</td>\n",
              "      <td>0</td>\n",
              "      <td>545.0</td>\n",
              "      <td>626.0</td>\n",
              "    </tr>\n",
              "    <tr>\n",
              "      <th>1</th>\n",
              "      <td>2019-02-01</td>\n",
              "      <td>8903.0</td>\n",
              "      <td>5491.0</td>\n",
              "      <td>2972.0</td>\n",
              "      <td>0</td>\n",
              "      <td>545.0</td>\n",
              "      <td>626.0</td>\n",
              "    </tr>\n",
              "    <tr>\n",
              "      <th>2</th>\n",
              "      <td>2019-03-01</td>\n",
              "      <td>9388.0</td>\n",
              "      <td>5773.0</td>\n",
              "      <td>3317.0</td>\n",
              "      <td>0</td>\n",
              "      <td>608.0</td>\n",
              "      <td>699.0</td>\n",
              "    </tr>\n",
              "    <tr>\n",
              "      <th>3</th>\n",
              "      <td>2019-04-01</td>\n",
              "      <td>9936.0</td>\n",
              "      <td>6128.0</td>\n",
              "      <td>3317.0</td>\n",
              "      <td>0</td>\n",
              "      <td>608.0</td>\n",
              "      <td>699.0</td>\n",
              "    </tr>\n",
              "    <tr>\n",
              "      <th>4</th>\n",
              "      <td>2019-05-01</td>\n",
              "      <td>9936.0</td>\n",
              "      <td>6128.0</td>\n",
              "      <td>3317.0</td>\n",
              "      <td>0</td>\n",
              "      <td>608.0</td>\n",
              "      <td>699.0</td>\n",
              "    </tr>\n",
              "  </tbody>\n",
              "</table>\n",
              "</div>\n",
              "      <button class=\"colab-df-convert\" onclick=\"convertToInteractive('df-d9a16bc1-4565-4aaf-b4a9-93439088c7cd')\"\n",
              "              title=\"Convert this dataframe to an interactive table.\"\n",
              "              style=\"display:none;\">\n",
              "        \n",
              "  <svg xmlns=\"http://www.w3.org/2000/svg\" height=\"24px\"viewBox=\"0 0 24 24\"\n",
              "       width=\"24px\">\n",
              "    <path d=\"M0 0h24v24H0V0z\" fill=\"none\"/>\n",
              "    <path d=\"M18.56 5.44l.94 2.06.94-2.06 2.06-.94-2.06-.94-.94-2.06-.94 2.06-2.06.94zm-11 1L8.5 8.5l.94-2.06 2.06-.94-2.06-.94L8.5 2.5l-.94 2.06-2.06.94zm10 10l.94 2.06.94-2.06 2.06-.94-2.06-.94-.94-2.06-.94 2.06-2.06.94z\"/><path d=\"M17.41 7.96l-1.37-1.37c-.4-.4-.92-.59-1.43-.59-.52 0-1.04.2-1.43.59L10.3 9.45l-7.72 7.72c-.78.78-.78 2.05 0 2.83L4 21.41c.39.39.9.59 1.41.59.51 0 1.02-.2 1.41-.59l7.78-7.78 2.81-2.81c.8-.78.8-2.07 0-2.86zM5.41 20L4 18.59l7.72-7.72 1.47 1.35L5.41 20z\"/>\n",
              "  </svg>\n",
              "      </button>\n",
              "      \n",
              "  <style>\n",
              "    .colab-df-container {\n",
              "      display:flex;\n",
              "      flex-wrap:wrap;\n",
              "      gap: 12px;\n",
              "    }\n",
              "\n",
              "    .colab-df-convert {\n",
              "      background-color: #E8F0FE;\n",
              "      border: none;\n",
              "      border-radius: 50%;\n",
              "      cursor: pointer;\n",
              "      display: none;\n",
              "      fill: #1967D2;\n",
              "      height: 32px;\n",
              "      padding: 0 0 0 0;\n",
              "      width: 32px;\n",
              "    }\n",
              "\n",
              "    .colab-df-convert:hover {\n",
              "      background-color: #E2EBFA;\n",
              "      box-shadow: 0px 1px 2px rgba(60, 64, 67, 0.3), 0px 1px 3px 1px rgba(60, 64, 67, 0.15);\n",
              "      fill: #174EA6;\n",
              "    }\n",
              "\n",
              "    [theme=dark] .colab-df-convert {\n",
              "      background-color: #3B4455;\n",
              "      fill: #D2E3FC;\n",
              "    }\n",
              "\n",
              "    [theme=dark] .colab-df-convert:hover {\n",
              "      background-color: #434B5C;\n",
              "      box-shadow: 0px 1px 3px 1px rgba(0, 0, 0, 0.15);\n",
              "      filter: drop-shadow(0px 1px 2px rgba(0, 0, 0, 0.3));\n",
              "      fill: #FFFFFF;\n",
              "    }\n",
              "  </style>\n",
              "\n",
              "      <script>\n",
              "        const buttonEl =\n",
              "          document.querySelector('#df-d9a16bc1-4565-4aaf-b4a9-93439088c7cd button.colab-df-convert');\n",
              "        buttonEl.style.display =\n",
              "          google.colab.kernel.accessAllowed ? 'block' : 'none';\n",
              "\n",
              "        async function convertToInteractive(key) {\n",
              "          const element = document.querySelector('#df-d9a16bc1-4565-4aaf-b4a9-93439088c7cd');\n",
              "          const dataTable =\n",
              "            await google.colab.kernel.invokeFunction('convertToInteractive',\n",
              "                                                     [key], {});\n",
              "          if (!dataTable) return;\n",
              "\n",
              "          const docLinkHtml = 'Like what you see? Visit the ' +\n",
              "            '<a target=\"_blank\" href=https://colab.research.google.com/notebooks/data_table.ipynb>data table notebook</a>'\n",
              "            + ' to learn more about interactive tables.';\n",
              "          element.innerHTML = '';\n",
              "          dataTable['output_type'] = 'display_data';\n",
              "          await google.colab.output.renderOutput(dataTable, element);\n",
              "          const docLink = document.createElement('div');\n",
              "          docLink.innerHTML = docLinkHtml;\n",
              "          element.appendChild(docLink);\n",
              "        }\n",
              "      </script>\n",
              "    </div>\n",
              "  </div>\n",
              "  "
            ]
          },
          "metadata": {},
          "execution_count": 71
        }
      ]
    },
    {
      "cell_type": "markdown",
      "source": [
        "### Índice de flete terrestre"
      ],
      "metadata": {
        "id": "cgHaANmqAMyf"
      }
    },
    {
      "cell_type": "markdown",
      "source": [
        "#### Obtención y limpieza de datos\n",
        "\n",
        "El Índice de flete terrestre es un índice de costos de transporte, que -a partir del estudio de cada uno de los insumos del rubro del transporte- genera una aproximación a las variaciones mensuales del costo del transporte.\n",
        "\n",
        "La serie histórica más completa y actualizada de este índice se encuentra en el archivo \"Índices de costos logísticos y de transporte automotor de cargas\", publicado por el Observatorio Nacional de Datos de Transporte (ONDaT) de la Universidad Tecnológica Nacional.\n",
        "\n",
        "El link `url_indice` refiere a la última versión de dicha publicación."
      ],
      "metadata": {
        "id": "ALZJkcbbQLDh"
      }
    },
    {
      "cell_type": "code",
      "source": [
        "url_indice = \"http://ondat.fra.utn.edu.ar/wp-content/uploads/2021/09/Indice_FADEEAC_012022.xlsx\""
      ],
      "metadata": {
        "id": "YcnTyV0XAC8Q"
      },
      "execution_count": 72,
      "outputs": []
    },
    {
      "cell_type": "markdown",
      "source": [
        "Con la *library* `pandas`, se lee la hoja \"2.1.5.1\" del archivo correspondiente, ignorando las primeras 12 filas y recortando el *DataFrame* hasta la fila 122."
      ],
      "metadata": {
        "id": "UMPnoNiVM3rW"
      }
    },
    {
      "cell_type": "code",
      "source": [
        "flete = pd.read_excel(url_indice, sheet_name=\"2.1.5.1\", skiprows=12, usecols=[\"Unnamed: 0\", \"Unnamed: 1\", \"Unnamed: 13\"])[0:122]"
      ],
      "metadata": {
        "id": "T_7fVZV1AC-9"
      },
      "execution_count": 73,
      "outputs": []
    },
    {
      "cell_type": "markdown",
      "source": [
        "Se actualiza el nombre de las columnas del *DataFrame*."
      ],
      "metadata": {
        "id": "XbQx8uFpNFH-"
      }
    },
    {
      "cell_type": "code",
      "source": [
        "flete.columns = [\"Año\", \"Mes\", \"Índice de flete terrestre\"]"
      ],
      "metadata": {
        "id": "GGCltt5GSON5"
      },
      "execution_count": 74,
      "outputs": []
    },
    {
      "cell_type": "markdown",
      "source": [
        "Los valores `NaN` deben ser eliminados con `.fillna()` utilizando el método \"ffill\" (o *forward-fill*), que rellena los `NaN` con la última observación válida."
      ],
      "metadata": {
        "id": "xjQjYgumQEIx"
      }
    },
    {
      "cell_type": "code",
      "source": [
        "flete = flete.fillna(method=\"ffill\")"
      ],
      "metadata": {
        "id": "J8sanXMtSqUq"
      },
      "execution_count": 75,
      "outputs": []
    },
    {
      "cell_type": "markdown",
      "source": [
        "Se crea la columna \"Período\", que es una conjunción entre las columnas \"Mes\" y \"Año\"."
      ],
      "metadata": {
        "id": "PuBbOBRsQIYJ"
      }
    },
    {
      "cell_type": "code",
      "source": [
        "flete[\"Período\"] = flete[\"Mes\"].astype(str) + \" - \" + flete[\"Año\"].astype(str)"
      ],
      "metadata": {
        "id": "8oyIUaUATAd5"
      },
      "execution_count": 76,
      "outputs": []
    },
    {
      "cell_type": "markdown",
      "source": [
        "Al igual que en el caso de los biocombustibles, se deben cambiar los meses del índice temporal por su equivalente en ingles.\n",
        "\n",
        "Con `mes_month` ya definido, se reemplaza cada valor en forma de cadena de texto."
      ],
      "metadata": {
        "id": "7LpnEvl3QP4L"
      }
    },
    {
      "cell_type": "code",
      "source": [
        "for mes, month in mes_month.items():\n",
        "  flete[\"Período\"] = flete[\"Período\"].str.replace(mes, month, regex=False)"
      ],
      "metadata": {
        "id": "EJVFh7u-ADCJ"
      },
      "execution_count": 77,
      "outputs": []
    },
    {
      "cell_type": "markdown",
      "source": [
        "Finalmente, se convierte la columna \"Período\" a formato `datetime`."
      ],
      "metadata": {
        "id": "cEZ4gYPPQhLp"
      }
    },
    {
      "cell_type": "code",
      "source": [
        "flete[\"Período\"] = pd.to_datetime(flete[\"Período\"])"
      ],
      "metadata": {
        "id": "PtNniY6EQmrK"
      },
      "execution_count": 78,
      "outputs": []
    },
    {
      "cell_type": "markdown",
      "source": [
        "Se eliminan columnas innecesarias."
      ],
      "metadata": {
        "id": "_0IiOyXeQvf1"
      }
    },
    {
      "cell_type": "code",
      "source": [
        "flete = flete.loc[:, [flete.columns[3], flete.columns[2]]]"
      ],
      "metadata": {
        "id": "yRoacpmpppbF"
      },
      "execution_count": 79,
      "outputs": []
    },
    {
      "cell_type": "markdown",
      "source": [
        "#### Incrementos\n",
        "\n",
        "La publicación y difusión del archivo \"Índices de costos logísticos y de transporte automotor de cargas\" del ONDaT (UTN - FRA) fue discontinuada en febrero del año 2022.\n",
        "\n",
        "Por ello, a partir de dicho mes, los incrementos mensuales del índice deben efectuarse manualmente a partir de la información publicada por la Federación Argentina de Entidades Empresarias del Autotransporte de Cargas (FADEEAC).\n",
        "\n",
        "En este sentido, el link `url_incrementos_2022` contiene el archivo final de los incrementos mensuales del nivel general del índice durante el año"
      ],
      "metadata": {
        "id": "PRHEFJMGQ1Iq"
      }
    },
    {
      "cell_type": "code",
      "source": [
        "url_incrementos_2022 = \"https://www.fadeeac.org.ar/wp-content/uploads/2023/01/ENERO-A-DICIEMBRE-2022.pdf\""
      ],
      "metadata": {
        "id": "xTTBK9WGU05m"
      },
      "execution_count": 80,
      "outputs": []
    },
    {
      "cell_type": "markdown",
      "source": [
        "El link `url_incrementos_2023` refiere al mismo archivo para los datos del año 2023."
      ],
      "metadata": {
        "id": "9wbeaXGGR2OG"
      }
    },
    {
      "cell_type": "code",
      "source": [
        "url_incrementos_2023 = \"https://www.fadeeac.org.ar/wp-content/uploads/2023/02/Enero-2023.pdf\""
      ],
      "metadata": {
        "id": "cuxyM7EaChFf"
      },
      "execution_count": 81,
      "outputs": []
    },
    {
      "cell_type": "markdown",
      "source": [
        "##### Obtención y limpieza de datos\n",
        "\n",
        "Se define la función `extract_incrementos` para, a partir del link especificado en cada una de las celdas anteriores, extraer en forma de lista los incrementos de cada año.\n",
        "\n",
        "Los parámetros de esta función son:\n",
        "*   `url_incrementos`: link que remite al archivo del cual extraer la información.\n",
        "*   `incrementos_list`: lista vacía donde almacenar la información recopilada."
      ],
      "metadata": {
        "id": "JkE4MpUySE7z"
      }
    },
    {
      "cell_type": "code",
      "source": [
        "def extract_incrementos(url_incrementos, incrementos_list):\n",
        "  req_incrementos = Request(\n",
        "    url_incrementos,\n",
        "    headers = {\n",
        "      'User-Agent': header\n",
        "      }\n",
        "  )\n",
        "  incrementos_list = urlopen(req_incrementos)\n",
        "  incrementos_list = incrementos_list.read()\n",
        "  incrementos_list = tabula.read_pdf(io.BytesIO(incrementos_list), pages=[1])\n",
        "  incrementos_list = incrementos_list[0]\n",
        "  selected_rows = [2, 14]\n",
        "  incrementos_list = incrementos_list.loc[selected_rows, incrementos_list.columns[6]:incrementos_list.columns[16]]\n",
        "  incrementos_list = incrementos_list.iloc[1].tolist()\n",
        "  incrementos_list = [incremento.replace(\"%\", \"\") for incremento in incrementos_list]\n",
        "  incrementos_list = [incremento.replace(\",\", \".\") for incremento in incrementos_list]\n",
        "  incrementos_list = [float(incremento) for incremento in incrementos_list]\n",
        "  return incrementos_list"
      ],
      "metadata": {
        "id": "KmxjQ4G1EFrX"
      },
      "execution_count": 82,
      "outputs": []
    },
    {
      "cell_type": "markdown",
      "source": [
        "Se definen dos listas vacías, una para almacenar los incrementos del año 2022 (`incrementos_2022`) y otra para el 2023 (`incrementos_2023`)."
      ],
      "metadata": {
        "id": "Ueb5sWiTSk5E"
      }
    },
    {
      "cell_type": "code",
      "source": [
        "incrementos_2022, incrementos_2023 = [], []"
      ],
      "metadata": {
        "id": "hzwo8rnEYeRy"
      },
      "execution_count": 83,
      "outputs": []
    },
    {
      "cell_type": "markdown",
      "source": [
        "Se ejecuta la función `extract_incrementos` con los parámetros antes definidos para el año 2022."
      ],
      "metadata": {
        "id": "t02IqJmYSyp5"
      }
    },
    {
      "cell_type": "code",
      "source": [
        "incrementos_2022 = extract_incrementos(url_incrementos_2022, incrementos_2022)"
      ],
      "metadata": {
        "id": "07UnVtMtEyQY"
      },
      "execution_count": 84,
      "outputs": []
    },
    {
      "cell_type": "markdown",
      "source": [
        "Dado que el valor de los incrementos del año 2023 corresponde solo al mes de enero, se explicita solamente dicho valor."
      ],
      "metadata": {
        "id": "DefqIK5oS9FF"
      }
    },
    {
      "cell_type": "code",
      "source": [
        "incrementos_2023 = [5.5]"
      ],
      "metadata": {
        "id": "lZ-oOI1IGVsf"
      },
      "execution_count": 85,
      "outputs": []
    },
    {
      "cell_type": "markdown",
      "source": [
        "La totalidad de los incrementos es la suma entre ambas listas."
      ],
      "metadata": {
        "id": "7IhPofuxVriv"
      }
    },
    {
      "cell_type": "code",
      "source": [
        "incrementos = incrementos_2022 + incrementos_2023"
      ],
      "metadata": {
        "id": "JhMCjWs6gwIR"
      },
      "execution_count": 86,
      "outputs": []
    },
    {
      "cell_type": "markdown",
      "source": [
        "#### *DataFrame* final\n",
        "\n",
        "Se agrega una nueva fila para cada uno de los valores *extras* recopilados en la lista `incrementos`."
      ],
      "metadata": {
        "id": "-Piol5f-VuOd"
      }
    },
    {
      "cell_type": "code",
      "source": [
        "for i, incremento in zip(range(len(flete), len(flete) + len(incrementos)), incrementos):\n",
        "  flete.loc[i] = [pd.to_datetime(flete[flete.columns[0]][i-1]) + pd.DateOffset(months=1), \n",
        "                  flete[flete.columns[1]][i-1] * (1 + incremento/100)]"
      ],
      "metadata": {
        "id": "xaVBzCC9GjDR"
      },
      "execution_count": 87,
      "outputs": []
    },
    {
      "cell_type": "markdown",
      "source": [
        "Dado que el análisis comienza en el año 2019, se eliminan filas innecesarias (anteriores a dicho año) y se reseta el índice."
      ],
      "metadata": {
        "id": "WVV91OKgWPt1"
      }
    },
    {
      "cell_type": "code",
      "source": [
        "flete = flete[85::].reset_index(drop=True)"
      ],
      "metadata": {
        "id": "AP-CsEW3UPh-"
      },
      "execution_count": 88,
      "outputs": []
    },
    {
      "cell_type": "markdown",
      "source": [
        "Se efectúa un cambio de base del índice, generando un índice en base \"dic. 2020 = 100\"."
      ],
      "metadata": {
        "id": "dBbWw7E8W993"
      }
    },
    {
      "cell_type": "code",
      "source": [
        "flete[flete.columns[1]] = flete[flete.columns[1]] / flete[flete.columns[1]][23] * 100"
      ],
      "metadata": {
        "id": "g8LT8BrubGtz"
      },
      "execution_count": 89,
      "outputs": []
    },
    {
      "cell_type": "markdown",
      "source": [
        "A continuación, se presentan las primeras 5 filas del *DataFrame*."
      ],
      "metadata": {
        "id": "KBmUSabiXNCT"
      }
    },
    {
      "cell_type": "code",
      "source": [
        "flete.head()"
      ],
      "metadata": {
        "id": "3Lzto3gEbGwp",
        "colab": {
          "base_uri": "https://localhost:8080/",
          "height": 206
        },
        "outputId": "c231c80f-6629-4f33-d5ea-7dc2d7f583ef"
      },
      "execution_count": 90,
      "outputs": [
        {
          "output_type": "execute_result",
          "data": {
            "text/plain": [
              "     Período  Índice de flete terrestre\n",
              "0 2019-01-01                  51.994786\n",
              "1 2019-02-01                  51.880397\n",
              "2 2019-03-01                  56.357675\n",
              "3 2019-04-01                  57.710260\n",
              "4 2019-05-01                  59.331918"
            ],
            "text/html": [
              "\n",
              "  <div id=\"df-910d1459-9179-43a7-96ce-67c82ff97b6e\">\n",
              "    <div class=\"colab-df-container\">\n",
              "      <div>\n",
              "<style scoped>\n",
              "    .dataframe tbody tr th:only-of-type {\n",
              "        vertical-align: middle;\n",
              "    }\n",
              "\n",
              "    .dataframe tbody tr th {\n",
              "        vertical-align: top;\n",
              "    }\n",
              "\n",
              "    .dataframe thead th {\n",
              "        text-align: right;\n",
              "    }\n",
              "</style>\n",
              "<table border=\"1\" class=\"dataframe\">\n",
              "  <thead>\n",
              "    <tr style=\"text-align: right;\">\n",
              "      <th></th>\n",
              "      <th>Período</th>\n",
              "      <th>Índice de flete terrestre</th>\n",
              "    </tr>\n",
              "  </thead>\n",
              "  <tbody>\n",
              "    <tr>\n",
              "      <th>0</th>\n",
              "      <td>2019-01-01</td>\n",
              "      <td>51.994786</td>\n",
              "    </tr>\n",
              "    <tr>\n",
              "      <th>1</th>\n",
              "      <td>2019-02-01</td>\n",
              "      <td>51.880397</td>\n",
              "    </tr>\n",
              "    <tr>\n",
              "      <th>2</th>\n",
              "      <td>2019-03-01</td>\n",
              "      <td>56.357675</td>\n",
              "    </tr>\n",
              "    <tr>\n",
              "      <th>3</th>\n",
              "      <td>2019-04-01</td>\n",
              "      <td>57.710260</td>\n",
              "    </tr>\n",
              "    <tr>\n",
              "      <th>4</th>\n",
              "      <td>2019-05-01</td>\n",
              "      <td>59.331918</td>\n",
              "    </tr>\n",
              "  </tbody>\n",
              "</table>\n",
              "</div>\n",
              "      <button class=\"colab-df-convert\" onclick=\"convertToInteractive('df-910d1459-9179-43a7-96ce-67c82ff97b6e')\"\n",
              "              title=\"Convert this dataframe to an interactive table.\"\n",
              "              style=\"display:none;\">\n",
              "        \n",
              "  <svg xmlns=\"http://www.w3.org/2000/svg\" height=\"24px\"viewBox=\"0 0 24 24\"\n",
              "       width=\"24px\">\n",
              "    <path d=\"M0 0h24v24H0V0z\" fill=\"none\"/>\n",
              "    <path d=\"M18.56 5.44l.94 2.06.94-2.06 2.06-.94-2.06-.94-.94-2.06-.94 2.06-2.06.94zm-11 1L8.5 8.5l.94-2.06 2.06-.94-2.06-.94L8.5 2.5l-.94 2.06-2.06.94zm10 10l.94 2.06.94-2.06 2.06-.94-2.06-.94-.94-2.06-.94 2.06-2.06.94z\"/><path d=\"M17.41 7.96l-1.37-1.37c-.4-.4-.92-.59-1.43-.59-.52 0-1.04.2-1.43.59L10.3 9.45l-7.72 7.72c-.78.78-.78 2.05 0 2.83L4 21.41c.39.39.9.59 1.41.59.51 0 1.02-.2 1.41-.59l7.78-7.78 2.81-2.81c.8-.78.8-2.07 0-2.86zM5.41 20L4 18.59l7.72-7.72 1.47 1.35L5.41 20z\"/>\n",
              "  </svg>\n",
              "      </button>\n",
              "      \n",
              "  <style>\n",
              "    .colab-df-container {\n",
              "      display:flex;\n",
              "      flex-wrap:wrap;\n",
              "      gap: 12px;\n",
              "    }\n",
              "\n",
              "    .colab-df-convert {\n",
              "      background-color: #E8F0FE;\n",
              "      border: none;\n",
              "      border-radius: 50%;\n",
              "      cursor: pointer;\n",
              "      display: none;\n",
              "      fill: #1967D2;\n",
              "      height: 32px;\n",
              "      padding: 0 0 0 0;\n",
              "      width: 32px;\n",
              "    }\n",
              "\n",
              "    .colab-df-convert:hover {\n",
              "      background-color: #E2EBFA;\n",
              "      box-shadow: 0px 1px 2px rgba(60, 64, 67, 0.3), 0px 1px 3px 1px rgba(60, 64, 67, 0.15);\n",
              "      fill: #174EA6;\n",
              "    }\n",
              "\n",
              "    [theme=dark] .colab-df-convert {\n",
              "      background-color: #3B4455;\n",
              "      fill: #D2E3FC;\n",
              "    }\n",
              "\n",
              "    [theme=dark] .colab-df-convert:hover {\n",
              "      background-color: #434B5C;\n",
              "      box-shadow: 0px 1px 3px 1px rgba(0, 0, 0, 0.15);\n",
              "      filter: drop-shadow(0px 1px 2px rgba(0, 0, 0, 0.3));\n",
              "      fill: #FFFFFF;\n",
              "    }\n",
              "  </style>\n",
              "\n",
              "      <script>\n",
              "        const buttonEl =\n",
              "          document.querySelector('#df-910d1459-9179-43a7-96ce-67c82ff97b6e button.colab-df-convert');\n",
              "        buttonEl.style.display =\n",
              "          google.colab.kernel.accessAllowed ? 'block' : 'none';\n",
              "\n",
              "        async function convertToInteractive(key) {\n",
              "          const element = document.querySelector('#df-910d1459-9179-43a7-96ce-67c82ff97b6e');\n",
              "          const dataTable =\n",
              "            await google.colab.kernel.invokeFunction('convertToInteractive',\n",
              "                                                     [key], {});\n",
              "          if (!dataTable) return;\n",
              "\n",
              "          const docLinkHtml = 'Like what you see? Visit the ' +\n",
              "            '<a target=\"_blank\" href=https://colab.research.google.com/notebooks/data_table.ipynb>data table notebook</a>'\n",
              "            + ' to learn more about interactive tables.';\n",
              "          element.innerHTML = '';\n",
              "          dataTable['output_type'] = 'display_data';\n",
              "          await google.colab.output.renderOutput(dataTable, element);\n",
              "          const docLink = document.createElement('div');\n",
              "          docLink.innerHTML = docLinkHtml;\n",
              "          element.appendChild(docLink);\n",
              "        }\n",
              "      </script>\n",
              "    </div>\n",
              "  </div>\n",
              "  "
            ]
          },
          "metadata": {},
          "execution_count": 90
        }
      ]
    },
    {
      "cell_type": "markdown",
      "source": [
        "## Cálculo Precio de Paridad de Importación\n",
        "\n",
        "Una vez definidos y computados los valores para los componentes del Precio de Paridad de Importación, se puede calular efectivamente la serie de tiempo del estadístico."
      ],
      "metadata": {
        "id": "tz6qCjMzuVj6"
      }
    },
    {
      "cell_type": "markdown",
      "source": [
        "Se comienza por crear dos listas: `productos` y `productos_ZE`, que contendrán los nombres comerciales (de venta al público) de los productos, y sus variantes en la Zona Exenta de impuestos."
      ],
      "metadata": {
        "id": "zYFVKKb_bsX5"
      }
    },
    {
      "cell_type": "code",
      "source": [
        "productos = ['Gas Oil Grado 2', 'Gas Oil Grado 3', 'Nafta (súper) entre 92 y 95 Ron', 'Nafta (premium) de más de 95 Ron']"
      ],
      "metadata": {
        "id": "OmSvuhThMERq"
      },
      "execution_count": 91,
      "outputs": []
    },
    {
      "cell_type": "code",
      "source": [
        "productos_ZE = []\n",
        "for producto in productos:\n",
        "  productos_ZE.append(producto+\" - ZE\")"
      ],
      "metadata": {
        "id": "3JIdinuNh1Un"
      },
      "execution_count": 92,
      "outputs": []
    },
    {
      "cell_type": "markdown",
      "source": [
        "Además, se agrupan en una lista, `provincias`, todas las provincias que formarán parte del análisis."
      ],
      "metadata": {
        "id": "_uGdAKr8oNyf"
      }
    },
    {
      "cell_type": "code",
      "source": [
        "provincias = ['BUENOS AIRES', 'CAPITAL FEDERAL', 'CORDOBA', 'CORRIENTES', 'MENDOZA', 'RIO NEGRO', 'SALTA']"
      ],
      "metadata": {
        "id": "YzG3AAyhoVD0"
      },
      "execution_count": 93,
      "outputs": []
    },
    {
      "cell_type": "markdown",
      "source": [
        "Por último, se computan los márgenes minoristas para cada producto, y se los agrupa en la lista `márgenes`."
      ],
      "metadata": {
        "id": "Dip8rBArsOPp"
      }
    },
    {
      "cell_type": "code",
      "source": [
        "margen_GO2 = 0.094\n",
        "margen_GO3 = 0.113\n",
        "margen_NS = 0.119\n",
        "margen_NP = 0.143\n",
        "márgenes = [margen_GO2, margen_GO3, margen_NS, margen_NP]"
      ],
      "metadata": {
        "id": "XvJRal1msUHZ"
      },
      "execution_count": 94,
      "outputs": []
    },
    {
      "cell_type": "markdown",
      "source": [
        "### Re-cálculo de precios internacionales\n",
        "\n",
        "Los precios internacionales (definidos en el *DataFrame* `internacionales`) son la base del cálculo del Precio de Paridad de Importación."
      ],
      "metadata": {
        "id": "CcfEjwIFdgiQ"
      }
    },
    {
      "cell_type": "markdown",
      "source": [
        "Dado que los precios internacionales se publican en US$ / Gal (dólares por galón americano), se deben convertir a US$ / m<sup>3</sup> (dólares por metro cúbico) utilizándose el siguiente conversor."
      ],
      "metadata": {
        "id": "6xdI4ACUd6Bk"
      }
    },
    {
      "cell_type": "code",
      "source": [
        "USDxgallon_to_USDxm3 = 264.1721769"
      ],
      "metadata": {
        "id": "IgZFgclrwInT"
      },
      "execution_count": 95,
      "outputs": []
    },
    {
      "cell_type": "markdown",
      "source": [
        "Por otra parte, la calidad de los productos internacionales difiere de la calidad de los productos domésticos.\n",
        "\n",
        "Los siguientes valores cuantifican esa diferencia, en términos de US$ / Gal."
      ],
      "metadata": {
        "id": "iON6u7x_eNOJ"
      }
    },
    {
      "cell_type": "code",
      "source": [
        "quality_GO2 = -0.03\n",
        "quality_GO3 = 0\n",
        "quality_NS = 0.06\n",
        "quality_NP = 0.12"
      ],
      "metadata": {
        "id": "8fZfCdxowbVS"
      },
      "execution_count": 96,
      "outputs": []
    },
    {
      "cell_type": "markdown",
      "source": [
        "Dichos valores se agrupan en la lista `qualities`."
      ],
      "metadata": {
        "id": "YsaB9tK6ej5z"
      }
    },
    {
      "cell_type": "code",
      "source": [
        "qualities = [quality_GO2, quality_GO3, quality_NS, quality_NP]"
      ],
      "metadata": {
        "id": "3xAQXIFevzQX"
      },
      "execution_count": 97,
      "outputs": []
    },
    {
      "cell_type": "markdown",
      "source": [
        "Se agregan 4 columnas al *DataFrame* (una por cada producto doméstico), donde -para el cálculo- se tiene en cuenta la diferencia de calidad y la conversión a US$ / m<sup>3</sup>."
      ],
      "metadata": {
        "id": "u8GAy31GesnN"
      }
    },
    {
      "cell_type": "code",
      "source": [
        "for i, int_prod in zip(range(0, len(productos)), [internacionales.columns[2]]*2 + [internacionales.columns[1]]*2):\n",
        "  internacionales[productos[i]] = (internacionales[int_prod]+qualities[i])*USDxgallon_to_USDxm3"
      ],
      "metadata": {
        "id": "RkS9LHrdwWbp"
      },
      "execution_count": 98,
      "outputs": []
    },
    {
      "cell_type": "markdown",
      "source": [
        "Se eliminan columnas no deseadas."
      ],
      "metadata": {
        "id": "FOJlpQSxfBln"
      }
    },
    {
      "cell_type": "code",
      "source": [
        "internacionales.drop([internacionales.columns[1], internacionales.columns[2]], axis=1, inplace=True)"
      ],
      "metadata": {
        "id": "nJ7yrsg0zA7D"
      },
      "execution_count": 99,
      "outputs": []
    },
    {
      "cell_type": "markdown",
      "source": [
        "Se presentan las primeras 5 filas del *DataFrame* modificado."
      ],
      "metadata": {
        "id": "rmf67aIJfG-U"
      }
    },
    {
      "cell_type": "code",
      "source": [
        "internacionales.head()"
      ],
      "metadata": {
        "id": "s5fLHOsQlQPt",
        "colab": {
          "base_uri": "https://localhost:8080/",
          "height": 206
        },
        "outputId": "21129e9e-8ab4-4a67-907e-bd8c29385b11"
      },
      "execution_count": 100,
      "outputs": [
        {
          "output_type": "execute_result",
          "data": {
            "text/plain": [
              "     Período  Gas Oil Grado 2  Gas Oil Grado 3  \\\n",
              "0 2019-01-01       481.057534       488.982699   \n",
              "1 2019-02-01       510.908990       518.834155   \n",
              "2 2019-03-01       518.041639       525.966804   \n",
              "3 2019-04-01       536.533691       544.458857   \n",
              "4 2019-05-01       528.608526       536.533691   \n",
              "\n",
              "   Nafta (súper) entre 92 y 95 Ron  Nafta (premium) de más de 95 Ron  \n",
              "0                       381.200451                        397.050782  \n",
              "1                       417.127867                        432.978198  \n",
              "2                       505.889719                        521.740049  \n",
              "3                       554.761571                        570.611902  \n",
              "4                       537.854552                        553.704883  "
            ],
            "text/html": [
              "\n",
              "  <div id=\"df-c1f066ea-f08a-4d2f-a392-e72a346ade1f\">\n",
              "    <div class=\"colab-df-container\">\n",
              "      <div>\n",
              "<style scoped>\n",
              "    .dataframe tbody tr th:only-of-type {\n",
              "        vertical-align: middle;\n",
              "    }\n",
              "\n",
              "    .dataframe tbody tr th {\n",
              "        vertical-align: top;\n",
              "    }\n",
              "\n",
              "    .dataframe thead th {\n",
              "        text-align: right;\n",
              "    }\n",
              "</style>\n",
              "<table border=\"1\" class=\"dataframe\">\n",
              "  <thead>\n",
              "    <tr style=\"text-align: right;\">\n",
              "      <th></th>\n",
              "      <th>Período</th>\n",
              "      <th>Gas Oil Grado 2</th>\n",
              "      <th>Gas Oil Grado 3</th>\n",
              "      <th>Nafta (súper) entre 92 y 95 Ron</th>\n",
              "      <th>Nafta (premium) de más de 95 Ron</th>\n",
              "    </tr>\n",
              "  </thead>\n",
              "  <tbody>\n",
              "    <tr>\n",
              "      <th>0</th>\n",
              "      <td>2019-01-01</td>\n",
              "      <td>481.057534</td>\n",
              "      <td>488.982699</td>\n",
              "      <td>381.200451</td>\n",
              "      <td>397.050782</td>\n",
              "    </tr>\n",
              "    <tr>\n",
              "      <th>1</th>\n",
              "      <td>2019-02-01</td>\n",
              "      <td>510.908990</td>\n",
              "      <td>518.834155</td>\n",
              "      <td>417.127867</td>\n",
              "      <td>432.978198</td>\n",
              "    </tr>\n",
              "    <tr>\n",
              "      <th>2</th>\n",
              "      <td>2019-03-01</td>\n",
              "      <td>518.041639</td>\n",
              "      <td>525.966804</td>\n",
              "      <td>505.889719</td>\n",
              "      <td>521.740049</td>\n",
              "    </tr>\n",
              "    <tr>\n",
              "      <th>3</th>\n",
              "      <td>2019-04-01</td>\n",
              "      <td>536.533691</td>\n",
              "      <td>544.458857</td>\n",
              "      <td>554.761571</td>\n",
              "      <td>570.611902</td>\n",
              "    </tr>\n",
              "    <tr>\n",
              "      <th>4</th>\n",
              "      <td>2019-05-01</td>\n",
              "      <td>528.608526</td>\n",
              "      <td>536.533691</td>\n",
              "      <td>537.854552</td>\n",
              "      <td>553.704883</td>\n",
              "    </tr>\n",
              "  </tbody>\n",
              "</table>\n",
              "</div>\n",
              "      <button class=\"colab-df-convert\" onclick=\"convertToInteractive('df-c1f066ea-f08a-4d2f-a392-e72a346ade1f')\"\n",
              "              title=\"Convert this dataframe to an interactive table.\"\n",
              "              style=\"display:none;\">\n",
              "        \n",
              "  <svg xmlns=\"http://www.w3.org/2000/svg\" height=\"24px\"viewBox=\"0 0 24 24\"\n",
              "       width=\"24px\">\n",
              "    <path d=\"M0 0h24v24H0V0z\" fill=\"none\"/>\n",
              "    <path d=\"M18.56 5.44l.94 2.06.94-2.06 2.06-.94-2.06-.94-.94-2.06-.94 2.06-2.06.94zm-11 1L8.5 8.5l.94-2.06 2.06-.94-2.06-.94L8.5 2.5l-.94 2.06-2.06.94zm10 10l.94 2.06.94-2.06 2.06-.94-2.06-.94-.94-2.06-.94 2.06-2.06.94z\"/><path d=\"M17.41 7.96l-1.37-1.37c-.4-.4-.92-.59-1.43-.59-.52 0-1.04.2-1.43.59L10.3 9.45l-7.72 7.72c-.78.78-.78 2.05 0 2.83L4 21.41c.39.39.9.59 1.41.59.51 0 1.02-.2 1.41-.59l7.78-7.78 2.81-2.81c.8-.78.8-2.07 0-2.86zM5.41 20L4 18.59l7.72-7.72 1.47 1.35L5.41 20z\"/>\n",
              "  </svg>\n",
              "      </button>\n",
              "      \n",
              "  <style>\n",
              "    .colab-df-container {\n",
              "      display:flex;\n",
              "      flex-wrap:wrap;\n",
              "      gap: 12px;\n",
              "    }\n",
              "\n",
              "    .colab-df-convert {\n",
              "      background-color: #E8F0FE;\n",
              "      border: none;\n",
              "      border-radius: 50%;\n",
              "      cursor: pointer;\n",
              "      display: none;\n",
              "      fill: #1967D2;\n",
              "      height: 32px;\n",
              "      padding: 0 0 0 0;\n",
              "      width: 32px;\n",
              "    }\n",
              "\n",
              "    .colab-df-convert:hover {\n",
              "      background-color: #E2EBFA;\n",
              "      box-shadow: 0px 1px 2px rgba(60, 64, 67, 0.3), 0px 1px 3px 1px rgba(60, 64, 67, 0.15);\n",
              "      fill: #174EA6;\n",
              "    }\n",
              "\n",
              "    [theme=dark] .colab-df-convert {\n",
              "      background-color: #3B4455;\n",
              "      fill: #D2E3FC;\n",
              "    }\n",
              "\n",
              "    [theme=dark] .colab-df-convert:hover {\n",
              "      background-color: #434B5C;\n",
              "      box-shadow: 0px 1px 3px 1px rgba(0, 0, 0, 0.15);\n",
              "      filter: drop-shadow(0px 1px 2px rgba(0, 0, 0, 0.3));\n",
              "      fill: #FFFFFF;\n",
              "    }\n",
              "  </style>\n",
              "\n",
              "      <script>\n",
              "        const buttonEl =\n",
              "          document.querySelector('#df-c1f066ea-f08a-4d2f-a392-e72a346ade1f button.colab-df-convert');\n",
              "        buttonEl.style.display =\n",
              "          google.colab.kernel.accessAllowed ? 'block' : 'none';\n",
              "\n",
              "        async function convertToInteractive(key) {\n",
              "          const element = document.querySelector('#df-c1f066ea-f08a-4d2f-a392-e72a346ade1f');\n",
              "          const dataTable =\n",
              "            await google.colab.kernel.invokeFunction('convertToInteractive',\n",
              "                                                     [key], {});\n",
              "          if (!dataTable) return;\n",
              "\n",
              "          const docLinkHtml = 'Like what you see? Visit the ' +\n",
              "            '<a target=\"_blank\" href=https://colab.research.google.com/notebooks/data_table.ipynb>data table notebook</a>'\n",
              "            + ' to learn more about interactive tables.';\n",
              "          element.innerHTML = '';\n",
              "          dataTable['output_type'] = 'display_data';\n",
              "          await google.colab.output.renderOutput(dataTable, element);\n",
              "          const docLink = document.createElement('div');\n",
              "          docLink.innerHTML = docLinkHtml;\n",
              "          element.appendChild(docLink);\n",
              "        }\n",
              "      </script>\n",
              "    </div>\n",
              "  </div>\n",
              "  "
            ]
          },
          "metadata": {},
          "execution_count": 100
        }
      ]
    },
    {
      "cell_type": "markdown",
      "source": [
        "### Cálculo de los precios CIF\n",
        "\n",
        "El precio CIF (*cost, insurance and freight*) conjuga el costo del producto con los costos de seguro y de flete.\n",
        "\n",
        "A continuación, se enumeran y computan los componentes del precio CIF, incluyendo alije, mermas y multas por demoras."
      ],
      "metadata": {
        "id": "sK3sNtqHfLlD"
      }
    },
    {
      "cell_type": "code",
      "source": [
        "flete_y_seguro_Houston_Zarate = 48.87 \n",
        "alije = 0.15\n",
        "mermas = 0.003\n",
        "multas_demoras = 2.5\n",
        "despachante_de_aduana = 0.15\n",
        "inspector_de_calidad_y_cantidad = 0.15\n",
        "otros_costos_de_internación = 2\n",
        "margen_mayorista = 0\n",
        "extras = multas_demoras + despachante_de_aduana + inspector_de_calidad_y_cantidad + otros_costos_de_internación + margen_mayorista"
      ],
      "metadata": {
        "id": "YfErcIq3xKrT"
      },
      "execution_count": 101,
      "outputs": []
    },
    {
      "cell_type": "markdown",
      "source": [
        "Por otro lado, se proveen las densidades del Gas Oil y de la Nafta."
      ],
      "metadata": {
        "id": "Oxgia0dogAXa"
      }
    },
    {
      "cell_type": "code",
      "source": [
        "densidad_G = 0.845\n",
        "densidad_N = 0.755"
      ],
      "metadata": {
        "id": "bzIXpFC9fwAh"
      },
      "execution_count": 102,
      "outputs": []
    },
    {
      "cell_type": "markdown",
      "source": [
        "Se crea un *DataFrame* vacío, `cif`, que almacenará los datos del precio CIF."
      ],
      "metadata": {
        "id": "xPemEJuKgHuF"
      }
    },
    {
      "cell_type": "code",
      "source": [
        "cif = pd.DataFrame()"
      ],
      "metadata": {
        "id": "QUzJfQ4HgU7v"
      },
      "execution_count": 103,
      "outputs": []
    },
    {
      "cell_type": "markdown",
      "source": [
        "Con los valores anteriormente explicitados, y a partir de los datos del *DataFrame* `internacionales`, se calcula el precio CIF."
      ],
      "metadata": {
        "id": "3HvNzxSogVh0"
      }
    },
    {
      "cell_type": "code",
      "source": [
        "for column in internacionales.columns:\n",
        "  if \"Gas\" in column:\n",
        "    cif[column] = (internacionales[column]+(flete_y_seguro_Houston_Zarate*densidad_G)*(1+alije))*(1+mermas)+extras\n",
        "  elif \"Nafta\" in column:\n",
        "    cif[column] = (internacionales[column]+(flete_y_seguro_Houston_Zarate*densidad_N)*(1+alije))*(1+mermas)+extras\n",
        "  else:\n",
        "    cif[column] = internacionales[column]"
      ],
      "metadata": {
        "id": "gpNbRJUDGNzg"
      },
      "execution_count": 104,
      "outputs": []
    },
    {
      "cell_type": "markdown",
      "source": [
        "Se presentan las primeras 5 filas del *DataFrame* modificado."
      ],
      "metadata": {
        "id": "Qi8Zz2Fcghcp"
      }
    },
    {
      "cell_type": "code",
      "source": [
        "cif.head()"
      ],
      "metadata": {
        "id": "yIrUw3Utghcp",
        "colab": {
          "base_uri": "https://localhost:8080/",
          "height": 206
        },
        "outputId": "261b3548-a612-4edb-fc3d-306b8d165f26"
      },
      "execution_count": 105,
      "outputs": [
        {
          "output_type": "execute_result",
          "data": {
            "text/plain": [
              "     Período  Gas Oil Grado 2  Gas Oil Grado 3  \\\n",
              "0 2019-01-01       534.932598       542.881538   \n",
              "1 2019-02-01       564.873608       572.822549   \n",
              "2 2019-03-01       572.027655       579.976595   \n",
              "3 2019-04-01       590.575183       598.524124   \n",
              "4 2019-05-01       582.626242       590.575183   \n",
              "\n",
              "   Nafta (súper) entre 92 y 95 Ron  Nafta (premium) de más de 95 Ron  \n",
              "0                       429.702724                        445.600606  \n",
              "1                       465.737923                        481.635804  \n",
              "2                       554.766060                        570.663941  \n",
              "3                       603.784528                        619.682409  \n",
              "4                       586.826787                        602.724669  "
            ],
            "text/html": [
              "\n",
              "  <div id=\"df-3f613069-0a9f-4f13-99a1-f364b2f9daef\">\n",
              "    <div class=\"colab-df-container\">\n",
              "      <div>\n",
              "<style scoped>\n",
              "    .dataframe tbody tr th:only-of-type {\n",
              "        vertical-align: middle;\n",
              "    }\n",
              "\n",
              "    .dataframe tbody tr th {\n",
              "        vertical-align: top;\n",
              "    }\n",
              "\n",
              "    .dataframe thead th {\n",
              "        text-align: right;\n",
              "    }\n",
              "</style>\n",
              "<table border=\"1\" class=\"dataframe\">\n",
              "  <thead>\n",
              "    <tr style=\"text-align: right;\">\n",
              "      <th></th>\n",
              "      <th>Período</th>\n",
              "      <th>Gas Oil Grado 2</th>\n",
              "      <th>Gas Oil Grado 3</th>\n",
              "      <th>Nafta (súper) entre 92 y 95 Ron</th>\n",
              "      <th>Nafta (premium) de más de 95 Ron</th>\n",
              "    </tr>\n",
              "  </thead>\n",
              "  <tbody>\n",
              "    <tr>\n",
              "      <th>0</th>\n",
              "      <td>2019-01-01</td>\n",
              "      <td>534.932598</td>\n",
              "      <td>542.881538</td>\n",
              "      <td>429.702724</td>\n",
              "      <td>445.600606</td>\n",
              "    </tr>\n",
              "    <tr>\n",
              "      <th>1</th>\n",
              "      <td>2019-02-01</td>\n",
              "      <td>564.873608</td>\n",
              "      <td>572.822549</td>\n",
              "      <td>465.737923</td>\n",
              "      <td>481.635804</td>\n",
              "    </tr>\n",
              "    <tr>\n",
              "      <th>2</th>\n",
              "      <td>2019-03-01</td>\n",
              "      <td>572.027655</td>\n",
              "      <td>579.976595</td>\n",
              "      <td>554.766060</td>\n",
              "      <td>570.663941</td>\n",
              "    </tr>\n",
              "    <tr>\n",
              "      <th>3</th>\n",
              "      <td>2019-04-01</td>\n",
              "      <td>590.575183</td>\n",
              "      <td>598.524124</td>\n",
              "      <td>603.784528</td>\n",
              "      <td>619.682409</td>\n",
              "    </tr>\n",
              "    <tr>\n",
              "      <th>4</th>\n",
              "      <td>2019-05-01</td>\n",
              "      <td>582.626242</td>\n",
              "      <td>590.575183</td>\n",
              "      <td>586.826787</td>\n",
              "      <td>602.724669</td>\n",
              "    </tr>\n",
              "  </tbody>\n",
              "</table>\n",
              "</div>\n",
              "      <button class=\"colab-df-convert\" onclick=\"convertToInteractive('df-3f613069-0a9f-4f13-99a1-f364b2f9daef')\"\n",
              "              title=\"Convert this dataframe to an interactive table.\"\n",
              "              style=\"display:none;\">\n",
              "        \n",
              "  <svg xmlns=\"http://www.w3.org/2000/svg\" height=\"24px\"viewBox=\"0 0 24 24\"\n",
              "       width=\"24px\">\n",
              "    <path d=\"M0 0h24v24H0V0z\" fill=\"none\"/>\n",
              "    <path d=\"M18.56 5.44l.94 2.06.94-2.06 2.06-.94-2.06-.94-.94-2.06-.94 2.06-2.06.94zm-11 1L8.5 8.5l.94-2.06 2.06-.94-2.06-.94L8.5 2.5l-.94 2.06-2.06.94zm10 10l.94 2.06.94-2.06 2.06-.94-2.06-.94-.94-2.06-.94 2.06-2.06.94z\"/><path d=\"M17.41 7.96l-1.37-1.37c-.4-.4-.92-.59-1.43-.59-.52 0-1.04.2-1.43.59L10.3 9.45l-7.72 7.72c-.78.78-.78 2.05 0 2.83L4 21.41c.39.39.9.59 1.41.59.51 0 1.02-.2 1.41-.59l7.78-7.78 2.81-2.81c.8-.78.8-2.07 0-2.86zM5.41 20L4 18.59l7.72-7.72 1.47 1.35L5.41 20z\"/>\n",
              "  </svg>\n",
              "      </button>\n",
              "      \n",
              "  <style>\n",
              "    .colab-df-container {\n",
              "      display:flex;\n",
              "      flex-wrap:wrap;\n",
              "      gap: 12px;\n",
              "    }\n",
              "\n",
              "    .colab-df-convert {\n",
              "      background-color: #E8F0FE;\n",
              "      border: none;\n",
              "      border-radius: 50%;\n",
              "      cursor: pointer;\n",
              "      display: none;\n",
              "      fill: #1967D2;\n",
              "      height: 32px;\n",
              "      padding: 0 0 0 0;\n",
              "      width: 32px;\n",
              "    }\n",
              "\n",
              "    .colab-df-convert:hover {\n",
              "      background-color: #E2EBFA;\n",
              "      box-shadow: 0px 1px 2px rgba(60, 64, 67, 0.3), 0px 1px 3px 1px rgba(60, 64, 67, 0.15);\n",
              "      fill: #174EA6;\n",
              "    }\n",
              "\n",
              "    [theme=dark] .colab-df-convert {\n",
              "      background-color: #3B4455;\n",
              "      fill: #D2E3FC;\n",
              "    }\n",
              "\n",
              "    [theme=dark] .colab-df-convert:hover {\n",
              "      background-color: #434B5C;\n",
              "      box-shadow: 0px 1px 3px 1px rgba(0, 0, 0, 0.15);\n",
              "      filter: drop-shadow(0px 1px 2px rgba(0, 0, 0, 0.3));\n",
              "      fill: #FFFFFF;\n",
              "    }\n",
              "  </style>\n",
              "\n",
              "      <script>\n",
              "        const buttonEl =\n",
              "          document.querySelector('#df-3f613069-0a9f-4f13-99a1-f364b2f9daef button.colab-df-convert');\n",
              "        buttonEl.style.display =\n",
              "          google.colab.kernel.accessAllowed ? 'block' : 'none';\n",
              "\n",
              "        async function convertToInteractive(key) {\n",
              "          const element = document.querySelector('#df-3f613069-0a9f-4f13-99a1-f364b2f9daef');\n",
              "          const dataTable =\n",
              "            await google.colab.kernel.invokeFunction('convertToInteractive',\n",
              "                                                     [key], {});\n",
              "          if (!dataTable) return;\n",
              "\n",
              "          const docLinkHtml = 'Like what you see? Visit the ' +\n",
              "            '<a target=\"_blank\" href=https://colab.research.google.com/notebooks/data_table.ipynb>data table notebook</a>'\n",
              "            + ' to learn more about interactive tables.';\n",
              "          element.innerHTML = '';\n",
              "          dataTable['output_type'] = 'display_data';\n",
              "          await google.colab.output.renderOutput(dataTable, element);\n",
              "          const docLink = document.createElement('div');\n",
              "          docLink.innerHTML = docLinkHtml;\n",
              "          element.appendChild(docLink);\n",
              "        }\n",
              "      </script>\n",
              "    </div>\n",
              "  </div>\n",
              "  "
            ]
          },
          "metadata": {},
          "execution_count": 105
        }
      ]
    },
    {
      "cell_type": "markdown",
      "source": [
        "### Cálculo de los subtotales fósiles en US$\n",
        "\n",
        "Para computar los subtotales fósiles en US$, se deben agregar los costos financieros y de almacenamiento y despacho, enumerados a continuación."
      ],
      "metadata": {
        "id": "jxYnxz9QgjVp"
      }
    },
    {
      "cell_type": "code",
      "source": [
        "c_financiero_30d = (6.95/100)/12\n",
        "almac_y_despacho = 10.35"
      ],
      "metadata": {
        "id": "EK_PbRWgQ6SR"
      },
      "execution_count": 106,
      "outputs": []
    },
    {
      "cell_type": "markdown",
      "source": [
        "Se crea un *DataFrame* vacío, `subtotal_fosiles_USD`, que almacenará los datos de los subtotales fósiles en US$."
      ],
      "metadata": {
        "id": "PWDiORVwhRE6"
      }
    },
    {
      "cell_type": "code",
      "source": [
        "subtotal_fosiles_USD = pd.DataFrame()"
      ],
      "metadata": {
        "id": "KdizoOhthRE7"
      },
      "execution_count": 107,
      "outputs": []
    },
    {
      "cell_type": "markdown",
      "source": [
        "Con los valores anteriormente explicitados, y a partir de los datos del *DataFrame* `cif`, se calculan los subtotales fósiles en US$."
      ],
      "metadata": {
        "id": "BrRNYDsrhboJ"
      }
    },
    {
      "cell_type": "code",
      "source": [
        "for column in cif.columns:\n",
        "  if column in productos:\n",
        "    subtotal_fosiles_USD[column] = cif[column]*(1+c_financiero_30d) + almac_y_despacho\n",
        "  else:\n",
        "    subtotal_fosiles_USD[column] = cif[column]"
      ],
      "metadata": {
        "id": "yyh6eV_lImzu"
      },
      "execution_count": 108,
      "outputs": []
    },
    {
      "cell_type": "markdown",
      "source": [
        "Se presentan las 5 primeras filas del *DataFrame*."
      ],
      "metadata": {
        "id": "yaGTqNhLhnxs"
      }
    },
    {
      "cell_type": "code",
      "source": [
        "subtotal_fosiles_USD.head()"
      ],
      "metadata": {
        "id": "GhzohPXxnCu4",
        "colab": {
          "base_uri": "https://localhost:8080/",
          "height": 206
        },
        "outputId": "87e3a107-74c2-486f-b1eb-59f9f6556fb2"
      },
      "execution_count": 109,
      "outputs": [
        {
          "output_type": "execute_result",
          "data": {
            "text/plain": [
              "     Período  Gas Oil Grado 2  Gas Oil Grado 3  \\\n",
              "0 2019-01-01       548.380749       556.375727   \n",
              "1 2019-02-01       578.495168       586.490146   \n",
              "2 2019-03-01       585.690648       593.685627   \n",
              "3 2019-04-01       604.345598       612.340576   \n",
              "4 2019-05-01       596.350619       604.345598   \n",
              "\n",
              "   Nafta (súper) entre 92 y 95 Ron  Nafta (premium) de más de 95 Ron  \n",
              "0                       442.541419                        458.531376  \n",
              "1                       478.785321                        494.775278  \n",
              "2                       568.329080                        584.319036  \n",
              "3                       617.631447                        633.621403  \n",
              "4                       600.575493                        616.565449  "
            ],
            "text/html": [
              "\n",
              "  <div id=\"df-52de371a-08fa-491f-b915-9d54540c893e\">\n",
              "    <div class=\"colab-df-container\">\n",
              "      <div>\n",
              "<style scoped>\n",
              "    .dataframe tbody tr th:only-of-type {\n",
              "        vertical-align: middle;\n",
              "    }\n",
              "\n",
              "    .dataframe tbody tr th {\n",
              "        vertical-align: top;\n",
              "    }\n",
              "\n",
              "    .dataframe thead th {\n",
              "        text-align: right;\n",
              "    }\n",
              "</style>\n",
              "<table border=\"1\" class=\"dataframe\">\n",
              "  <thead>\n",
              "    <tr style=\"text-align: right;\">\n",
              "      <th></th>\n",
              "      <th>Período</th>\n",
              "      <th>Gas Oil Grado 2</th>\n",
              "      <th>Gas Oil Grado 3</th>\n",
              "      <th>Nafta (súper) entre 92 y 95 Ron</th>\n",
              "      <th>Nafta (premium) de más de 95 Ron</th>\n",
              "    </tr>\n",
              "  </thead>\n",
              "  <tbody>\n",
              "    <tr>\n",
              "      <th>0</th>\n",
              "      <td>2019-01-01</td>\n",
              "      <td>548.380749</td>\n",
              "      <td>556.375727</td>\n",
              "      <td>442.541419</td>\n",
              "      <td>458.531376</td>\n",
              "    </tr>\n",
              "    <tr>\n",
              "      <th>1</th>\n",
              "      <td>2019-02-01</td>\n",
              "      <td>578.495168</td>\n",
              "      <td>586.490146</td>\n",
              "      <td>478.785321</td>\n",
              "      <td>494.775278</td>\n",
              "    </tr>\n",
              "    <tr>\n",
              "      <th>2</th>\n",
              "      <td>2019-03-01</td>\n",
              "      <td>585.690648</td>\n",
              "      <td>593.685627</td>\n",
              "      <td>568.329080</td>\n",
              "      <td>584.319036</td>\n",
              "    </tr>\n",
              "    <tr>\n",
              "      <th>3</th>\n",
              "      <td>2019-04-01</td>\n",
              "      <td>604.345598</td>\n",
              "      <td>612.340576</td>\n",
              "      <td>617.631447</td>\n",
              "      <td>633.621403</td>\n",
              "    </tr>\n",
              "    <tr>\n",
              "      <th>4</th>\n",
              "      <td>2019-05-01</td>\n",
              "      <td>596.350619</td>\n",
              "      <td>604.345598</td>\n",
              "      <td>600.575493</td>\n",
              "      <td>616.565449</td>\n",
              "    </tr>\n",
              "  </tbody>\n",
              "</table>\n",
              "</div>\n",
              "      <button class=\"colab-df-convert\" onclick=\"convertToInteractive('df-52de371a-08fa-491f-b915-9d54540c893e')\"\n",
              "              title=\"Convert this dataframe to an interactive table.\"\n",
              "              style=\"display:none;\">\n",
              "        \n",
              "  <svg xmlns=\"http://www.w3.org/2000/svg\" height=\"24px\"viewBox=\"0 0 24 24\"\n",
              "       width=\"24px\">\n",
              "    <path d=\"M0 0h24v24H0V0z\" fill=\"none\"/>\n",
              "    <path d=\"M18.56 5.44l.94 2.06.94-2.06 2.06-.94-2.06-.94-.94-2.06-.94 2.06-2.06.94zm-11 1L8.5 8.5l.94-2.06 2.06-.94-2.06-.94L8.5 2.5l-.94 2.06-2.06.94zm10 10l.94 2.06.94-2.06 2.06-.94-2.06-.94-.94-2.06-.94 2.06-2.06.94z\"/><path d=\"M17.41 7.96l-1.37-1.37c-.4-.4-.92-.59-1.43-.59-.52 0-1.04.2-1.43.59L10.3 9.45l-7.72 7.72c-.78.78-.78 2.05 0 2.83L4 21.41c.39.39.9.59 1.41.59.51 0 1.02-.2 1.41-.59l7.78-7.78 2.81-2.81c.8-.78.8-2.07 0-2.86zM5.41 20L4 18.59l7.72-7.72 1.47 1.35L5.41 20z\"/>\n",
              "  </svg>\n",
              "      </button>\n",
              "      \n",
              "  <style>\n",
              "    .colab-df-container {\n",
              "      display:flex;\n",
              "      flex-wrap:wrap;\n",
              "      gap: 12px;\n",
              "    }\n",
              "\n",
              "    .colab-df-convert {\n",
              "      background-color: #E8F0FE;\n",
              "      border: none;\n",
              "      border-radius: 50%;\n",
              "      cursor: pointer;\n",
              "      display: none;\n",
              "      fill: #1967D2;\n",
              "      height: 32px;\n",
              "      padding: 0 0 0 0;\n",
              "      width: 32px;\n",
              "    }\n",
              "\n",
              "    .colab-df-convert:hover {\n",
              "      background-color: #E2EBFA;\n",
              "      box-shadow: 0px 1px 2px rgba(60, 64, 67, 0.3), 0px 1px 3px 1px rgba(60, 64, 67, 0.15);\n",
              "      fill: #174EA6;\n",
              "    }\n",
              "\n",
              "    [theme=dark] .colab-df-convert {\n",
              "      background-color: #3B4455;\n",
              "      fill: #D2E3FC;\n",
              "    }\n",
              "\n",
              "    [theme=dark] .colab-df-convert:hover {\n",
              "      background-color: #434B5C;\n",
              "      box-shadow: 0px 1px 3px 1px rgba(0, 0, 0, 0.15);\n",
              "      filter: drop-shadow(0px 1px 2px rgba(0, 0, 0, 0.3));\n",
              "      fill: #FFFFFF;\n",
              "    }\n",
              "  </style>\n",
              "\n",
              "      <script>\n",
              "        const buttonEl =\n",
              "          document.querySelector('#df-52de371a-08fa-491f-b915-9d54540c893e button.colab-df-convert');\n",
              "        buttonEl.style.display =\n",
              "          google.colab.kernel.accessAllowed ? 'block' : 'none';\n",
              "\n",
              "        async function convertToInteractive(key) {\n",
              "          const element = document.querySelector('#df-52de371a-08fa-491f-b915-9d54540c893e');\n",
              "          const dataTable =\n",
              "            await google.colab.kernel.invokeFunction('convertToInteractive',\n",
              "                                                     [key], {});\n",
              "          if (!dataTable) return;\n",
              "\n",
              "          const docLinkHtml = 'Like what you see? Visit the ' +\n",
              "            '<a target=\"_blank\" href=https://colab.research.google.com/notebooks/data_table.ipynb>data table notebook</a>'\n",
              "            + ' to learn more about interactive tables.';\n",
              "          element.innerHTML = '';\n",
              "          dataTable['output_type'] = 'display_data';\n",
              "          await google.colab.output.renderOutput(dataTable, element);\n",
              "          const docLink = document.createElement('div');\n",
              "          docLink.innerHTML = docLinkHtml;\n",
              "          element.appendChild(docLink);\n",
              "        }\n",
              "      </script>\n",
              "    </div>\n",
              "  </div>\n",
              "  "
            ]
          },
          "metadata": {},
          "execution_count": 109
        }
      ]
    },
    {
      "cell_type": "markdown",
      "source": [
        "### Cálculo de los subtotales fósiles en ARS\n",
        "\n",
        "Para computar los subtotales fósiles en ARS, basta con multiplicar el valor de cada columna por el tipo de cambio."
      ],
      "metadata": {
        "id": "WjqBUO9FhudN"
      }
    },
    {
      "cell_type": "markdown",
      "source": [
        "Se crea un *DataFrame* vacío, `subtotal_fosiles_ARS`, que almacenará los datos de los subtotales fósiles en ARS."
      ],
      "metadata": {
        "id": "pJHEWZOFh_zw"
      }
    },
    {
      "cell_type": "code",
      "source": [
        "subtotal_fosiles_ARS = pd.DataFrame()"
      ],
      "metadata": {
        "id": "e9Vkqn4IiHg5"
      },
      "execution_count": 110,
      "outputs": []
    },
    {
      "cell_type": "markdown",
      "source": [
        "El cálculo de los subtotales fósiles en ARS se efectúa simplemente multiplicando por el tipo de cambio de cada mes."
      ],
      "metadata": {
        "id": "gKEX_2H6iLvb"
      }
    },
    {
      "cell_type": "code",
      "source": [
        "for column in subtotal_fosiles_USD.columns:\n",
        "  if column in productos:\n",
        "    subtotal_fosiles_ARS[column] = subtotal_fosiles_USD[column]*tc['TCN']\n",
        "  else:\n",
        "    subtotal_fosiles_ARS[column] = subtotal_fosiles_USD[column]"
      ],
      "metadata": {
        "id": "tzE4-zxpNIl1"
      },
      "execution_count": 111,
      "outputs": []
    },
    {
      "cell_type": "markdown",
      "source": [
        "Se presentan las primeras 5 filas del *DataFrame*."
      ],
      "metadata": {
        "id": "Y1Dx0LlsiSNQ"
      }
    },
    {
      "cell_type": "code",
      "source": [
        "subtotal_fosiles_ARS.head()"
      ],
      "metadata": {
        "id": "dUszNvhDk0td",
        "colab": {
          "base_uri": "https://localhost:8080/",
          "height": 206
        },
        "outputId": "8301efd6-0717-4ff2-daf4-b371408f73c1"
      },
      "execution_count": 112,
      "outputs": [
        {
          "output_type": "execute_result",
          "data": {
            "text/plain": [
              "     Período  Gas Oil Grado 2  Gas Oil Grado 3  \\\n",
              "0 2019-01-01     20513.223832     20812.291190   \n",
              "1 2019-02-01     22219.189491     22526.265419   \n",
              "2 2019-03-01     24225.570862     24556.262358   \n",
              "3 2019-04-01     26128.156703     26473.810001   \n",
              "4 2019-05-01     26795.941648     27155.181612   \n",
              "\n",
              "   Nafta (súper) entre 92 y 95 Ron  Nafta (premium) de más de 95 Ron  \n",
              "0                     16554.102614                      17152.237330  \n",
              "1                     18389.473894                      19003.625750  \n",
              "2                     23507.454724                      24168.837715  \n",
              "3                     26702.554434                      27393.861030  \n",
              "4                     26985.778724                      27704.258653  "
            ],
            "text/html": [
              "\n",
              "  <div id=\"df-59351722-345c-485d-8efd-7afd0d032454\">\n",
              "    <div class=\"colab-df-container\">\n",
              "      <div>\n",
              "<style scoped>\n",
              "    .dataframe tbody tr th:only-of-type {\n",
              "        vertical-align: middle;\n",
              "    }\n",
              "\n",
              "    .dataframe tbody tr th {\n",
              "        vertical-align: top;\n",
              "    }\n",
              "\n",
              "    .dataframe thead th {\n",
              "        text-align: right;\n",
              "    }\n",
              "</style>\n",
              "<table border=\"1\" class=\"dataframe\">\n",
              "  <thead>\n",
              "    <tr style=\"text-align: right;\">\n",
              "      <th></th>\n",
              "      <th>Período</th>\n",
              "      <th>Gas Oil Grado 2</th>\n",
              "      <th>Gas Oil Grado 3</th>\n",
              "      <th>Nafta (súper) entre 92 y 95 Ron</th>\n",
              "      <th>Nafta (premium) de más de 95 Ron</th>\n",
              "    </tr>\n",
              "  </thead>\n",
              "  <tbody>\n",
              "    <tr>\n",
              "      <th>0</th>\n",
              "      <td>2019-01-01</td>\n",
              "      <td>20513.223832</td>\n",
              "      <td>20812.291190</td>\n",
              "      <td>16554.102614</td>\n",
              "      <td>17152.237330</td>\n",
              "    </tr>\n",
              "    <tr>\n",
              "      <th>1</th>\n",
              "      <td>2019-02-01</td>\n",
              "      <td>22219.189491</td>\n",
              "      <td>22526.265419</td>\n",
              "      <td>18389.473894</td>\n",
              "      <td>19003.625750</td>\n",
              "    </tr>\n",
              "    <tr>\n",
              "      <th>2</th>\n",
              "      <td>2019-03-01</td>\n",
              "      <td>24225.570862</td>\n",
              "      <td>24556.262358</td>\n",
              "      <td>23507.454724</td>\n",
              "      <td>24168.837715</td>\n",
              "    </tr>\n",
              "    <tr>\n",
              "      <th>3</th>\n",
              "      <td>2019-04-01</td>\n",
              "      <td>26128.156703</td>\n",
              "      <td>26473.810001</td>\n",
              "      <td>26702.554434</td>\n",
              "      <td>27393.861030</td>\n",
              "    </tr>\n",
              "    <tr>\n",
              "      <th>4</th>\n",
              "      <td>2019-05-01</td>\n",
              "      <td>26795.941648</td>\n",
              "      <td>27155.181612</td>\n",
              "      <td>26985.778724</td>\n",
              "      <td>27704.258653</td>\n",
              "    </tr>\n",
              "  </tbody>\n",
              "</table>\n",
              "</div>\n",
              "      <button class=\"colab-df-convert\" onclick=\"convertToInteractive('df-59351722-345c-485d-8efd-7afd0d032454')\"\n",
              "              title=\"Convert this dataframe to an interactive table.\"\n",
              "              style=\"display:none;\">\n",
              "        \n",
              "  <svg xmlns=\"http://www.w3.org/2000/svg\" height=\"24px\"viewBox=\"0 0 24 24\"\n",
              "       width=\"24px\">\n",
              "    <path d=\"M0 0h24v24H0V0z\" fill=\"none\"/>\n",
              "    <path d=\"M18.56 5.44l.94 2.06.94-2.06 2.06-.94-2.06-.94-.94-2.06-.94 2.06-2.06.94zm-11 1L8.5 8.5l.94-2.06 2.06-.94-2.06-.94L8.5 2.5l-.94 2.06-2.06.94zm10 10l.94 2.06.94-2.06 2.06-.94-2.06-.94-.94-2.06-.94 2.06-2.06.94z\"/><path d=\"M17.41 7.96l-1.37-1.37c-.4-.4-.92-.59-1.43-.59-.52 0-1.04.2-1.43.59L10.3 9.45l-7.72 7.72c-.78.78-.78 2.05 0 2.83L4 21.41c.39.39.9.59 1.41.59.51 0 1.02-.2 1.41-.59l7.78-7.78 2.81-2.81c.8-.78.8-2.07 0-2.86zM5.41 20L4 18.59l7.72-7.72 1.47 1.35L5.41 20z\"/>\n",
              "  </svg>\n",
              "      </button>\n",
              "      \n",
              "  <style>\n",
              "    .colab-df-container {\n",
              "      display:flex;\n",
              "      flex-wrap:wrap;\n",
              "      gap: 12px;\n",
              "    }\n",
              "\n",
              "    .colab-df-convert {\n",
              "      background-color: #E8F0FE;\n",
              "      border: none;\n",
              "      border-radius: 50%;\n",
              "      cursor: pointer;\n",
              "      display: none;\n",
              "      fill: #1967D2;\n",
              "      height: 32px;\n",
              "      padding: 0 0 0 0;\n",
              "      width: 32px;\n",
              "    }\n",
              "\n",
              "    .colab-df-convert:hover {\n",
              "      background-color: #E2EBFA;\n",
              "      box-shadow: 0px 1px 2px rgba(60, 64, 67, 0.3), 0px 1px 3px 1px rgba(60, 64, 67, 0.15);\n",
              "      fill: #174EA6;\n",
              "    }\n",
              "\n",
              "    [theme=dark] .colab-df-convert {\n",
              "      background-color: #3B4455;\n",
              "      fill: #D2E3FC;\n",
              "    }\n",
              "\n",
              "    [theme=dark] .colab-df-convert:hover {\n",
              "      background-color: #434B5C;\n",
              "      box-shadow: 0px 1px 3px 1px rgba(0, 0, 0, 0.15);\n",
              "      filter: drop-shadow(0px 1px 2px rgba(0, 0, 0, 0.3));\n",
              "      fill: #FFFFFF;\n",
              "    }\n",
              "  </style>\n",
              "\n",
              "      <script>\n",
              "        const buttonEl =\n",
              "          document.querySelector('#df-59351722-345c-485d-8efd-7afd0d032454 button.colab-df-convert');\n",
              "        buttonEl.style.display =\n",
              "          google.colab.kernel.accessAllowed ? 'block' : 'none';\n",
              "\n",
              "        async function convertToInteractive(key) {\n",
              "          const element = document.querySelector('#df-59351722-345c-485d-8efd-7afd0d032454');\n",
              "          const dataTable =\n",
              "            await google.colab.kernel.invokeFunction('convertToInteractive',\n",
              "                                                     [key], {});\n",
              "          if (!dataTable) return;\n",
              "\n",
              "          const docLinkHtml = 'Like what you see? Visit the ' +\n",
              "            '<a target=\"_blank\" href=https://colab.research.google.com/notebooks/data_table.ipynb>data table notebook</a>'\n",
              "            + ' to learn more about interactive tables.';\n",
              "          element.innerHTML = '';\n",
              "          dataTable['output_type'] = 'display_data';\n",
              "          await google.colab.output.renderOutput(dataTable, element);\n",
              "          const docLink = document.createElement('div');\n",
              "          docLink.innerHTML = docLinkHtml;\n",
              "          element.appendChild(docLink);\n",
              "        }\n",
              "      </script>\n",
              "    </div>\n",
              "  </div>\n",
              "  "
            ]
          },
          "metadata": {},
          "execution_count": 112
        }
      ]
    },
    {
      "cell_type": "markdown",
      "source": [
        "### Cálculo de los montos de anticipo de pago de impuestos\n",
        "\n",
        "El pago de tributos nacionales implica, a su vez, el cálculo del pago de adelantos de estos impuestos."
      ],
      "metadata": {
        "id": "Kvv3Y7d3iZuV"
      }
    },
    {
      "cell_type": "markdown",
      "source": [
        "#### Precio considerado para el pago de impuestos\n",
        "\n",
        "Dado que solo se abonan adelantos de impuestos por los montos -en pesos- del precio \"mayorista\", el cálculo del precio considerado para el pago de impuestos contempla el precio internacional, el flete y el márgen mayorista."
      ],
      "metadata": {
        "id": "zjm07K9wi8S7"
      }
    },
    {
      "cell_type": "markdown",
      "source": [
        "Se crea un *DataFrame* vacío, `precio_considerado`, que almacenará los datos de los precios considerados según producto."
      ],
      "metadata": {
        "id": "OqS_h9wBjaFw"
      }
    },
    {
      "cell_type": "code",
      "source": [
        "precio_considerado = pd.DataFrame()"
      ],
      "metadata": {
        "id": "zUYuXlbNjjei"
      },
      "execution_count": 113,
      "outputs": []
    },
    {
      "cell_type": "markdown",
      "source": [
        "El cálculo de los precios considerados se efectúa según lo establecido anteriormente."
      ],
      "metadata": {
        "id": "9Q9fa34ZjnfH"
      }
    },
    {
      "cell_type": "code",
      "source": [
        "for column in internacionales.columns:\n",
        "  if column in productos:\n",
        "    if \"Gas\" in column:\n",
        "      precio_considerado[column] = (internacionales[column]+(flete_y_seguro_Houston_Zarate*densidad_G)+margen_mayorista)*tc['TCN']\n",
        "    elif \"Nafta\" in column:\n",
        "      precio_considerado[column] = (internacionales[column]+(flete_y_seguro_Houston_Zarate*densidad_N)+margen_mayorista)*tc['TCN']\n",
        "  else: precio_considerado[column] = internacionales[column]"
      ],
      "metadata": {
        "id": "u8djZsxULO_v"
      },
      "execution_count": 114,
      "outputs": []
    },
    {
      "cell_type": "markdown",
      "source": [
        "Se presentan las 5 primeras filas del *DataFrame*."
      ],
      "metadata": {
        "id": "b2cKpg8ujtMX"
      }
    },
    {
      "cell_type": "code",
      "source": [
        "precio_considerado.head()"
      ],
      "metadata": {
        "id": "NrdpVthwRk7s",
        "colab": {
          "base_uri": "https://localhost:8080/",
          "height": 206
        },
        "outputId": "f9141e5a-c8f4-4fd3-f3b3-cd3442c20e6d"
      },
      "execution_count": 115,
      "outputs": [
        {
          "output_type": "execute_result",
          "data": {
            "text/plain": [
              "     Período  Gas Oil Grado 2  Gas Oil Grado 3  \\\n",
              "0 2019-01-01     19539.594620     19836.050486   \n",
              "1 2019-02-01     21209.387936     21513.782441   \n",
              "2 2019-03-01     23135.511997     23463.315855   \n",
              "3 2019-04-01     24981.736558     25324.371570   \n",
              "4 2019-05-01     25607.595853     25963.698891   \n",
              "\n",
              "   Nafta (súper) entre 92 y 95 Ron  Nafta (premium) de más de 95 Ron  \n",
              "0                     15639.723939                      16232.635671  \n",
              "1                     17438.453758                      18047.242766  \n",
              "2                     22450.955172                      23106.562887  \n",
              "3                     25579.641863                      26264.911887  \n",
              "4                     25825.419704                      26537.625779  "
            ],
            "text/html": [
              "\n",
              "  <div id=\"df-1f756933-4b6f-4739-bba4-2caf2989408c\">\n",
              "    <div class=\"colab-df-container\">\n",
              "      <div>\n",
              "<style scoped>\n",
              "    .dataframe tbody tr th:only-of-type {\n",
              "        vertical-align: middle;\n",
              "    }\n",
              "\n",
              "    .dataframe tbody tr th {\n",
              "        vertical-align: top;\n",
              "    }\n",
              "\n",
              "    .dataframe thead th {\n",
              "        text-align: right;\n",
              "    }\n",
              "</style>\n",
              "<table border=\"1\" class=\"dataframe\">\n",
              "  <thead>\n",
              "    <tr style=\"text-align: right;\">\n",
              "      <th></th>\n",
              "      <th>Período</th>\n",
              "      <th>Gas Oil Grado 2</th>\n",
              "      <th>Gas Oil Grado 3</th>\n",
              "      <th>Nafta (súper) entre 92 y 95 Ron</th>\n",
              "      <th>Nafta (premium) de más de 95 Ron</th>\n",
              "    </tr>\n",
              "  </thead>\n",
              "  <tbody>\n",
              "    <tr>\n",
              "      <th>0</th>\n",
              "      <td>2019-01-01</td>\n",
              "      <td>19539.594620</td>\n",
              "      <td>19836.050486</td>\n",
              "      <td>15639.723939</td>\n",
              "      <td>16232.635671</td>\n",
              "    </tr>\n",
              "    <tr>\n",
              "      <th>1</th>\n",
              "      <td>2019-02-01</td>\n",
              "      <td>21209.387936</td>\n",
              "      <td>21513.782441</td>\n",
              "      <td>17438.453758</td>\n",
              "      <td>18047.242766</td>\n",
              "    </tr>\n",
              "    <tr>\n",
              "      <th>2</th>\n",
              "      <td>2019-03-01</td>\n",
              "      <td>23135.511997</td>\n",
              "      <td>23463.315855</td>\n",
              "      <td>22450.955172</td>\n",
              "      <td>23106.562887</td>\n",
              "    </tr>\n",
              "    <tr>\n",
              "      <th>3</th>\n",
              "      <td>2019-04-01</td>\n",
              "      <td>24981.736558</td>\n",
              "      <td>25324.371570</td>\n",
              "      <td>25579.641863</td>\n",
              "      <td>26264.911887</td>\n",
              "    </tr>\n",
              "    <tr>\n",
              "      <th>4</th>\n",
              "      <td>2019-05-01</td>\n",
              "      <td>25607.595853</td>\n",
              "      <td>25963.698891</td>\n",
              "      <td>25825.419704</td>\n",
              "      <td>26537.625779</td>\n",
              "    </tr>\n",
              "  </tbody>\n",
              "</table>\n",
              "</div>\n",
              "      <button class=\"colab-df-convert\" onclick=\"convertToInteractive('df-1f756933-4b6f-4739-bba4-2caf2989408c')\"\n",
              "              title=\"Convert this dataframe to an interactive table.\"\n",
              "              style=\"display:none;\">\n",
              "        \n",
              "  <svg xmlns=\"http://www.w3.org/2000/svg\" height=\"24px\"viewBox=\"0 0 24 24\"\n",
              "       width=\"24px\">\n",
              "    <path d=\"M0 0h24v24H0V0z\" fill=\"none\"/>\n",
              "    <path d=\"M18.56 5.44l.94 2.06.94-2.06 2.06-.94-2.06-.94-.94-2.06-.94 2.06-2.06.94zm-11 1L8.5 8.5l.94-2.06 2.06-.94-2.06-.94L8.5 2.5l-.94 2.06-2.06.94zm10 10l.94 2.06.94-2.06 2.06-.94-2.06-.94-.94-2.06-.94 2.06-2.06.94z\"/><path d=\"M17.41 7.96l-1.37-1.37c-.4-.4-.92-.59-1.43-.59-.52 0-1.04.2-1.43.59L10.3 9.45l-7.72 7.72c-.78.78-.78 2.05 0 2.83L4 21.41c.39.39.9.59 1.41.59.51 0 1.02-.2 1.41-.59l7.78-7.78 2.81-2.81c.8-.78.8-2.07 0-2.86zM5.41 20L4 18.59l7.72-7.72 1.47 1.35L5.41 20z\"/>\n",
              "  </svg>\n",
              "      </button>\n",
              "      \n",
              "  <style>\n",
              "    .colab-df-container {\n",
              "      display:flex;\n",
              "      flex-wrap:wrap;\n",
              "      gap: 12px;\n",
              "    }\n",
              "\n",
              "    .colab-df-convert {\n",
              "      background-color: #E8F0FE;\n",
              "      border: none;\n",
              "      border-radius: 50%;\n",
              "      cursor: pointer;\n",
              "      display: none;\n",
              "      fill: #1967D2;\n",
              "      height: 32px;\n",
              "      padding: 0 0 0 0;\n",
              "      width: 32px;\n",
              "    }\n",
              "\n",
              "    .colab-df-convert:hover {\n",
              "      background-color: #E2EBFA;\n",
              "      box-shadow: 0px 1px 2px rgba(60, 64, 67, 0.3), 0px 1px 3px 1px rgba(60, 64, 67, 0.15);\n",
              "      fill: #174EA6;\n",
              "    }\n",
              "\n",
              "    [theme=dark] .colab-df-convert {\n",
              "      background-color: #3B4455;\n",
              "      fill: #D2E3FC;\n",
              "    }\n",
              "\n",
              "    [theme=dark] .colab-df-convert:hover {\n",
              "      background-color: #434B5C;\n",
              "      box-shadow: 0px 1px 3px 1px rgba(0, 0, 0, 0.15);\n",
              "      filter: drop-shadow(0px 1px 2px rgba(0, 0, 0, 0.3));\n",
              "      fill: #FFFFFF;\n",
              "    }\n",
              "  </style>\n",
              "\n",
              "      <script>\n",
              "        const buttonEl =\n",
              "          document.querySelector('#df-1f756933-4b6f-4739-bba4-2caf2989408c button.colab-df-convert');\n",
              "        buttonEl.style.display =\n",
              "          google.colab.kernel.accessAllowed ? 'block' : 'none';\n",
              "\n",
              "        async function convertToInteractive(key) {\n",
              "          const element = document.querySelector('#df-1f756933-4b6f-4739-bba4-2caf2989408c');\n",
              "          const dataTable =\n",
              "            await google.colab.kernel.invokeFunction('convertToInteractive',\n",
              "                                                     [key], {});\n",
              "          if (!dataTable) return;\n",
              "\n",
              "          const docLinkHtml = 'Like what you see? Visit the ' +\n",
              "            '<a target=\"_blank\" href=https://colab.research.google.com/notebooks/data_table.ipynb>data table notebook</a>'\n",
              "            + ' to learn more about interactive tables.';\n",
              "          element.innerHTML = '';\n",
              "          dataTable['output_type'] = 'display_data';\n",
              "          await google.colab.output.renderOutput(dataTable, element);\n",
              "          const docLink = document.createElement('div');\n",
              "          docLink.innerHTML = docLinkHtml;\n",
              "          element.appendChild(docLink);\n",
              "        }\n",
              "      </script>\n",
              "    </div>\n",
              "  </div>\n",
              "  "
            ]
          },
          "metadata": {},
          "execution_count": 115
        }
      ]
    },
    {
      "cell_type": "markdown",
      "source": [
        "#### Cálculo del anticipo del pago de impuestos\n",
        "\n",
        "Primeramente, se explicitan los porcentajes para los tributos del país: Ingresos Brutos (`iibb`), Impuesto a las Ganancias (`igg`) e Impuesto al Valor Agregado (`iva`). Los porcentajes de dichos impuestos se suman en la variable `ad_valorem`."
      ],
      "metadata": {
        "id": "TB25kJQRj0_4"
      }
    },
    {
      "cell_type": "code",
      "source": [
        "iibb = 0.03\n",
        "igg = 0.05\n",
        "iva = 0.21\n",
        "ad_valorem = iibb + igg + iva"
      ],
      "metadata": {
        "id": "akikEr0ygtOD"
      },
      "execution_count": 116,
      "outputs": []
    },
    {
      "cell_type": "markdown",
      "source": [
        "Luego, se especifica la tasa de adelanto del pago de impuestos."
      ],
      "metadata": {
        "id": "c9UmXV-qkPCb"
      }
    },
    {
      "cell_type": "code",
      "source": [
        "adelanto = 0.02209"
      ],
      "metadata": {
        "id": "xldp98g2Yb3H"
      },
      "execution_count": 117,
      "outputs": []
    },
    {
      "cell_type": "markdown",
      "source": [
        "Se crea un *DataFrame* vacío, `anticipo_impuestos`, que almacenará los datos de los montos del anticipo del pago de impuestos según producto."
      ],
      "metadata": {
        "id": "atwMNuvokfVa"
      }
    },
    {
      "cell_type": "code",
      "source": [
        "anticipo_impuestos = pd.DataFrame()"
      ],
      "metadata": {
        "id": "SXNCeONuksN2"
      },
      "execution_count": 118,
      "outputs": []
    },
    {
      "cell_type": "markdown",
      "source": [
        "A partir de los datos obtenidos en el *DataFrame* `precio_considerado`, se calculan los montos del anticipo de impuestos."
      ],
      "metadata": {
        "id": "gDZrJbsik7GQ"
      }
    },
    {
      "cell_type": "code",
      "source": [
        "for column in precio_considerado.columns:\n",
        "  if \"Gas\" in column:\n",
        "    anticipo_impuestos[\"Total \" + column] = (impuestos['ICL GO'] + impuestos['ICO GO'] + precio_considerado[column]*ad_valorem)*adelanto\n",
        "    anticipo_impuestos[\"Total \" + column+str(\" - ZE\")] = (impuestos['ICL GO ZE'] + impuestos['ICO GO'] + precio_considerado[column]*ad_valorem)*adelanto\n",
        "  elif \"Nafta\" in column:\n",
        "    anticipo_impuestos[\"Total \" + column] = (impuestos['ICL N'] + impuestos['ICO N'] + precio_considerado[column]*ad_valorem)*adelanto\n",
        "    anticipo_impuestos[\"Total \" + column+str(\" - ZE\")] = (impuestos['ICL N ZE'] + impuestos['ICO N'] + precio_considerado[column]*ad_valorem)*adelanto\n",
        "  else: anticipo_impuestos[column] = precio_considerado[column]"
      ],
      "metadata": {
        "id": "wyFSofX_jWv1"
      },
      "execution_count": 119,
      "outputs": []
    },
    {
      "cell_type": "markdown",
      "source": [
        "Se presentan las primeras 5 filas del *DataFrame*."
      ],
      "metadata": {
        "id": "pwH1IjN3kuny"
      }
    },
    {
      "cell_type": "code",
      "source": [
        "anticipo_impuestos.head()"
      ],
      "metadata": {
        "id": "x0m3Iow8kxbD",
        "colab": {
          "base_uri": "https://localhost:8080/",
          "height": 354
        },
        "outputId": "0cdbb23c-672f-4b98-a7eb-f5e4d1e19abf"
      },
      "execution_count": 120,
      "outputs": [
        {
          "output_type": "execute_result",
          "data": {
            "text/plain": [
              "     Período  Total Gas Oil Grado 2  Total Gas Oil Grado 2 - ZE  \\\n",
              "0 2019-01-01             260.297127                  204.652417   \n",
              "1 2019-02-01             270.993990                  215.349280   \n",
              "2 2019-03-01             291.174883                  236.921843   \n",
              "3 2019-04-01             310.843933                  248.748943   \n",
              "4 2019-05-01             314.853250                  252.758260   \n",
              "\n",
              "   Total Gas Oil Grado 3  Total Gas Oil Grado 3 - ZE  \\\n",
              "0             262.196253                  206.551543   \n",
              "1             272.943972                  217.299262   \n",
              "2             293.274828                  239.021788   \n",
              "3             313.038887                  250.943897   \n",
              "4             317.134481                  255.039491   \n",
              "\n",
              "   Total Nafta (súper) entre 92 y 95 Ron  \\\n",
              "0                             308.895956   \n",
              "1                             320.418799   \n",
              "2                             364.634704   \n",
              "3                             396.782704   \n",
              "4                             398.357181   \n",
              "\n",
              "   Total Nafta (súper) entre 92 y 95 Ron - ZE  \\\n",
              "0                                  112.228686   \n",
              "1                                  123.751529   \n",
              "2                                  157.253784   \n",
              "3                                  177.296464   \n",
              "4                                  178.870941   \n",
              "\n",
              "   Total Nafta (premium) de más de 95 Ron  \\\n",
              "0                              312.694207   \n",
              "1                              324.318762   \n",
              "2                              368.834593   \n",
              "3                              401.172612   \n",
              "4                              402.919645   \n",
              "\n",
              "   Total Nafta (premium) de más de 95 Ron - ZE  \n",
              "0                                   116.026937  \n",
              "1                                   127.651492  \n",
              "2                                   161.453673  \n",
              "3                                   181.686372  \n",
              "4                                   183.433405  "
            ],
            "text/html": [
              "\n",
              "  <div id=\"df-d682a849-549a-4092-8add-387c9c38d49c\">\n",
              "    <div class=\"colab-df-container\">\n",
              "      <div>\n",
              "<style scoped>\n",
              "    .dataframe tbody tr th:only-of-type {\n",
              "        vertical-align: middle;\n",
              "    }\n",
              "\n",
              "    .dataframe tbody tr th {\n",
              "        vertical-align: top;\n",
              "    }\n",
              "\n",
              "    .dataframe thead th {\n",
              "        text-align: right;\n",
              "    }\n",
              "</style>\n",
              "<table border=\"1\" class=\"dataframe\">\n",
              "  <thead>\n",
              "    <tr style=\"text-align: right;\">\n",
              "      <th></th>\n",
              "      <th>Período</th>\n",
              "      <th>Total Gas Oil Grado 2</th>\n",
              "      <th>Total Gas Oil Grado 2 - ZE</th>\n",
              "      <th>Total Gas Oil Grado 3</th>\n",
              "      <th>Total Gas Oil Grado 3 - ZE</th>\n",
              "      <th>Total Nafta (súper) entre 92 y 95 Ron</th>\n",
              "      <th>Total Nafta (súper) entre 92 y 95 Ron - ZE</th>\n",
              "      <th>Total Nafta (premium) de más de 95 Ron</th>\n",
              "      <th>Total Nafta (premium) de más de 95 Ron - ZE</th>\n",
              "    </tr>\n",
              "  </thead>\n",
              "  <tbody>\n",
              "    <tr>\n",
              "      <th>0</th>\n",
              "      <td>2019-01-01</td>\n",
              "      <td>260.297127</td>\n",
              "      <td>204.652417</td>\n",
              "      <td>262.196253</td>\n",
              "      <td>206.551543</td>\n",
              "      <td>308.895956</td>\n",
              "      <td>112.228686</td>\n",
              "      <td>312.694207</td>\n",
              "      <td>116.026937</td>\n",
              "    </tr>\n",
              "    <tr>\n",
              "      <th>1</th>\n",
              "      <td>2019-02-01</td>\n",
              "      <td>270.993990</td>\n",
              "      <td>215.349280</td>\n",
              "      <td>272.943972</td>\n",
              "      <td>217.299262</td>\n",
              "      <td>320.418799</td>\n",
              "      <td>123.751529</td>\n",
              "      <td>324.318762</td>\n",
              "      <td>127.651492</td>\n",
              "    </tr>\n",
              "    <tr>\n",
              "      <th>2</th>\n",
              "      <td>2019-03-01</td>\n",
              "      <td>291.174883</td>\n",
              "      <td>236.921843</td>\n",
              "      <td>293.274828</td>\n",
              "      <td>239.021788</td>\n",
              "      <td>364.634704</td>\n",
              "      <td>157.253784</td>\n",
              "      <td>368.834593</td>\n",
              "      <td>161.453673</td>\n",
              "    </tr>\n",
              "    <tr>\n",
              "      <th>3</th>\n",
              "      <td>2019-04-01</td>\n",
              "      <td>310.843933</td>\n",
              "      <td>248.748943</td>\n",
              "      <td>313.038887</td>\n",
              "      <td>250.943897</td>\n",
              "      <td>396.782704</td>\n",
              "      <td>177.296464</td>\n",
              "      <td>401.172612</td>\n",
              "      <td>181.686372</td>\n",
              "    </tr>\n",
              "    <tr>\n",
              "      <th>4</th>\n",
              "      <td>2019-05-01</td>\n",
              "      <td>314.853250</td>\n",
              "      <td>252.758260</td>\n",
              "      <td>317.134481</td>\n",
              "      <td>255.039491</td>\n",
              "      <td>398.357181</td>\n",
              "      <td>178.870941</td>\n",
              "      <td>402.919645</td>\n",
              "      <td>183.433405</td>\n",
              "    </tr>\n",
              "  </tbody>\n",
              "</table>\n",
              "</div>\n",
              "      <button class=\"colab-df-convert\" onclick=\"convertToInteractive('df-d682a849-549a-4092-8add-387c9c38d49c')\"\n",
              "              title=\"Convert this dataframe to an interactive table.\"\n",
              "              style=\"display:none;\">\n",
              "        \n",
              "  <svg xmlns=\"http://www.w3.org/2000/svg\" height=\"24px\"viewBox=\"0 0 24 24\"\n",
              "       width=\"24px\">\n",
              "    <path d=\"M0 0h24v24H0V0z\" fill=\"none\"/>\n",
              "    <path d=\"M18.56 5.44l.94 2.06.94-2.06 2.06-.94-2.06-.94-.94-2.06-.94 2.06-2.06.94zm-11 1L8.5 8.5l.94-2.06 2.06-.94-2.06-.94L8.5 2.5l-.94 2.06-2.06.94zm10 10l.94 2.06.94-2.06 2.06-.94-2.06-.94-.94-2.06-.94 2.06-2.06.94z\"/><path d=\"M17.41 7.96l-1.37-1.37c-.4-.4-.92-.59-1.43-.59-.52 0-1.04.2-1.43.59L10.3 9.45l-7.72 7.72c-.78.78-.78 2.05 0 2.83L4 21.41c.39.39.9.59 1.41.59.51 0 1.02-.2 1.41-.59l7.78-7.78 2.81-2.81c.8-.78.8-2.07 0-2.86zM5.41 20L4 18.59l7.72-7.72 1.47 1.35L5.41 20z\"/>\n",
              "  </svg>\n",
              "      </button>\n",
              "      \n",
              "  <style>\n",
              "    .colab-df-container {\n",
              "      display:flex;\n",
              "      flex-wrap:wrap;\n",
              "      gap: 12px;\n",
              "    }\n",
              "\n",
              "    .colab-df-convert {\n",
              "      background-color: #E8F0FE;\n",
              "      border: none;\n",
              "      border-radius: 50%;\n",
              "      cursor: pointer;\n",
              "      display: none;\n",
              "      fill: #1967D2;\n",
              "      height: 32px;\n",
              "      padding: 0 0 0 0;\n",
              "      width: 32px;\n",
              "    }\n",
              "\n",
              "    .colab-df-convert:hover {\n",
              "      background-color: #E2EBFA;\n",
              "      box-shadow: 0px 1px 2px rgba(60, 64, 67, 0.3), 0px 1px 3px 1px rgba(60, 64, 67, 0.15);\n",
              "      fill: #174EA6;\n",
              "    }\n",
              "\n",
              "    [theme=dark] .colab-df-convert {\n",
              "      background-color: #3B4455;\n",
              "      fill: #D2E3FC;\n",
              "    }\n",
              "\n",
              "    [theme=dark] .colab-df-convert:hover {\n",
              "      background-color: #434B5C;\n",
              "      box-shadow: 0px 1px 3px 1px rgba(0, 0, 0, 0.15);\n",
              "      filter: drop-shadow(0px 1px 2px rgba(0, 0, 0, 0.3));\n",
              "      fill: #FFFFFF;\n",
              "    }\n",
              "  </style>\n",
              "\n",
              "      <script>\n",
              "        const buttonEl =\n",
              "          document.querySelector('#df-d682a849-549a-4092-8add-387c9c38d49c button.colab-df-convert');\n",
              "        buttonEl.style.display =\n",
              "          google.colab.kernel.accessAllowed ? 'block' : 'none';\n",
              "\n",
              "        async function convertToInteractive(key) {\n",
              "          const element = document.querySelector('#df-d682a849-549a-4092-8add-387c9c38d49c');\n",
              "          const dataTable =\n",
              "            await google.colab.kernel.invokeFunction('convertToInteractive',\n",
              "                                                     [key], {});\n",
              "          if (!dataTable) return;\n",
              "\n",
              "          const docLinkHtml = 'Like what you see? Visit the ' +\n",
              "            '<a target=\"_blank\" href=https://colab.research.google.com/notebooks/data_table.ipynb>data table notebook</a>'\n",
              "            + ' to learn more about interactive tables.';\n",
              "          element.innerHTML = '';\n",
              "          dataTable['output_type'] = 'display_data';\n",
              "          await google.colab.output.renderOutput(dataTable, element);\n",
              "          const docLink = document.createElement('div');\n",
              "          docLink.innerHTML = docLinkHtml;\n",
              "          element.appendChild(docLink);\n",
              "        }\n",
              "      </script>\n",
              "    </div>\n",
              "  </div>\n",
              "  "
            ]
          },
          "metadata": {},
          "execution_count": 120
        }
      ]
    },
    {
      "cell_type": "markdown",
      "source": [
        "### Cálculo de los totales fósiles en ARS\n",
        "\n",
        "Los montos correspondientes a los totales fósiles en ARS se construyen a partir de los datos recopilados en los *DataFrames* `subtotal_fosiles_ARS` y `anticipo_impuestos`."
      ],
      "metadata": {
        "id": "N2vNxSgPkyy4"
      }
    },
    {
      "cell_type": "markdown",
      "source": [
        "Se crea un *DataFrame* vacío, `total_bases_ARS`, que almacenará los montos totales de las bases fósiles en ARS."
      ],
      "metadata": {
        "id": "RLIkj5DZlv2V"
      }
    },
    {
      "cell_type": "code",
      "source": [
        "total_bases_ARS = pd.DataFrame()"
      ],
      "metadata": {
        "id": "l1Wz1ZxnlUH0"
      },
      "execution_count": 121,
      "outputs": []
    },
    {
      "cell_type": "markdown",
      "source": [
        "Los montos totales de las bases fósiles en ARS se calculan teniendo en cuenta los subtotales de las bases fósiles y los anticipos de impuestos."
      ],
      "metadata": {
        "id": "7iItpRpul2Me"
      }
    },
    {
      "cell_type": "code",
      "source": [
        "for column in subtotal_fosiles_ARS.columns:\n",
        "  if column != subtotal_fosiles_ARS.columns[0]:\n",
        "    total_bases_ARS[column] = subtotal_fosiles_ARS[column]\n",
        "    total_bases_ARS[column+\" - ZE\"] = subtotal_fosiles_ARS[column]\n",
        "  else: total_bases_ARS[column] = subtotal_fosiles_ARS[column]\n",
        "\n",
        "for col_base in total_bases_ARS.columns:\n",
        "  for col_impuesto in anticipo_impuestos.columns:\n",
        "    if (\"ZE\" not in col_base and col_impuesto == str(\"Total \" + col_base)):\n",
        "        total_bases_ARS[col_base] = total_bases_ARS[col_base] + anticipo_impuestos[col_impuesto]\n",
        "    elif (\"ZE\" in col_base and col_impuesto == str(\"Total \" + col_base)):\n",
        "      total_bases_ARS[col_base] = total_bases_ARS[col_base] + anticipo_impuestos[col_impuesto]\n",
        "    else: total_bases_ARS[col_base] = total_bases_ARS[col_base]"
      ],
      "metadata": {
        "id": "zDOTsd_XRk-8"
      },
      "execution_count": 122,
      "outputs": []
    },
    {
      "cell_type": "markdown",
      "source": [
        "Se presentan las 5 primeras filas del *DataFrame*."
      ],
      "metadata": {
        "id": "Vivoh1POl-2Y"
      }
    },
    {
      "cell_type": "code",
      "source": [
        "total_bases_ARS.head()"
      ],
      "metadata": {
        "id": "vQVoxQXwzpVf",
        "colab": {
          "base_uri": "https://localhost:8080/",
          "height": 354
        },
        "outputId": "f7ffc95c-c492-45af-91d1-18476b3b07ce"
      },
      "execution_count": 123,
      "outputs": [
        {
          "output_type": "execute_result",
          "data": {
            "text/plain": [
              "     Período  Gas Oil Grado 2  Gas Oil Grado 2 - ZE  Gas Oil Grado 3  \\\n",
              "0 2019-01-01     20773.520959          20717.876249     21074.487443   \n",
              "1 2019-02-01     22490.183481          22434.538771     22799.209391   \n",
              "2 2019-03-01     24516.745746          24462.492706     24849.537185   \n",
              "3 2019-04-01     26439.000636          26376.905646     26786.848888   \n",
              "4 2019-05-01     27110.794897          27048.699907     27472.316093   \n",
              "\n",
              "   Gas Oil Grado 3 - ZE  Nafta (súper) entre 92 y 95 Ron  \\\n",
              "0          21018.842733                     16862.998569   \n",
              "1          22743.564681                     18709.892693   \n",
              "2          24795.284145                     23872.089428   \n",
              "3          26724.753898                     27099.337138   \n",
              "4          27410.221103                     27384.135905   \n",
              "\n",
              "   Nafta (súper) entre 92 y 95 Ron - ZE  Nafta (premium) de más de 95 Ron  \\\n",
              "0                          16666.331299                      17464.931538   \n",
              "1                          18513.225423                      19327.944512   \n",
              "2                          23664.708508                      24537.672307   \n",
              "3                          26879.850898                      27795.033642   \n",
              "4                          27164.649665                      28107.178297   \n",
              "\n",
              "   Nafta (premium) de más de 95 Ron - ZE  \n",
              "0                           17268.264268  \n",
              "1                           19131.277242  \n",
              "2                           24330.291387  \n",
              "3                           27575.547402  \n",
              "4                           27887.692057  "
            ],
            "text/html": [
              "\n",
              "  <div id=\"df-5fb13641-27ae-4081-9790-00bc5757a52e\">\n",
              "    <div class=\"colab-df-container\">\n",
              "      <div>\n",
              "<style scoped>\n",
              "    .dataframe tbody tr th:only-of-type {\n",
              "        vertical-align: middle;\n",
              "    }\n",
              "\n",
              "    .dataframe tbody tr th {\n",
              "        vertical-align: top;\n",
              "    }\n",
              "\n",
              "    .dataframe thead th {\n",
              "        text-align: right;\n",
              "    }\n",
              "</style>\n",
              "<table border=\"1\" class=\"dataframe\">\n",
              "  <thead>\n",
              "    <tr style=\"text-align: right;\">\n",
              "      <th></th>\n",
              "      <th>Período</th>\n",
              "      <th>Gas Oil Grado 2</th>\n",
              "      <th>Gas Oil Grado 2 - ZE</th>\n",
              "      <th>Gas Oil Grado 3</th>\n",
              "      <th>Gas Oil Grado 3 - ZE</th>\n",
              "      <th>Nafta (súper) entre 92 y 95 Ron</th>\n",
              "      <th>Nafta (súper) entre 92 y 95 Ron - ZE</th>\n",
              "      <th>Nafta (premium) de más de 95 Ron</th>\n",
              "      <th>Nafta (premium) de más de 95 Ron - ZE</th>\n",
              "    </tr>\n",
              "  </thead>\n",
              "  <tbody>\n",
              "    <tr>\n",
              "      <th>0</th>\n",
              "      <td>2019-01-01</td>\n",
              "      <td>20773.520959</td>\n",
              "      <td>20717.876249</td>\n",
              "      <td>21074.487443</td>\n",
              "      <td>21018.842733</td>\n",
              "      <td>16862.998569</td>\n",
              "      <td>16666.331299</td>\n",
              "      <td>17464.931538</td>\n",
              "      <td>17268.264268</td>\n",
              "    </tr>\n",
              "    <tr>\n",
              "      <th>1</th>\n",
              "      <td>2019-02-01</td>\n",
              "      <td>22490.183481</td>\n",
              "      <td>22434.538771</td>\n",
              "      <td>22799.209391</td>\n",
              "      <td>22743.564681</td>\n",
              "      <td>18709.892693</td>\n",
              "      <td>18513.225423</td>\n",
              "      <td>19327.944512</td>\n",
              "      <td>19131.277242</td>\n",
              "    </tr>\n",
              "    <tr>\n",
              "      <th>2</th>\n",
              "      <td>2019-03-01</td>\n",
              "      <td>24516.745746</td>\n",
              "      <td>24462.492706</td>\n",
              "      <td>24849.537185</td>\n",
              "      <td>24795.284145</td>\n",
              "      <td>23872.089428</td>\n",
              "      <td>23664.708508</td>\n",
              "      <td>24537.672307</td>\n",
              "      <td>24330.291387</td>\n",
              "    </tr>\n",
              "    <tr>\n",
              "      <th>3</th>\n",
              "      <td>2019-04-01</td>\n",
              "      <td>26439.000636</td>\n",
              "      <td>26376.905646</td>\n",
              "      <td>26786.848888</td>\n",
              "      <td>26724.753898</td>\n",
              "      <td>27099.337138</td>\n",
              "      <td>26879.850898</td>\n",
              "      <td>27795.033642</td>\n",
              "      <td>27575.547402</td>\n",
              "    </tr>\n",
              "    <tr>\n",
              "      <th>4</th>\n",
              "      <td>2019-05-01</td>\n",
              "      <td>27110.794897</td>\n",
              "      <td>27048.699907</td>\n",
              "      <td>27472.316093</td>\n",
              "      <td>27410.221103</td>\n",
              "      <td>27384.135905</td>\n",
              "      <td>27164.649665</td>\n",
              "      <td>28107.178297</td>\n",
              "      <td>27887.692057</td>\n",
              "    </tr>\n",
              "  </tbody>\n",
              "</table>\n",
              "</div>\n",
              "      <button class=\"colab-df-convert\" onclick=\"convertToInteractive('df-5fb13641-27ae-4081-9790-00bc5757a52e')\"\n",
              "              title=\"Convert this dataframe to an interactive table.\"\n",
              "              style=\"display:none;\">\n",
              "        \n",
              "  <svg xmlns=\"http://www.w3.org/2000/svg\" height=\"24px\"viewBox=\"0 0 24 24\"\n",
              "       width=\"24px\">\n",
              "    <path d=\"M0 0h24v24H0V0z\" fill=\"none\"/>\n",
              "    <path d=\"M18.56 5.44l.94 2.06.94-2.06 2.06-.94-2.06-.94-.94-2.06-.94 2.06-2.06.94zm-11 1L8.5 8.5l.94-2.06 2.06-.94-2.06-.94L8.5 2.5l-.94 2.06-2.06.94zm10 10l.94 2.06.94-2.06 2.06-.94-2.06-.94-.94-2.06-.94 2.06-2.06.94z\"/><path d=\"M17.41 7.96l-1.37-1.37c-.4-.4-.92-.59-1.43-.59-.52 0-1.04.2-1.43.59L10.3 9.45l-7.72 7.72c-.78.78-.78 2.05 0 2.83L4 21.41c.39.39.9.59 1.41.59.51 0 1.02-.2 1.41-.59l7.78-7.78 2.81-2.81c.8-.78.8-2.07 0-2.86zM5.41 20L4 18.59l7.72-7.72 1.47 1.35L5.41 20z\"/>\n",
              "  </svg>\n",
              "      </button>\n",
              "      \n",
              "  <style>\n",
              "    .colab-df-container {\n",
              "      display:flex;\n",
              "      flex-wrap:wrap;\n",
              "      gap: 12px;\n",
              "    }\n",
              "\n",
              "    .colab-df-convert {\n",
              "      background-color: #E8F0FE;\n",
              "      border: none;\n",
              "      border-radius: 50%;\n",
              "      cursor: pointer;\n",
              "      display: none;\n",
              "      fill: #1967D2;\n",
              "      height: 32px;\n",
              "      padding: 0 0 0 0;\n",
              "      width: 32px;\n",
              "    }\n",
              "\n",
              "    .colab-df-convert:hover {\n",
              "      background-color: #E2EBFA;\n",
              "      box-shadow: 0px 1px 2px rgba(60, 64, 67, 0.3), 0px 1px 3px 1px rgba(60, 64, 67, 0.15);\n",
              "      fill: #174EA6;\n",
              "    }\n",
              "\n",
              "    [theme=dark] .colab-df-convert {\n",
              "      background-color: #3B4455;\n",
              "      fill: #D2E3FC;\n",
              "    }\n",
              "\n",
              "    [theme=dark] .colab-df-convert:hover {\n",
              "      background-color: #434B5C;\n",
              "      box-shadow: 0px 1px 3px 1px rgba(0, 0, 0, 0.15);\n",
              "      filter: drop-shadow(0px 1px 2px rgba(0, 0, 0, 0.3));\n",
              "      fill: #FFFFFF;\n",
              "    }\n",
              "  </style>\n",
              "\n",
              "      <script>\n",
              "        const buttonEl =\n",
              "          document.querySelector('#df-5fb13641-27ae-4081-9790-00bc5757a52e button.colab-df-convert');\n",
              "        buttonEl.style.display =\n",
              "          google.colab.kernel.accessAllowed ? 'block' : 'none';\n",
              "\n",
              "        async function convertToInteractive(key) {\n",
              "          const element = document.querySelector('#df-5fb13641-27ae-4081-9790-00bc5757a52e');\n",
              "          const dataTable =\n",
              "            await google.colab.kernel.invokeFunction('convertToInteractive',\n",
              "                                                     [key], {});\n",
              "          if (!dataTable) return;\n",
              "\n",
              "          const docLinkHtml = 'Like what you see? Visit the ' +\n",
              "            '<a target=\"_blank\" href=https://colab.research.google.com/notebooks/data_table.ipynb>data table notebook</a>'\n",
              "            + ' to learn more about interactive tables.';\n",
              "          element.innerHTML = '';\n",
              "          dataTable['output_type'] = 'display_data';\n",
              "          await google.colab.output.renderOutput(dataTable, element);\n",
              "          const docLink = document.createElement('div');\n",
              "          docLink.innerHTML = docLinkHtml;\n",
              "          element.appendChild(docLink);\n",
              "        }\n",
              "      </script>\n",
              "    </div>\n",
              "  </div>\n",
              "  "
            ]
          },
          "metadata": {},
          "execution_count": 123
        }
      ]
    },
    {
      "cell_type": "markdown",
      "source": [
        "### Cálculo de montos erogados en flete\n",
        "\n",
        "Los montos erogados en concepto de flete dependen, por un lado, de las distancias recorridas y, por el otro, de la evolución del índice de flete terrestre, computado oportunamente en el *DataFrame* `flete`."
      ],
      "metadata": {
        "id": "gLXaXezWmJeg"
      }
    },
    {
      "cell_type": "markdown",
      "source": [
        "#### Enumeración de distancias y ponderadores\n",
        "\n",
        "A continuación, se enumeran las distancias necesarias para el cálculo de los montos. Se trata de las distancias desde Zárate hasta las capitales provinciales (y la Capital Federal)."
      ],
      "metadata": {
        "id": "mrxtkqoAnOAV"
      }
    },
    {
      "cell_type": "code",
      "source": [
        "Zárate_Buenos_Aires = 153\n",
        "Zárate_Capital_Federal = 95\n",
        "Zárate_Córdoba = 612\n",
        "Zárate_Corrientes = 834\n",
        "Zárate_Mendoza = 1007\n",
        "Zárate_Río_Negro = 970\n",
        "Zárate_Salta = 1403"
      ],
      "metadata": {
        "id": "f0BNCH2g8wDq"
      },
      "execution_count": 124,
      "outputs": []
    },
    {
      "cell_type": "markdown",
      "source": [
        "Estas distancias se agrupan en la lista `distancias_Zárate_provincias`."
      ],
      "metadata": {
        "id": "rCgMGR5WmzE6"
      }
    },
    {
      "cell_type": "code",
      "source": [
        "distancias_Zárate_provincias = [Zárate_Buenos_Aires,\n",
        "                                Zárate_Capital_Federal,\n",
        "                                Zárate_Córdoba,\n",
        "                                Zárate_Corrientes,\n",
        "                                Zárate_Mendoza,\n",
        "                                Zárate_Río_Negro,\n",
        "                                Zárate_Salta]"
      ],
      "metadata": {
        "id": "qP1tfQYtm0B1"
      },
      "execution_count": 125,
      "outputs": []
    },
    {
      "cell_type": "markdown",
      "source": [
        "Asimismo, se agrega la distancia entre San Lorenzo (Santa Fe) a Zárate (Provincia de Buenos Aires)."
      ],
      "metadata": {
        "id": "u7U3y9_Pm6CG"
      }
    },
    {
      "cell_type": "code",
      "source": [
        "SanLorenzo_Zárate = 241"
      ],
      "metadata": {
        "id": "fCoU_fH4m5Dl"
      },
      "execution_count": 126,
      "outputs": []
    },
    {
      "cell_type": "markdown",
      "source": [
        "Se agregan 2 ponderadores, uno para cada tipo de biocombustible."
      ],
      "metadata": {
        "id": "Ab4aSmFWnLix"
      }
    },
    {
      "cell_type": "code",
      "source": [
        "ponderador_biodiesel = 1.25\n",
        "ponderador_bioetanol = 1.75"
      ],
      "metadata": {
        "id": "SqaxXNr4nL_j"
      },
      "execution_count": 127,
      "outputs": []
    },
    {
      "cell_type": "markdown",
      "source": [
        "#### Cálculo de los montos\n",
        "\n",
        "Se establece un costo fijo y un costo total, mientras que el costo variable es calculado según la distancia existente entre Zárate y la Capital Federal."
      ],
      "metadata": {
        "id": "M_E-WIqQnZdX"
      }
    },
    {
      "cell_type": "code",
      "source": [
        "costo_fijo = 20\n",
        "costo_total = 25\n",
        "costo_variable = (costo_total - costo_fijo)/Zárate_Capital_Federal"
      ],
      "metadata": {
        "id": "5T2wBNPfXvA0"
      },
      "execution_count": 128,
      "outputs": []
    },
    {
      "cell_type": "markdown",
      "source": [
        "A partir del *DataFrame* `flete`, que contiene el índice de flete terrestre, se calculan los montos erogados por fletes para los biocombustibles, agregándose 2 columnas al *DataFrame*: \"Biodiesel\" y \"Bioetanol\"."
      ],
      "metadata": {
        "id": "EVDdmrxAnsDg"
      }
    },
    {
      "cell_type": "code",
      "source": [
        "flete['Biodiesel'] = ((costo_fijo*tc['TCN'][23])+(costo_variable*SanLorenzo_Zárate*tc['TCN'][23]))*(flete['Índice de flete terrestre']/flete['Índice de flete terrestre'][23])*ponderador_biodiesel\n",
        "flete['Bioetanol'] = ((costo_fijo*tc['TCN'][23])+(costo_variable*SanLorenzo_Zárate*tc['TCN'][23]))*(flete['Índice de flete terrestre']/flete['Índice de flete terrestre'][23])*ponderador_bioetanol"
      ],
      "metadata": {
        "id": "81sOBr_57E1Q"
      },
      "execution_count": 129,
      "outputs": []
    },
    {
      "cell_type": "markdown",
      "source": [
        "Nuevamente, a partir del *DataFrame* `flete`, se calculan los montos erogados por fletes para cada una de las provincias. Se agregan, así, 7 columnas al *DataFrame* (una por cada provincia analizada)."
      ],
      "metadata": {
        "id": "eazEfKhloYs8"
      }
    },
    {
      "cell_type": "code",
      "source": [
        "for provincia, distancia in zip(provincias, distancias_Zárate_provincias):\n",
        "  flete[provincia] = ((costo_fijo*tc['TCN'][23])+(costo_variable*distancia*tc['TCN'][23]))*(flete['Índice de flete terrestre']/flete['Índice de flete terrestre'][23])"
      ],
      "metadata": {
        "id": "hxEUZU5I7gLT"
      },
      "execution_count": 130,
      "outputs": []
    },
    {
      "cell_type": "markdown",
      "source": [
        "Se presentan las 5 primeras filas del *DataFrame*."
      ],
      "metadata": {
        "id": "qsYLst1iorCT"
      }
    },
    {
      "cell_type": "code",
      "source": [
        "flete.head()"
      ],
      "metadata": {
        "id": "uAG3DVd4zpd2",
        "colab": {
          "base_uri": "https://localhost:8080/",
          "height": 206
        },
        "outputId": "3962a9ba-5941-4561-c800-865f24a420b8"
      },
      "execution_count": 131,
      "outputs": [
        {
          "output_type": "execute_result",
          "data": {
            "text/plain": [
              "     Período  Índice de flete terrestre    Biodiesel    Bioetanol  \\\n",
              "0 2019-01-01                  51.994786  1755.444391  2457.622148   \n",
              "1 2019-02-01                  51.880397  1751.582414  2452.215379   \n",
              "2 2019-03-01                  56.357675  1902.743976  2663.841566   \n",
              "3 2019-04-01                  57.710260  1948.409831  2727.773764   \n",
              "4 2019-05-01                  59.331918  2003.160148  2804.424207   \n",
              "\n",
              "   BUENOS AIRES  CAPITAL FEDERAL      CORDOBA   CORRIENTES      MENDOZA  \\\n",
              "0   1205.348613      1074.184974  2243.350514  2745.390649  3136.620123   \n",
              "1   1202.696846      1071.821767  2238.415142  2739.350789  3129.719559   \n",
              "2   1306.489583      1164.319985  2431.590369  2975.756762  3399.814357   \n",
              "3   1337.845333      1192.263665  2489.948538  3047.174925  3481.409902   \n",
              "4   1375.438787      1225.766274  2559.916092  3132.800540  3579.237520   \n",
              "\n",
              "     RIO NEGRO        SALTA  \n",
              "0  3052.946767  4032.151175  \n",
              "1  3046.230285  4023.280443  \n",
              "2  3309.119958  4370.489545  \n",
              "3  3388.538837  4475.381294  \n",
              "4  3483.756778  4601.139508  "
            ],
            "text/html": [
              "\n",
              "  <div id=\"df-dee8d8a3-c642-4e24-8a53-da7e28b81556\">\n",
              "    <div class=\"colab-df-container\">\n",
              "      <div>\n",
              "<style scoped>\n",
              "    .dataframe tbody tr th:only-of-type {\n",
              "        vertical-align: middle;\n",
              "    }\n",
              "\n",
              "    .dataframe tbody tr th {\n",
              "        vertical-align: top;\n",
              "    }\n",
              "\n",
              "    .dataframe thead th {\n",
              "        text-align: right;\n",
              "    }\n",
              "</style>\n",
              "<table border=\"1\" class=\"dataframe\">\n",
              "  <thead>\n",
              "    <tr style=\"text-align: right;\">\n",
              "      <th></th>\n",
              "      <th>Período</th>\n",
              "      <th>Índice de flete terrestre</th>\n",
              "      <th>Biodiesel</th>\n",
              "      <th>Bioetanol</th>\n",
              "      <th>BUENOS AIRES</th>\n",
              "      <th>CAPITAL FEDERAL</th>\n",
              "      <th>CORDOBA</th>\n",
              "      <th>CORRIENTES</th>\n",
              "      <th>MENDOZA</th>\n",
              "      <th>RIO NEGRO</th>\n",
              "      <th>SALTA</th>\n",
              "    </tr>\n",
              "  </thead>\n",
              "  <tbody>\n",
              "    <tr>\n",
              "      <th>0</th>\n",
              "      <td>2019-01-01</td>\n",
              "      <td>51.994786</td>\n",
              "      <td>1755.444391</td>\n",
              "      <td>2457.622148</td>\n",
              "      <td>1205.348613</td>\n",
              "      <td>1074.184974</td>\n",
              "      <td>2243.350514</td>\n",
              "      <td>2745.390649</td>\n",
              "      <td>3136.620123</td>\n",
              "      <td>3052.946767</td>\n",
              "      <td>4032.151175</td>\n",
              "    </tr>\n",
              "    <tr>\n",
              "      <th>1</th>\n",
              "      <td>2019-02-01</td>\n",
              "      <td>51.880397</td>\n",
              "      <td>1751.582414</td>\n",
              "      <td>2452.215379</td>\n",
              "      <td>1202.696846</td>\n",
              "      <td>1071.821767</td>\n",
              "      <td>2238.415142</td>\n",
              "      <td>2739.350789</td>\n",
              "      <td>3129.719559</td>\n",
              "      <td>3046.230285</td>\n",
              "      <td>4023.280443</td>\n",
              "    </tr>\n",
              "    <tr>\n",
              "      <th>2</th>\n",
              "      <td>2019-03-01</td>\n",
              "      <td>56.357675</td>\n",
              "      <td>1902.743976</td>\n",
              "      <td>2663.841566</td>\n",
              "      <td>1306.489583</td>\n",
              "      <td>1164.319985</td>\n",
              "      <td>2431.590369</td>\n",
              "      <td>2975.756762</td>\n",
              "      <td>3399.814357</td>\n",
              "      <td>3309.119958</td>\n",
              "      <td>4370.489545</td>\n",
              "    </tr>\n",
              "    <tr>\n",
              "      <th>3</th>\n",
              "      <td>2019-04-01</td>\n",
              "      <td>57.710260</td>\n",
              "      <td>1948.409831</td>\n",
              "      <td>2727.773764</td>\n",
              "      <td>1337.845333</td>\n",
              "      <td>1192.263665</td>\n",
              "      <td>2489.948538</td>\n",
              "      <td>3047.174925</td>\n",
              "      <td>3481.409902</td>\n",
              "      <td>3388.538837</td>\n",
              "      <td>4475.381294</td>\n",
              "    </tr>\n",
              "    <tr>\n",
              "      <th>4</th>\n",
              "      <td>2019-05-01</td>\n",
              "      <td>59.331918</td>\n",
              "      <td>2003.160148</td>\n",
              "      <td>2804.424207</td>\n",
              "      <td>1375.438787</td>\n",
              "      <td>1225.766274</td>\n",
              "      <td>2559.916092</td>\n",
              "      <td>3132.800540</td>\n",
              "      <td>3579.237520</td>\n",
              "      <td>3483.756778</td>\n",
              "      <td>4601.139508</td>\n",
              "    </tr>\n",
              "  </tbody>\n",
              "</table>\n",
              "</div>\n",
              "      <button class=\"colab-df-convert\" onclick=\"convertToInteractive('df-dee8d8a3-c642-4e24-8a53-da7e28b81556')\"\n",
              "              title=\"Convert this dataframe to an interactive table.\"\n",
              "              style=\"display:none;\">\n",
              "        \n",
              "  <svg xmlns=\"http://www.w3.org/2000/svg\" height=\"24px\"viewBox=\"0 0 24 24\"\n",
              "       width=\"24px\">\n",
              "    <path d=\"M0 0h24v24H0V0z\" fill=\"none\"/>\n",
              "    <path d=\"M18.56 5.44l.94 2.06.94-2.06 2.06-.94-2.06-.94-.94-2.06-.94 2.06-2.06.94zm-11 1L8.5 8.5l.94-2.06 2.06-.94-2.06-.94L8.5 2.5l-.94 2.06-2.06.94zm10 10l.94 2.06.94-2.06 2.06-.94-2.06-.94-.94-2.06-.94 2.06-2.06.94z\"/><path d=\"M17.41 7.96l-1.37-1.37c-.4-.4-.92-.59-1.43-.59-.52 0-1.04.2-1.43.59L10.3 9.45l-7.72 7.72c-.78.78-.78 2.05 0 2.83L4 21.41c.39.39.9.59 1.41.59.51 0 1.02-.2 1.41-.59l7.78-7.78 2.81-2.81c.8-.78.8-2.07 0-2.86zM5.41 20L4 18.59l7.72-7.72 1.47 1.35L5.41 20z\"/>\n",
              "  </svg>\n",
              "      </button>\n",
              "      \n",
              "  <style>\n",
              "    .colab-df-container {\n",
              "      display:flex;\n",
              "      flex-wrap:wrap;\n",
              "      gap: 12px;\n",
              "    }\n",
              "\n",
              "    .colab-df-convert {\n",
              "      background-color: #E8F0FE;\n",
              "      border: none;\n",
              "      border-radius: 50%;\n",
              "      cursor: pointer;\n",
              "      display: none;\n",
              "      fill: #1967D2;\n",
              "      height: 32px;\n",
              "      padding: 0 0 0 0;\n",
              "      width: 32px;\n",
              "    }\n",
              "\n",
              "    .colab-df-convert:hover {\n",
              "      background-color: #E2EBFA;\n",
              "      box-shadow: 0px 1px 2px rgba(60, 64, 67, 0.3), 0px 1px 3px 1px rgba(60, 64, 67, 0.15);\n",
              "      fill: #174EA6;\n",
              "    }\n",
              "\n",
              "    [theme=dark] .colab-df-convert {\n",
              "      background-color: #3B4455;\n",
              "      fill: #D2E3FC;\n",
              "    }\n",
              "\n",
              "    [theme=dark] .colab-df-convert:hover {\n",
              "      background-color: #434B5C;\n",
              "      box-shadow: 0px 1px 3px 1px rgba(0, 0, 0, 0.15);\n",
              "      filter: drop-shadow(0px 1px 2px rgba(0, 0, 0, 0.3));\n",
              "      fill: #FFFFFF;\n",
              "    }\n",
              "  </style>\n",
              "\n",
              "      <script>\n",
              "        const buttonEl =\n",
              "          document.querySelector('#df-dee8d8a3-c642-4e24-8a53-da7e28b81556 button.colab-df-convert');\n",
              "        buttonEl.style.display =\n",
              "          google.colab.kernel.accessAllowed ? 'block' : 'none';\n",
              "\n",
              "        async function convertToInteractive(key) {\n",
              "          const element = document.querySelector('#df-dee8d8a3-c642-4e24-8a53-da7e28b81556');\n",
              "          const dataTable =\n",
              "            await google.colab.kernel.invokeFunction('convertToInteractive',\n",
              "                                                     [key], {});\n",
              "          if (!dataTable) return;\n",
              "\n",
              "          const docLinkHtml = 'Like what you see? Visit the ' +\n",
              "            '<a target=\"_blank\" href=https://colab.research.google.com/notebooks/data_table.ipynb>data table notebook</a>'\n",
              "            + ' to learn more about interactive tables.';\n",
              "          element.innerHTML = '';\n",
              "          dataTable['output_type'] = 'display_data';\n",
              "          await google.colab.output.renderOutput(dataTable, element);\n",
              "          const docLink = document.createElement('div');\n",
              "          docLink.innerHTML = docLinkHtml;\n",
              "          element.appendChild(docLink);\n",
              "        }\n",
              "      </script>\n",
              "    </div>\n",
              "  </div>\n",
              "  "
            ]
          },
          "metadata": {},
          "execution_count": 131
        }
      ]
    },
    {
      "cell_type": "markdown",
      "source": [
        "### Cálculo de los precios totales de biocombustibles\n",
        "\n",
        "El precio total del biocombustible incorpora los anticipos de impuestos y el flete correspondiente."
      ],
      "metadata": {
        "id": "HK37xZtnmS7F"
      }
    },
    {
      "cell_type": "code",
      "source": [
        "for column in biocombustibles.columns[1:]:\n",
        "  biocombustibles[column] = biocombustibles[column]*(1+adelanto) + flete[column]"
      ],
      "metadata": {
        "id": "ku-KAbq68m5M"
      },
      "execution_count": 132,
      "outputs": []
    },
    {
      "cell_type": "markdown",
      "source": [
        "Se presentan las 5 primeras filas del *DataFrame*."
      ],
      "metadata": {
        "id": "8XtbV0_ipIaB"
      }
    },
    {
      "cell_type": "code",
      "source": [
        "biocombustibles.head()"
      ],
      "metadata": {
        "id": "XU6mySNyzpgl",
        "colab": {
          "base_uri": "https://localhost:8080/",
          "height": 206
        },
        "outputId": "e8f16c34-96d0-47a0-d34c-a5f3b93485e5"
      },
      "execution_count": 133,
      "outputs": [
        {
          "output_type": "execute_result",
          "data": {
            "text/plain": [
              "     Período     Biodiesel     Bioetanol\n",
              "0 2019-01-01  27420.253075  24148.416128\n",
              "1 2019-02-01  26799.696742  24566.665664\n",
              "2 2019-03-01  26950.858304  24778.291851\n",
              "3 2019-04-01  27969.108209  25008.824719\n",
              "4 2019-05-01  28933.958123  25637.403762"
            ],
            "text/html": [
              "\n",
              "  <div id=\"df-7f413c18-e60b-4ab6-8486-dfb6488d5ffa\">\n",
              "    <div class=\"colab-df-container\">\n",
              "      <div>\n",
              "<style scoped>\n",
              "    .dataframe tbody tr th:only-of-type {\n",
              "        vertical-align: middle;\n",
              "    }\n",
              "\n",
              "    .dataframe tbody tr th {\n",
              "        vertical-align: top;\n",
              "    }\n",
              "\n",
              "    .dataframe thead th {\n",
              "        text-align: right;\n",
              "    }\n",
              "</style>\n",
              "<table border=\"1\" class=\"dataframe\">\n",
              "  <thead>\n",
              "    <tr style=\"text-align: right;\">\n",
              "      <th></th>\n",
              "      <th>Período</th>\n",
              "      <th>Biodiesel</th>\n",
              "      <th>Bioetanol</th>\n",
              "    </tr>\n",
              "  </thead>\n",
              "  <tbody>\n",
              "    <tr>\n",
              "      <th>0</th>\n",
              "      <td>2019-01-01</td>\n",
              "      <td>27420.253075</td>\n",
              "      <td>24148.416128</td>\n",
              "    </tr>\n",
              "    <tr>\n",
              "      <th>1</th>\n",
              "      <td>2019-02-01</td>\n",
              "      <td>26799.696742</td>\n",
              "      <td>24566.665664</td>\n",
              "    </tr>\n",
              "    <tr>\n",
              "      <th>2</th>\n",
              "      <td>2019-03-01</td>\n",
              "      <td>26950.858304</td>\n",
              "      <td>24778.291851</td>\n",
              "    </tr>\n",
              "    <tr>\n",
              "      <th>3</th>\n",
              "      <td>2019-04-01</td>\n",
              "      <td>27969.108209</td>\n",
              "      <td>25008.824719</td>\n",
              "    </tr>\n",
              "    <tr>\n",
              "      <th>4</th>\n",
              "      <td>2019-05-01</td>\n",
              "      <td>28933.958123</td>\n",
              "      <td>25637.403762</td>\n",
              "    </tr>\n",
              "  </tbody>\n",
              "</table>\n",
              "</div>\n",
              "      <button class=\"colab-df-convert\" onclick=\"convertToInteractive('df-7f413c18-e60b-4ab6-8486-dfb6488d5ffa')\"\n",
              "              title=\"Convert this dataframe to an interactive table.\"\n",
              "              style=\"display:none;\">\n",
              "        \n",
              "  <svg xmlns=\"http://www.w3.org/2000/svg\" height=\"24px\"viewBox=\"0 0 24 24\"\n",
              "       width=\"24px\">\n",
              "    <path d=\"M0 0h24v24H0V0z\" fill=\"none\"/>\n",
              "    <path d=\"M18.56 5.44l.94 2.06.94-2.06 2.06-.94-2.06-.94-.94-2.06-.94 2.06-2.06.94zm-11 1L8.5 8.5l.94-2.06 2.06-.94-2.06-.94L8.5 2.5l-.94 2.06-2.06.94zm10 10l.94 2.06.94-2.06 2.06-.94-2.06-.94-.94-2.06-.94 2.06-2.06.94z\"/><path d=\"M17.41 7.96l-1.37-1.37c-.4-.4-.92-.59-1.43-.59-.52 0-1.04.2-1.43.59L10.3 9.45l-7.72 7.72c-.78.78-.78 2.05 0 2.83L4 21.41c.39.39.9.59 1.41.59.51 0 1.02-.2 1.41-.59l7.78-7.78 2.81-2.81c.8-.78.8-2.07 0-2.86zM5.41 20L4 18.59l7.72-7.72 1.47 1.35L5.41 20z\"/>\n",
              "  </svg>\n",
              "      </button>\n",
              "      \n",
              "  <style>\n",
              "    .colab-df-container {\n",
              "      display:flex;\n",
              "      flex-wrap:wrap;\n",
              "      gap: 12px;\n",
              "    }\n",
              "\n",
              "    .colab-df-convert {\n",
              "      background-color: #E8F0FE;\n",
              "      border: none;\n",
              "      border-radius: 50%;\n",
              "      cursor: pointer;\n",
              "      display: none;\n",
              "      fill: #1967D2;\n",
              "      height: 32px;\n",
              "      padding: 0 0 0 0;\n",
              "      width: 32px;\n",
              "    }\n",
              "\n",
              "    .colab-df-convert:hover {\n",
              "      background-color: #E2EBFA;\n",
              "      box-shadow: 0px 1px 2px rgba(60, 64, 67, 0.3), 0px 1px 3px 1px rgba(60, 64, 67, 0.15);\n",
              "      fill: #174EA6;\n",
              "    }\n",
              "\n",
              "    [theme=dark] .colab-df-convert {\n",
              "      background-color: #3B4455;\n",
              "      fill: #D2E3FC;\n",
              "    }\n",
              "\n",
              "    [theme=dark] .colab-df-convert:hover {\n",
              "      background-color: #434B5C;\n",
              "      box-shadow: 0px 1px 3px 1px rgba(0, 0, 0, 0.15);\n",
              "      filter: drop-shadow(0px 1px 2px rgba(0, 0, 0, 0.3));\n",
              "      fill: #FFFFFF;\n",
              "    }\n",
              "  </style>\n",
              "\n",
              "      <script>\n",
              "        const buttonEl =\n",
              "          document.querySelector('#df-7f413c18-e60b-4ab6-8486-dfb6488d5ffa button.colab-df-convert');\n",
              "        buttonEl.style.display =\n",
              "          google.colab.kernel.accessAllowed ? 'block' : 'none';\n",
              "\n",
              "        async function convertToInteractive(key) {\n",
              "          const element = document.querySelector('#df-7f413c18-e60b-4ab6-8486-dfb6488d5ffa');\n",
              "          const dataTable =\n",
              "            await google.colab.kernel.invokeFunction('convertToInteractive',\n",
              "                                                     [key], {});\n",
              "          if (!dataTable) return;\n",
              "\n",
              "          const docLinkHtml = 'Like what you see? Visit the ' +\n",
              "            '<a target=\"_blank\" href=https://colab.research.google.com/notebooks/data_table.ipynb>data table notebook</a>'\n",
              "            + ' to learn more about interactive tables.';\n",
              "          element.innerHTML = '';\n",
              "          dataTable['output_type'] = 'display_data';\n",
              "          await google.colab.output.renderOutput(dataTable, element);\n",
              "          const docLink = document.createElement('div');\n",
              "          docLink.innerHTML = docLinkHtml;\n",
              "          element.appendChild(docLink);\n",
              "        }\n",
              "      </script>\n",
              "    </div>\n",
              "  </div>\n",
              "  "
            ]
          },
          "metadata": {},
          "execution_count": 133
        }
      ]
    },
    {
      "cell_type": "markdown",
      "source": [
        "### Cálculo de la paridad ex-planta\n",
        "\n",
        "Tanto la nafta como el gas oil es mezclado con biocombustibles en su proceso de elaboración.\n",
        "\n",
        "La paridad ex-planta es un precio que conjuga los totales (en ARS) de las bases fósiles con los precios totales de los biocombustibles."
      ],
      "metadata": {
        "id": "XYVPe959pNf1"
      }
    },
    {
      "cell_type": "markdown",
      "source": [
        "En este sentido, se enumeran los siguientes ponderadores, que refieren a los distintos \"cortes\" (o porcentajes de mezcla) de las bases fósiles y del biocombustible."
      ],
      "metadata": {
        "id": "qErWVM2tqTvY"
      }
    },
    {
      "cell_type": "code",
      "source": [
        "ponderador_BF_Gas_Oil = 0.9\n",
        "ponderador_biocomb_Gas_Oil = 0.1\n",
        "ponderador_BF_Nafta = 0.88\n",
        "ponderador_biocomb_Nafta = 0.12"
      ],
      "metadata": {
        "id": "m6qkDk_0-BV-"
      },
      "execution_count": 134,
      "outputs": []
    },
    {
      "cell_type": "markdown",
      "source": [
        "Se crea un *DataFrame* vacío, `paridad_ex_planta`, que almacenará los montos totales de las paridad ex-planta."
      ],
      "metadata": {
        "id": "CwnF9Cr6qLN9"
      }
    },
    {
      "cell_type": "code",
      "source": [
        "paridad_ex_planta = pd.DataFrame()"
      ],
      "metadata": {
        "id": "T4k5fvJTqLN9"
      },
      "execution_count": 135,
      "outputs": []
    },
    {
      "cell_type": "markdown",
      "source": [
        "Los montos totales de la paridad ex-planta (en ARS) como fuera dispuesto anteriormente."
      ],
      "metadata": {
        "id": "o4FppH55qhZG"
      }
    },
    {
      "cell_type": "code",
      "source": [
        "for column in total_bases_ARS.columns:\n",
        "  if column in productos or column in productos_ZE:\n",
        "    if \"Gas\" in column:\n",
        "      paridad_ex_planta[column] = total_bases_ARS[column]*ponderador_BF_Gas_Oil + biocombustibles['Biodiesel']*ponderador_biocomb_Gas_Oil\n",
        "    elif \"Nafta\" in column:\n",
        "      paridad_ex_planta[column] = total_bases_ARS[column]*ponderador_BF_Nafta + biocombustibles['Bioetanol']*ponderador_biocomb_Nafta\n",
        "    else: pass\n",
        "  else: paridad_ex_planta[column] = total_bases_ARS[column]"
      ],
      "metadata": {
        "id": "d2URwDGD9V8W"
      },
      "execution_count": 136,
      "outputs": []
    },
    {
      "cell_type": "markdown",
      "source": [
        "Se presentan las 5 primeras filas del *DataFrame*."
      ],
      "metadata": {
        "id": "TJSH74tNqte9"
      }
    },
    {
      "cell_type": "code",
      "source": [
        "paridad_ex_planta.head()"
      ],
      "metadata": {
        "id": "9F-7LEqH-g-E",
        "colab": {
          "base_uri": "https://localhost:8080/",
          "height": 354
        },
        "outputId": "8b4c7862-d06f-4bc4-fe00-5cccc348dbff"
      },
      "execution_count": 137,
      "outputs": [
        {
          "output_type": "execute_result",
          "data": {
            "text/plain": [
              "     Período  Gas Oil Grado 2  Gas Oil Grado 2 - ZE  Gas Oil Grado 3  \\\n",
              "0 2019-01-01     21438.194171          21388.113932     21709.064007   \n",
              "1 2019-02-01     22921.134807          22871.054568     23199.258126   \n",
              "2 2019-03-01     24760.157002          24711.329266     25059.669297   \n",
              "3 2019-04-01     26592.011393          26536.125902     26905.074820   \n",
              "4 2019-05-01     27293.111220          27237.225729     27618.480296   \n",
              "\n",
              "   Gas Oil Grado 3 - ZE  Nafta (súper) entre 92 y 95 Ron  \\\n",
              "0          21658.983768                     17737.248676   \n",
              "1          23149.177887                     19412.705449   \n",
              "2          25010.841561                     23980.833719   \n",
              "3          26849.189329                     26848.475648   \n",
              "4          27562.594805                     27174.528048   \n",
              "\n",
              "   Nafta (súper) entre 92 y 95 Ron - ZE  Nafta (premium) de más de 95 Ron  \\\n",
              "0                          17564.181479                      18266.949688   \n",
              "1                          19239.638252                      19956.591050   \n",
              "2                          23798.338509                      24566.546652   \n",
              "3                          26655.327757                      27460.688571   \n",
              "4                          26981.380157                      27810.805353   \n",
              "\n",
              "   Nafta (premium) de más de 95 Ron - ZE  \n",
              "0                           18093.882491  \n",
              "1                           19783.523853  \n",
              "2                           24384.051443  \n",
              "3                           27267.540680  \n",
              "4                           27617.657462  "
            ],
            "text/html": [
              "\n",
              "  <div id=\"df-7491a47d-b0fe-4c0d-8bca-634c4cda8b01\">\n",
              "    <div class=\"colab-df-container\">\n",
              "      <div>\n",
              "<style scoped>\n",
              "    .dataframe tbody tr th:only-of-type {\n",
              "        vertical-align: middle;\n",
              "    }\n",
              "\n",
              "    .dataframe tbody tr th {\n",
              "        vertical-align: top;\n",
              "    }\n",
              "\n",
              "    .dataframe thead th {\n",
              "        text-align: right;\n",
              "    }\n",
              "</style>\n",
              "<table border=\"1\" class=\"dataframe\">\n",
              "  <thead>\n",
              "    <tr style=\"text-align: right;\">\n",
              "      <th></th>\n",
              "      <th>Período</th>\n",
              "      <th>Gas Oil Grado 2</th>\n",
              "      <th>Gas Oil Grado 2 - ZE</th>\n",
              "      <th>Gas Oil Grado 3</th>\n",
              "      <th>Gas Oil Grado 3 - ZE</th>\n",
              "      <th>Nafta (súper) entre 92 y 95 Ron</th>\n",
              "      <th>Nafta (súper) entre 92 y 95 Ron - ZE</th>\n",
              "      <th>Nafta (premium) de más de 95 Ron</th>\n",
              "      <th>Nafta (premium) de más de 95 Ron - ZE</th>\n",
              "    </tr>\n",
              "  </thead>\n",
              "  <tbody>\n",
              "    <tr>\n",
              "      <th>0</th>\n",
              "      <td>2019-01-01</td>\n",
              "      <td>21438.194171</td>\n",
              "      <td>21388.113932</td>\n",
              "      <td>21709.064007</td>\n",
              "      <td>21658.983768</td>\n",
              "      <td>17737.248676</td>\n",
              "      <td>17564.181479</td>\n",
              "      <td>18266.949688</td>\n",
              "      <td>18093.882491</td>\n",
              "    </tr>\n",
              "    <tr>\n",
              "      <th>1</th>\n",
              "      <td>2019-02-01</td>\n",
              "      <td>22921.134807</td>\n",
              "      <td>22871.054568</td>\n",
              "      <td>23199.258126</td>\n",
              "      <td>23149.177887</td>\n",
              "      <td>19412.705449</td>\n",
              "      <td>19239.638252</td>\n",
              "      <td>19956.591050</td>\n",
              "      <td>19783.523853</td>\n",
              "    </tr>\n",
              "    <tr>\n",
              "      <th>2</th>\n",
              "      <td>2019-03-01</td>\n",
              "      <td>24760.157002</td>\n",
              "      <td>24711.329266</td>\n",
              "      <td>25059.669297</td>\n",
              "      <td>25010.841561</td>\n",
              "      <td>23980.833719</td>\n",
              "      <td>23798.338509</td>\n",
              "      <td>24566.546652</td>\n",
              "      <td>24384.051443</td>\n",
              "    </tr>\n",
              "    <tr>\n",
              "      <th>3</th>\n",
              "      <td>2019-04-01</td>\n",
              "      <td>26592.011393</td>\n",
              "      <td>26536.125902</td>\n",
              "      <td>26905.074820</td>\n",
              "      <td>26849.189329</td>\n",
              "      <td>26848.475648</td>\n",
              "      <td>26655.327757</td>\n",
              "      <td>27460.688571</td>\n",
              "      <td>27267.540680</td>\n",
              "    </tr>\n",
              "    <tr>\n",
              "      <th>4</th>\n",
              "      <td>2019-05-01</td>\n",
              "      <td>27293.111220</td>\n",
              "      <td>27237.225729</td>\n",
              "      <td>27618.480296</td>\n",
              "      <td>27562.594805</td>\n",
              "      <td>27174.528048</td>\n",
              "      <td>26981.380157</td>\n",
              "      <td>27810.805353</td>\n",
              "      <td>27617.657462</td>\n",
              "    </tr>\n",
              "  </tbody>\n",
              "</table>\n",
              "</div>\n",
              "      <button class=\"colab-df-convert\" onclick=\"convertToInteractive('df-7491a47d-b0fe-4c0d-8bca-634c4cda8b01')\"\n",
              "              title=\"Convert this dataframe to an interactive table.\"\n",
              "              style=\"display:none;\">\n",
              "        \n",
              "  <svg xmlns=\"http://www.w3.org/2000/svg\" height=\"24px\"viewBox=\"0 0 24 24\"\n",
              "       width=\"24px\">\n",
              "    <path d=\"M0 0h24v24H0V0z\" fill=\"none\"/>\n",
              "    <path d=\"M18.56 5.44l.94 2.06.94-2.06 2.06-.94-2.06-.94-.94-2.06-.94 2.06-2.06.94zm-11 1L8.5 8.5l.94-2.06 2.06-.94-2.06-.94L8.5 2.5l-.94 2.06-2.06.94zm10 10l.94 2.06.94-2.06 2.06-.94-2.06-.94-.94-2.06-.94 2.06-2.06.94z\"/><path d=\"M17.41 7.96l-1.37-1.37c-.4-.4-.92-.59-1.43-.59-.52 0-1.04.2-1.43.59L10.3 9.45l-7.72 7.72c-.78.78-.78 2.05 0 2.83L4 21.41c.39.39.9.59 1.41.59.51 0 1.02-.2 1.41-.59l7.78-7.78 2.81-2.81c.8-.78.8-2.07 0-2.86zM5.41 20L4 18.59l7.72-7.72 1.47 1.35L5.41 20z\"/>\n",
              "  </svg>\n",
              "      </button>\n",
              "      \n",
              "  <style>\n",
              "    .colab-df-container {\n",
              "      display:flex;\n",
              "      flex-wrap:wrap;\n",
              "      gap: 12px;\n",
              "    }\n",
              "\n",
              "    .colab-df-convert {\n",
              "      background-color: #E8F0FE;\n",
              "      border: none;\n",
              "      border-radius: 50%;\n",
              "      cursor: pointer;\n",
              "      display: none;\n",
              "      fill: #1967D2;\n",
              "      height: 32px;\n",
              "      padding: 0 0 0 0;\n",
              "      width: 32px;\n",
              "    }\n",
              "\n",
              "    .colab-df-convert:hover {\n",
              "      background-color: #E2EBFA;\n",
              "      box-shadow: 0px 1px 2px rgba(60, 64, 67, 0.3), 0px 1px 3px 1px rgba(60, 64, 67, 0.15);\n",
              "      fill: #174EA6;\n",
              "    }\n",
              "\n",
              "    [theme=dark] .colab-df-convert {\n",
              "      background-color: #3B4455;\n",
              "      fill: #D2E3FC;\n",
              "    }\n",
              "\n",
              "    [theme=dark] .colab-df-convert:hover {\n",
              "      background-color: #434B5C;\n",
              "      box-shadow: 0px 1px 3px 1px rgba(0, 0, 0, 0.15);\n",
              "      filter: drop-shadow(0px 1px 2px rgba(0, 0, 0, 0.3));\n",
              "      fill: #FFFFFF;\n",
              "    }\n",
              "  </style>\n",
              "\n",
              "      <script>\n",
              "        const buttonEl =\n",
              "          document.querySelector('#df-7491a47d-b0fe-4c0d-8bca-634c4cda8b01 button.colab-df-convert');\n",
              "        buttonEl.style.display =\n",
              "          google.colab.kernel.accessAllowed ? 'block' : 'none';\n",
              "\n",
              "        async function convertToInteractive(key) {\n",
              "          const element = document.querySelector('#df-7491a47d-b0fe-4c0d-8bca-634c4cda8b01');\n",
              "          const dataTable =\n",
              "            await google.colab.kernel.invokeFunction('convertToInteractive',\n",
              "                                                     [key], {});\n",
              "          if (!dataTable) return;\n",
              "\n",
              "          const docLinkHtml = 'Like what you see? Visit the ' +\n",
              "            '<a target=\"_blank\" href=https://colab.research.google.com/notebooks/data_table.ipynb>data table notebook</a>'\n",
              "            + ' to learn more about interactive tables.';\n",
              "          element.innerHTML = '';\n",
              "          dataTable['output_type'] = 'display_data';\n",
              "          await google.colab.output.renderOutput(dataTable, element);\n",
              "          const docLink = document.createElement('div');\n",
              "          docLink.innerHTML = docLinkHtml;\n",
              "          element.appendChild(docLink);\n",
              "        }\n",
              "      </script>\n",
              "    </div>\n",
              "  </div>\n",
              "  "
            ]
          },
          "metadata": {},
          "execution_count": 137
        }
      ]
    },
    {
      "cell_type": "markdown",
      "source": [
        "### Cálculo del PPI provincial y nacional\n",
        "\n",
        "El precio de paridad de importación (PPI) variará según la provincia, dado que los montos erogados en concepto de flete e impuestos varían fuertemente entre provincias."
      ],
      "metadata": {
        "id": "H9XXPPqSqx0A"
      }
    },
    {
      "cell_type": "markdown",
      "source": [
        "#### Cálculo provincial\n",
        "\n",
        "Para generalizar la construcción del precio de paridad de importación para cada provincia, se crea la función `calculo_PPI_provincia`, que resume los pasos necesarios para dicho cálculo."
      ],
      "metadata": {
        "id": "qcYiyU2IrmZE"
      }
    },
    {
      "cell_type": "code",
      "source": [
        "def calculo_PPI_provincia(provincia):\n",
        "  dataframe_prov = paridad_ex_planta.copy()\n",
        "  for column in dataframe_prov.columns[1:]:\n",
        "    if provincia != provincias[5]:\n",
        "      if \"ZE\" in column:\n",
        "        dataframe_prov.drop(column, axis=1, inplace=True)\n",
        "    else:\n",
        "      if \"ZE\" not in column:\n",
        "        dataframe_prov.drop(column, axis=1, inplace=True)\n",
        "  dataframe_prov['Flete terrestre'] = flete[provincia]\n",
        "  dataframe_prov = dataframe_prov.merge(impuestos, on=\"Período\")\n",
        "  for column in dataframe_prov.columns:\n",
        "    if provincia != provincias[5]:\n",
        "      if \" GO\" in column:\n",
        "        dataframe_prov[column] = dataframe_prov[column]*ponderador_BF_Gas_Oil\n",
        "      elif \" N\" in column:\n",
        "        dataframe_prov[column] = dataframe_prov[column]*ponderador_BF_Nafta\n",
        "    else:\n",
        "      if \"GO ZE\" in column:\n",
        "        dataframe_prov[column] = dataframe_prov[column]*ponderador_BF_Gas_Oil\n",
        "      elif \"N ZE\" in column:\n",
        "        dataframe_prov[column] = dataframe_prov[column]*ponderador_BF_Nafta\n",
        "      elif \"ICO GO\" in column:\n",
        "        dataframe_prov[column] = dataframe_prov[column]*ponderador_BF_Gas_Oil\n",
        "      elif \"ICO N\" in column:\n",
        "        dataframe_prov[column] = dataframe_prov[column]*ponderador_BF_Nafta\n",
        "  for column in dataframe_prov.columns:\n",
        "    if provincia != provincias[5]:\n",
        "      if column in productos:\n",
        "        dataframe_prov['IVA - '+column] = iva*(dataframe_prov[column]+dataframe_prov['Flete terrestre'])\n",
        "        dataframe_prov['IIBB - '+column] = iibb*(dataframe_prov[column]+dataframe_prov['Flete terrestre'])\n",
        "        if \"Gas\" in column:\n",
        "          dataframe_prov['Total - '+column] = dataframe_prov[column] + dataframe_prov['Flete terrestre'] + dataframe_prov['ICL GO'] + dataframe_prov['ICO GO'] + dataframe_prov['IVA - '+column] + dataframe_prov['IIBB - '+column]\n",
        "        elif \"Nafta\" in column:\n",
        "          dataframe_prov['Total - '+column] = dataframe_prov[column] + dataframe_prov['Flete terrestre'] + dataframe_prov['ICL N'] + dataframe_prov['ICO N'] + dataframe_prov['IVA - '+column] + dataframe_prov['IIBB - '+column]\n",
        "    else:\n",
        "      if column in productos_ZE:\n",
        "        dataframe_prov['IVA - '+column] = iva*(dataframe_prov[column]+dataframe_prov['Flete terrestre'])\n",
        "        dataframe_prov['IIBB - '+column] = iibb*(dataframe_prov[column]+dataframe_prov['Flete terrestre'])\n",
        "        if \"Gas\" in column:\n",
        "          dataframe_prov['Total - '+column] = dataframe_prov[column] + dataframe_prov['Flete terrestre'] + dataframe_prov['ICL GO ZE'] + dataframe_prov['ICO GO'] + dataframe_prov['IVA - '+column] + dataframe_prov['IIBB - '+column]\n",
        "        elif \"Nafta\" in column:\n",
        "          dataframe_prov['Total - '+column] = dataframe_prov[column] + dataframe_prov['Flete terrestre'] + dataframe_prov['ICL N ZE'] + dataframe_prov['ICO N'] + dataframe_prov['IVA - '+column] + dataframe_prov['IIBB - '+column]\n",
        "  columns = [column for column in dataframe_prov.columns if \"Total\" in column]\n",
        "  if provincia != provincias[5]:\n",
        "    for column, producto, márgen in zip(columns, productos, márgenes):\n",
        "      dataframe_prov['margen sobre ' + column] = dataframe_prov[column]*márgen\n",
        "  else:\n",
        "    for column, producto_ZE, márgen in zip(columns, productos_ZE, márgenes):\n",
        "      dataframe_prov['margen sobre ' + column] = dataframe_prov[column]*márgen\n",
        "  if provincia != provincias[5]:\n",
        "    for column in dataframe_prov.columns:\n",
        "      if column in productos:\n",
        "        dataframe_prov['PPI - '+column] = dataframe_prov['Total - '+column] + dataframe_prov['margen sobre Total - '+column]  \n",
        "  else:\n",
        "    for column in dataframe_prov.columns:\n",
        "      if column in productos_ZE:\n",
        "        dataframe_prov['PPI - '+column] = dataframe_prov['Total - '+column] + dataframe_prov['margen sobre Total - '+column]\n",
        "  for column in dataframe_prov.columns[1:]:\n",
        "    if \"PPI\" not in column:\n",
        "      dataframe_prov.drop(column, axis=1, inplace=True)\n",
        "    else:\n",
        "      dataframe_prov[column] = dataframe_prov[column]/1000\n",
        "  if provincia == provincias[5]:\n",
        "    dataframe_prov.columns = dataframe_prov.columns.str.rstrip(' - ZE')  \n",
        "  dataframe_prov[\"provincia\"] = provincia\n",
        "  return dataframe_prov"
      ],
      "metadata": {
        "id": "Lzs40-npY8bR"
      },
      "execution_count": 138,
      "outputs": []
    },
    {
      "cell_type": "markdown",
      "source": [
        "Así, ejecutando la función `calculo_PPI_provincia`, se crea un *DataFrame* para cada provincia. En este caso, para la provincia de Buenos Aires."
      ],
      "metadata": {
        "id": "PagpczMzsZf7"
      }
    },
    {
      "cell_type": "code",
      "source": [
        "PPI_BS_AS = calculo_PPI_provincia(provincias[0])"
      ],
      "metadata": {
        "id": "7mGvIodyApI1"
      },
      "execution_count": 139,
      "outputs": []
    },
    {
      "cell_type": "markdown",
      "source": [
        "Para la Capital Federal:"
      ],
      "metadata": {
        "id": "K1sTEtIsstCG"
      }
    },
    {
      "cell_type": "code",
      "source": [
        "PPI_CABA = calculo_PPI_provincia(provincias[1])"
      ],
      "metadata": {
        "id": "crI0s-8n-hIi"
      },
      "execution_count": 140,
      "outputs": []
    },
    {
      "cell_type": "markdown",
      "source": [
        "Para la provincia de Córdoba:"
      ],
      "metadata": {
        "id": "bMI6hbH7sxrR"
      }
    },
    {
      "cell_type": "code",
      "source": [
        "PPI_CBA = calculo_PPI_provincia(provincias[2])"
      ],
      "metadata": {
        "id": "7lnsx_9Rwn4R"
      },
      "execution_count": 141,
      "outputs": []
    },
    {
      "cell_type": "markdown",
      "source": [
        "Para la provincia de Corrientes:"
      ],
      "metadata": {
        "id": "ETz0VDxDs1uX"
      }
    },
    {
      "cell_type": "code",
      "source": [
        "PPI_CORR = calculo_PPI_provincia(provincias[3])"
      ],
      "metadata": {
        "id": "wj4vwedEwn-K"
      },
      "execution_count": 142,
      "outputs": []
    },
    {
      "cell_type": "markdown",
      "source": [
        "Para la provincia de Mendoza:"
      ],
      "metadata": {
        "id": "PYTHs-5fs4uR"
      }
    },
    {
      "cell_type": "code",
      "source": [
        "PPI_MZA = calculo_PPI_provincia(provincias[4])"
      ],
      "metadata": {
        "id": "stioPjyUwoDV"
      },
      "execution_count": 143,
      "outputs": []
    },
    {
      "cell_type": "markdown",
      "source": [
        "Para la provincia de Río Negro:"
      ],
      "metadata": {
        "id": "fvV1pLF7s7Qn"
      }
    },
    {
      "cell_type": "code",
      "source": [
        "PPI_RN = calculo_PPI_provincia(provincias[5])"
      ],
      "metadata": {
        "id": "s9JSkI4kx81i"
      },
      "execution_count": 144,
      "outputs": []
    },
    {
      "cell_type": "markdown",
      "source": [
        "Y, finalmente, para la provincia de Salta:"
      ],
      "metadata": {
        "id": "n7WHTgZas_zB"
      }
    },
    {
      "cell_type": "code",
      "source": [
        "PPI_SLA = calculo_PPI_provincia(provincias[6])"
      ],
      "metadata": {
        "id": "l79_UtfPal7_"
      },
      "execution_count": 145,
      "outputs": []
    },
    {
      "cell_type": "markdown",
      "source": [
        "#### Cálculo nacional\n",
        "\n",
        "Primeramente, se agrupan todos los *DataFrames* provinciales creados en un conjunto de *DataFrames* llamado `PPIs`."
      ],
      "metadata": {
        "id": "SOUppM6NtP6L"
      }
    },
    {
      "cell_type": "code",
      "source": [
        "PPIs = [PPI_BS_AS, PPI_CABA, PPI_CBA, PPI_CORR, PPI_MZA, PPI_RN, PPI_SLA]"
      ],
      "metadata": {
        "id": "edGHnEDBdl8K"
      },
      "execution_count": 146,
      "outputs": []
    },
    {
      "cell_type": "markdown",
      "source": [
        "Luego, se crea un nuevo *DataFrame* que une verticalmente todos los *DataFrames* provinciales y los ordena cronológicamente y según la provincia."
      ],
      "metadata": {
        "id": "qm06Bohqtqjl"
      }
    },
    {
      "cell_type": "code",
      "source": [
        "PPI_nacional = pd.concat(PPIs).sort_values([\"Período\", \"provincia\"]).reset_index(drop=True)"
      ],
      "metadata": {
        "id": "-iwJdDDCsm6q"
      },
      "execution_count": 147,
      "outputs": []
    },
    {
      "cell_type": "markdown",
      "source": [
        "### Cómputo de los precios domésticos\n",
        "\n",
        "Los precios de paridad de importación obtenidos, computados en `PPI_nacional` pueden ser comparados con los precios domésticos de los mismos productos, relevados mensualmente dada la Resolución 1104/04 de la Secretaría de Energía de la Nación."
      ],
      "metadata": {
        "id": "tXdG1IVNkSnR"
      }
    },
    {
      "cell_type": "markdown",
      "source": [
        "#### Obtención y limpieza de datos\n",
        "\n",
        "Para extraer los datos, se debe utilizar el *dataset* de la Resolución 1104/04. El link `url_domesticos` refiere a dicho *dataset*."
      ],
      "metadata": {
        "id": "ZdsVcaHJvWAh"
      }
    },
    {
      "cell_type": "code",
      "source": [
        "url_domesticos = \"https://datos.gob.ar/dataset/energia-precios-volumenes-eess---resolucion-110404\""
      ],
      "metadata": {
        "id": "3hkAD94FBSAw"
      },
      "execution_count": 148,
      "outputs": []
    },
    {
      "cell_type": "markdown",
      "source": [
        "El *dataset* contiene múltiples archivos. Por ello, es necesario crear una lista (`identifiers`) con cadenas de texto que identifiquen los archivos deseados. En este caso, cada identificador es el año del archivo deseado."
      ],
      "metadata": {
        "id": "EY-60QGPvrYQ"
      }
    },
    {
      "cell_type": "code",
      "source": [
        "identifiers = ['2019', '2020', '2021', '2022', '2023']"
      ],
      "metadata": {
        "id": "O4IegADuvrv_"
      },
      "execution_count": 149,
      "outputs": []
    },
    {
      "cell_type": "markdown",
      "source": [
        "Se crea la función `domestic_extractor`, que extrae los links de los archivos deseados: aquellas que contienen cadenas de texto mencionadas en `identifiers` y que refieran a los precios de venta al público (\"precios-eess\").\n",
        "\n",
        "La función tiene dos parámetros:\n",
        "*   `url`: el link del cual extraer los links de los archivos.\n",
        "*   `list_of_links`: lista vacía donde almacenar los links extraídos."
      ],
      "metadata": {
        "id": "DPLVvrQ1wDvO"
      }
    },
    {
      "cell_type": "code",
      "source": [
        "def domestic_extractor(url, list_of_links):\n",
        "  req = Request(url)\n",
        "  page = urlopen(req)\n",
        "  html_parser = BeautifulSoup(page, \"lxml\")\n",
        "  for link in html_parser.findAll('a'):\n",
        "    if str(link.get('href')).endswith('.csv'):\n",
        "      if \"precios-eess\" in str(link.get('href')):\n",
        "        for identifier in identifiers:\n",
        "          if identifier in str(link.get('href')):\n",
        "            list_of_links.append(link.get('href'))\n",
        "          else: pass\n",
        "      else: pass\n",
        "    else: pass"
      ],
      "metadata": {
        "id": "87ydiZPB0tU4"
      },
      "execution_count": 150,
      "outputs": []
    },
    {
      "cell_type": "markdown",
      "source": [
        "Se crea la lista vacía `enlisted_links`, donde almacenar los links extraídos."
      ],
      "metadata": {
        "id": "raTC2sL5xFKE"
      }
    },
    {
      "cell_type": "code",
      "source": [
        "enlisted_links = []"
      ],
      "metadata": {
        "id": "t8og3C_Q7_zC"
      },
      "execution_count": 151,
      "outputs": []
    },
    {
      "cell_type": "markdown",
      "source": [
        "Se ejecuta la función `domestic_extractor` con los parámetros antes definidos."
      ],
      "metadata": {
        "id": "0dBziRvZxKtM"
      }
    },
    {
      "cell_type": "code",
      "source": [
        "domestic_extractor(url_domesticos, enlisted_links)"
      ],
      "metadata": {
        "id": "-dOMivWqxPv7"
      },
      "execution_count": 152,
      "outputs": []
    },
    {
      "cell_type": "markdown",
      "source": [
        "#### *DataFrame* final\n",
        "\n",
        "Se crea un *DataFrame* vacío, `precio_domestico`, que servirá para concatenar cada uno de los *DataFrames* individuales."
      ],
      "metadata": {
        "id": "CtP4oseWxonf"
      }
    },
    {
      "cell_type": "code",
      "source": [
        "precio_domestico = pd.DataFrame()"
      ],
      "metadata": {
        "id": "D4otZG8qxwxZ"
      },
      "execution_count": 153,
      "outputs": []
    },
    {
      "cell_type": "markdown",
      "source": [
        "La lista `enlisted_links` contiene los links a los archivos deseados. Por tanto, se itera sobre cada uno de estos links para leer el archivo `.csv` y concatenarlo en `precio_domestico`."
      ],
      "metadata": {
        "id": "XA-uZbqaxRc2"
      }
    },
    {
      "cell_type": "code",
      "source": [
        "for link in enlisted_links[::-1]:\n",
        "  each_frame = pd.read_csv(link)\n",
        "  each_frame = each_frame[(each_frame[each_frame.columns[12]] == 'Al público') & (each_frame[each_frame.columns[11]].isin(productos)) & (each_frame[each_frame.columns[10]].isin(provincias))]\n",
        "  each_frame = each_frame.groupby(['anio', 'mes', 'provincia', 'producto'], as_index=False)['precio_surtidor'].mean()\n",
        "  each_frame[\"Período\"] = pd.to_datetime(each_frame[\"anio\"].astype(str) + '/' + each_frame['mes'].astype(str) + '/01')\n",
        "  each_frame = each_frame.drop(columns=['anio', 'mes'])\n",
        "  each_frame.insert(0, 'Período', each_frame.pop('Período'))\n",
        "  each_frame = each_frame.pivot(index=['Período', 'provincia'], columns='producto', values='precio_surtidor').reset_index()\n",
        "  precio_domestico = precio_domestico.append(each_frame,ignore_index=True)"
      ],
      "metadata": {
        "id": "kYTFuo7q9F73"
      },
      "execution_count": 154,
      "outputs": []
    },
    {
      "cell_type": "markdown",
      "source": [
        "A continuación, se presentan las 5 primeras filas del *DataFrame*."
      ],
      "metadata": {
        "id": "X-2bocOEx3_r"
      }
    },
    {
      "cell_type": "code",
      "source": [
        "precio_domestico.head()"
      ],
      "metadata": {
        "id": "k7A4DHUix8Yx",
        "colab": {
          "base_uri": "https://localhost:8080/",
          "height": 206
        },
        "outputId": "84c6acde-12d4-4a34-9cc7-48e67ea6747a"
      },
      "execution_count": 155,
      "outputs": [
        {
          "output_type": "execute_result",
          "data": {
            "text/plain": [
              "producto    Período        provincia  Gas Oil Grado 2  Gas Oil Grado 3  \\\n",
              "0        2019-01-01     BUENOS AIRES        37.192738        44.067569   \n",
              "1        2019-01-01  CAPITAL FEDERAL        35.184521        41.378097   \n",
              "2        2019-01-01          CORDOBA        37.286581        43.638617   \n",
              "3        2019-01-01       CORRIENTES        38.787692        46.006627   \n",
              "4        2019-01-01          MENDOZA        35.930331        40.402192   \n",
              "\n",
              "producto  Nafta (premium) de más de 95 Ron  Nafta (súper) entre 92 y 95 Ron  \n",
              "0                                45.381516                        39.650890  \n",
              "1                                43.588011                        37.623672  \n",
              "2                                46.817896                        41.856281  \n",
              "3                                47.756548                        42.819379  \n",
              "4                                43.511972                        38.838204  "
            ],
            "text/html": [
              "\n",
              "  <div id=\"df-1f2058e4-6f70-4ec9-bdc1-2cf50ade0861\">\n",
              "    <div class=\"colab-df-container\">\n",
              "      <div>\n",
              "<style scoped>\n",
              "    .dataframe tbody tr th:only-of-type {\n",
              "        vertical-align: middle;\n",
              "    }\n",
              "\n",
              "    .dataframe tbody tr th {\n",
              "        vertical-align: top;\n",
              "    }\n",
              "\n",
              "    .dataframe thead th {\n",
              "        text-align: right;\n",
              "    }\n",
              "</style>\n",
              "<table border=\"1\" class=\"dataframe\">\n",
              "  <thead>\n",
              "    <tr style=\"text-align: right;\">\n",
              "      <th>producto</th>\n",
              "      <th>Período</th>\n",
              "      <th>provincia</th>\n",
              "      <th>Gas Oil Grado 2</th>\n",
              "      <th>Gas Oil Grado 3</th>\n",
              "      <th>Nafta (premium) de más de 95 Ron</th>\n",
              "      <th>Nafta (súper) entre 92 y 95 Ron</th>\n",
              "    </tr>\n",
              "  </thead>\n",
              "  <tbody>\n",
              "    <tr>\n",
              "      <th>0</th>\n",
              "      <td>2019-01-01</td>\n",
              "      <td>BUENOS AIRES</td>\n",
              "      <td>37.192738</td>\n",
              "      <td>44.067569</td>\n",
              "      <td>45.381516</td>\n",
              "      <td>39.650890</td>\n",
              "    </tr>\n",
              "    <tr>\n",
              "      <th>1</th>\n",
              "      <td>2019-01-01</td>\n",
              "      <td>CAPITAL FEDERAL</td>\n",
              "      <td>35.184521</td>\n",
              "      <td>41.378097</td>\n",
              "      <td>43.588011</td>\n",
              "      <td>37.623672</td>\n",
              "    </tr>\n",
              "    <tr>\n",
              "      <th>2</th>\n",
              "      <td>2019-01-01</td>\n",
              "      <td>CORDOBA</td>\n",
              "      <td>37.286581</td>\n",
              "      <td>43.638617</td>\n",
              "      <td>46.817896</td>\n",
              "      <td>41.856281</td>\n",
              "    </tr>\n",
              "    <tr>\n",
              "      <th>3</th>\n",
              "      <td>2019-01-01</td>\n",
              "      <td>CORRIENTES</td>\n",
              "      <td>38.787692</td>\n",
              "      <td>46.006627</td>\n",
              "      <td>47.756548</td>\n",
              "      <td>42.819379</td>\n",
              "    </tr>\n",
              "    <tr>\n",
              "      <th>4</th>\n",
              "      <td>2019-01-01</td>\n",
              "      <td>MENDOZA</td>\n",
              "      <td>35.930331</td>\n",
              "      <td>40.402192</td>\n",
              "      <td>43.511972</td>\n",
              "      <td>38.838204</td>\n",
              "    </tr>\n",
              "  </tbody>\n",
              "</table>\n",
              "</div>\n",
              "      <button class=\"colab-df-convert\" onclick=\"convertToInteractive('df-1f2058e4-6f70-4ec9-bdc1-2cf50ade0861')\"\n",
              "              title=\"Convert this dataframe to an interactive table.\"\n",
              "              style=\"display:none;\">\n",
              "        \n",
              "  <svg xmlns=\"http://www.w3.org/2000/svg\" height=\"24px\"viewBox=\"0 0 24 24\"\n",
              "       width=\"24px\">\n",
              "    <path d=\"M0 0h24v24H0V0z\" fill=\"none\"/>\n",
              "    <path d=\"M18.56 5.44l.94 2.06.94-2.06 2.06-.94-2.06-.94-.94-2.06-.94 2.06-2.06.94zm-11 1L8.5 8.5l.94-2.06 2.06-.94-2.06-.94L8.5 2.5l-.94 2.06-2.06.94zm10 10l.94 2.06.94-2.06 2.06-.94-2.06-.94-.94-2.06-.94 2.06-2.06.94z\"/><path d=\"M17.41 7.96l-1.37-1.37c-.4-.4-.92-.59-1.43-.59-.52 0-1.04.2-1.43.59L10.3 9.45l-7.72 7.72c-.78.78-.78 2.05 0 2.83L4 21.41c.39.39.9.59 1.41.59.51 0 1.02-.2 1.41-.59l7.78-7.78 2.81-2.81c.8-.78.8-2.07 0-2.86zM5.41 20L4 18.59l7.72-7.72 1.47 1.35L5.41 20z\"/>\n",
              "  </svg>\n",
              "      </button>\n",
              "      \n",
              "  <style>\n",
              "    .colab-df-container {\n",
              "      display:flex;\n",
              "      flex-wrap:wrap;\n",
              "      gap: 12px;\n",
              "    }\n",
              "\n",
              "    .colab-df-convert {\n",
              "      background-color: #E8F0FE;\n",
              "      border: none;\n",
              "      border-radius: 50%;\n",
              "      cursor: pointer;\n",
              "      display: none;\n",
              "      fill: #1967D2;\n",
              "      height: 32px;\n",
              "      padding: 0 0 0 0;\n",
              "      width: 32px;\n",
              "    }\n",
              "\n",
              "    .colab-df-convert:hover {\n",
              "      background-color: #E2EBFA;\n",
              "      box-shadow: 0px 1px 2px rgba(60, 64, 67, 0.3), 0px 1px 3px 1px rgba(60, 64, 67, 0.15);\n",
              "      fill: #174EA6;\n",
              "    }\n",
              "\n",
              "    [theme=dark] .colab-df-convert {\n",
              "      background-color: #3B4455;\n",
              "      fill: #D2E3FC;\n",
              "    }\n",
              "\n",
              "    [theme=dark] .colab-df-convert:hover {\n",
              "      background-color: #434B5C;\n",
              "      box-shadow: 0px 1px 3px 1px rgba(0, 0, 0, 0.15);\n",
              "      filter: drop-shadow(0px 1px 2px rgba(0, 0, 0, 0.3));\n",
              "      fill: #FFFFFF;\n",
              "    }\n",
              "  </style>\n",
              "\n",
              "      <script>\n",
              "        const buttonEl =\n",
              "          document.querySelector('#df-1f2058e4-6f70-4ec9-bdc1-2cf50ade0861 button.colab-df-convert');\n",
              "        buttonEl.style.display =\n",
              "          google.colab.kernel.accessAllowed ? 'block' : 'none';\n",
              "\n",
              "        async function convertToInteractive(key) {\n",
              "          const element = document.querySelector('#df-1f2058e4-6f70-4ec9-bdc1-2cf50ade0861');\n",
              "          const dataTable =\n",
              "            await google.colab.kernel.invokeFunction('convertToInteractive',\n",
              "                                                     [key], {});\n",
              "          if (!dataTable) return;\n",
              "\n",
              "          const docLinkHtml = 'Like what you see? Visit the ' +\n",
              "            '<a target=\"_blank\" href=https://colab.research.google.com/notebooks/data_table.ipynb>data table notebook</a>'\n",
              "            + ' to learn more about interactive tables.';\n",
              "          element.innerHTML = '';\n",
              "          dataTable['output_type'] = 'display_data';\n",
              "          await google.colab.output.renderOutput(dataTable, element);\n",
              "          const docLink = document.createElement('div');\n",
              "          docLink.innerHTML = docLinkHtml;\n",
              "          element.appendChild(docLink);\n",
              "        }\n",
              "      </script>\n",
              "    </div>\n",
              "  </div>\n",
              "  "
            ]
          },
          "metadata": {},
          "execution_count": 155
        }
      ]
    },
    {
      "cell_type": "markdown",
      "source": [
        "### PPI vs. precio doméstico\n",
        "\n",
        "Los *DataFrames* `PPI_nacional`, que contiene los valores del PPI para cada una de las provincias, y `precio_domestico`, que contiene el precio de venta al público en estaciones de servicio, pueden unirse utilizando como guía las columnas \"Período\" y \"Provincia\"."
      ],
      "metadata": {
        "id": "VxuXYyJTyJAI"
      }
    },
    {
      "cell_type": "code",
      "source": [
        "conjunto = PPI_nacional.merge(precio_domestico, on=[\"Período\", \"provincia\"])"
      ],
      "metadata": {
        "id": "DPYfV3WVwPz9"
      },
      "execution_count": 156,
      "outputs": []
    },
    {
      "cell_type": "markdown",
      "source": [
        "Se crea y aplica un orden especial para las columnas, para facilitar la comparativa entre productos."
      ],
      "metadata": {
        "id": "IUGJFoo4y3Mg"
      }
    },
    {
      "cell_type": "code",
      "source": [
        "columns_order = []\n",
        "columns_order.append(\"Período\")\n",
        "columns_order.append(\"provincia\")\n",
        "for producto in productos:\n",
        "  columns_order.append(producto)\n",
        "  columns_order.append(\"PPI - \"+producto)"
      ],
      "metadata": {
        "id": "7fw1FNnB-A44"
      },
      "execution_count": 157,
      "outputs": []
    },
    {
      "cell_type": "code",
      "source": [
        "conjunto = conjunto[columns_order]"
      ],
      "metadata": {
        "id": "4G6Z3XJzFQfw"
      },
      "execution_count": 158,
      "outputs": []
    },
    {
      "cell_type": "markdown",
      "source": [
        "Se presentan las primeras 5 filas del *DataFrame*."
      ],
      "metadata": {
        "id": "p11cNzICzNF9"
      }
    },
    {
      "cell_type": "code",
      "source": [
        "conjunto.head()"
      ],
      "metadata": {
        "id": "EzZTq0Yfy9tw",
        "colab": {
          "base_uri": "https://localhost:8080/",
          "height": 354
        },
        "outputId": "d34aa6b8-1124-4dba-b08d-bf3a2062ef2f"
      },
      "execution_count": 159,
      "outputs": [
        {
          "output_type": "execute_result",
          "data": {
            "text/plain": [
              "     Período        provincia  Gas Oil Grado 2  PPI - Gas Oil Grado 2  \\\n",
              "0 2019-01-01     BUENOS AIRES        37.192738              36.740123   \n",
              "1 2019-01-01  CAPITAL FEDERAL        35.184521              36.562191   \n",
              "2 2019-01-01          CORDOBA        37.286581              38.148234   \n",
              "3 2019-01-01       CORRIENTES        38.787692              38.829282   \n",
              "4 2019-01-01          MENDOZA        35.930331              39.360008   \n",
              "\n",
              "   Gas Oil Grado 3  PPI - Gas Oil Grado 3  Nafta (súper) entre 92 y 95 Ron  \\\n",
              "0        44.067569              37.752038                        39.650890   \n",
              "1        41.378097              37.571016                        37.623672   \n",
              "2        43.638617              39.184605                        41.856281   \n",
              "3        46.006627              39.877481                        42.819379   \n",
              "4        40.402192              40.417424                        38.838204   \n",
              "\n",
              "   PPI - Nafta (súper) entre 92 y 95 Ron  Nafta (premium) de más de 95 Ron  \\\n",
              "0                              35.587625                         45.381516   \n",
              "1                              35.405627                         43.588011   \n",
              "2                              37.027915                         46.817896   \n",
              "3                              37.724526                         47.756548   \n",
              "4                              38.267380                         43.511972   \n",
              "\n",
              "   PPI - Nafta (premium) de más de 95 Ron  \n",
              "0                               37.101654  \n",
              "1                               36.915753  \n",
              "2                               38.572835  \n",
              "3                               39.284387  \n",
              "4                               39.838884  "
            ],
            "text/html": [
              "\n",
              "  <div id=\"df-6e77b2a9-24a2-4f65-8de8-27536ef0776f\">\n",
              "    <div class=\"colab-df-container\">\n",
              "      <div>\n",
              "<style scoped>\n",
              "    .dataframe tbody tr th:only-of-type {\n",
              "        vertical-align: middle;\n",
              "    }\n",
              "\n",
              "    .dataframe tbody tr th {\n",
              "        vertical-align: top;\n",
              "    }\n",
              "\n",
              "    .dataframe thead th {\n",
              "        text-align: right;\n",
              "    }\n",
              "</style>\n",
              "<table border=\"1\" class=\"dataframe\">\n",
              "  <thead>\n",
              "    <tr style=\"text-align: right;\">\n",
              "      <th></th>\n",
              "      <th>Período</th>\n",
              "      <th>provincia</th>\n",
              "      <th>Gas Oil Grado 2</th>\n",
              "      <th>PPI - Gas Oil Grado 2</th>\n",
              "      <th>Gas Oil Grado 3</th>\n",
              "      <th>PPI - Gas Oil Grado 3</th>\n",
              "      <th>Nafta (súper) entre 92 y 95 Ron</th>\n",
              "      <th>PPI - Nafta (súper) entre 92 y 95 Ron</th>\n",
              "      <th>Nafta (premium) de más de 95 Ron</th>\n",
              "      <th>PPI - Nafta (premium) de más de 95 Ron</th>\n",
              "    </tr>\n",
              "  </thead>\n",
              "  <tbody>\n",
              "    <tr>\n",
              "      <th>0</th>\n",
              "      <td>2019-01-01</td>\n",
              "      <td>BUENOS AIRES</td>\n",
              "      <td>37.192738</td>\n",
              "      <td>36.740123</td>\n",
              "      <td>44.067569</td>\n",
              "      <td>37.752038</td>\n",
              "      <td>39.650890</td>\n",
              "      <td>35.587625</td>\n",
              "      <td>45.381516</td>\n",
              "      <td>37.101654</td>\n",
              "    </tr>\n",
              "    <tr>\n",
              "      <th>1</th>\n",
              "      <td>2019-01-01</td>\n",
              "      <td>CAPITAL FEDERAL</td>\n",
              "      <td>35.184521</td>\n",
              "      <td>36.562191</td>\n",
              "      <td>41.378097</td>\n",
              "      <td>37.571016</td>\n",
              "      <td>37.623672</td>\n",
              "      <td>35.405627</td>\n",
              "      <td>43.588011</td>\n",
              "      <td>36.915753</td>\n",
              "    </tr>\n",
              "    <tr>\n",
              "      <th>2</th>\n",
              "      <td>2019-01-01</td>\n",
              "      <td>CORDOBA</td>\n",
              "      <td>37.286581</td>\n",
              "      <td>38.148234</td>\n",
              "      <td>43.638617</td>\n",
              "      <td>39.184605</td>\n",
              "      <td>41.856281</td>\n",
              "      <td>37.027915</td>\n",
              "      <td>46.817896</td>\n",
              "      <td>38.572835</td>\n",
              "    </tr>\n",
              "    <tr>\n",
              "      <th>3</th>\n",
              "      <td>2019-01-01</td>\n",
              "      <td>CORRIENTES</td>\n",
              "      <td>38.787692</td>\n",
              "      <td>38.829282</td>\n",
              "      <td>46.006627</td>\n",
              "      <td>39.877481</td>\n",
              "      <td>42.819379</td>\n",
              "      <td>37.724526</td>\n",
              "      <td>47.756548</td>\n",
              "      <td>39.284387</td>\n",
              "    </tr>\n",
              "    <tr>\n",
              "      <th>4</th>\n",
              "      <td>2019-01-01</td>\n",
              "      <td>MENDOZA</td>\n",
              "      <td>35.930331</td>\n",
              "      <td>39.360008</td>\n",
              "      <td>40.402192</td>\n",
              "      <td>40.417424</td>\n",
              "      <td>38.838204</td>\n",
              "      <td>38.267380</td>\n",
              "      <td>43.511972</td>\n",
              "      <td>39.838884</td>\n",
              "    </tr>\n",
              "  </tbody>\n",
              "</table>\n",
              "</div>\n",
              "      <button class=\"colab-df-convert\" onclick=\"convertToInteractive('df-6e77b2a9-24a2-4f65-8de8-27536ef0776f')\"\n",
              "              title=\"Convert this dataframe to an interactive table.\"\n",
              "              style=\"display:none;\">\n",
              "        \n",
              "  <svg xmlns=\"http://www.w3.org/2000/svg\" height=\"24px\"viewBox=\"0 0 24 24\"\n",
              "       width=\"24px\">\n",
              "    <path d=\"M0 0h24v24H0V0z\" fill=\"none\"/>\n",
              "    <path d=\"M18.56 5.44l.94 2.06.94-2.06 2.06-.94-2.06-.94-.94-2.06-.94 2.06-2.06.94zm-11 1L8.5 8.5l.94-2.06 2.06-.94-2.06-.94L8.5 2.5l-.94 2.06-2.06.94zm10 10l.94 2.06.94-2.06 2.06-.94-2.06-.94-.94-2.06-.94 2.06-2.06.94z\"/><path d=\"M17.41 7.96l-1.37-1.37c-.4-.4-.92-.59-1.43-.59-.52 0-1.04.2-1.43.59L10.3 9.45l-7.72 7.72c-.78.78-.78 2.05 0 2.83L4 21.41c.39.39.9.59 1.41.59.51 0 1.02-.2 1.41-.59l7.78-7.78 2.81-2.81c.8-.78.8-2.07 0-2.86zM5.41 20L4 18.59l7.72-7.72 1.47 1.35L5.41 20z\"/>\n",
              "  </svg>\n",
              "      </button>\n",
              "      \n",
              "  <style>\n",
              "    .colab-df-container {\n",
              "      display:flex;\n",
              "      flex-wrap:wrap;\n",
              "      gap: 12px;\n",
              "    }\n",
              "\n",
              "    .colab-df-convert {\n",
              "      background-color: #E8F0FE;\n",
              "      border: none;\n",
              "      border-radius: 50%;\n",
              "      cursor: pointer;\n",
              "      display: none;\n",
              "      fill: #1967D2;\n",
              "      height: 32px;\n",
              "      padding: 0 0 0 0;\n",
              "      width: 32px;\n",
              "    }\n",
              "\n",
              "    .colab-df-convert:hover {\n",
              "      background-color: #E2EBFA;\n",
              "      box-shadow: 0px 1px 2px rgba(60, 64, 67, 0.3), 0px 1px 3px 1px rgba(60, 64, 67, 0.15);\n",
              "      fill: #174EA6;\n",
              "    }\n",
              "\n",
              "    [theme=dark] .colab-df-convert {\n",
              "      background-color: #3B4455;\n",
              "      fill: #D2E3FC;\n",
              "    }\n",
              "\n",
              "    [theme=dark] .colab-df-convert:hover {\n",
              "      background-color: #434B5C;\n",
              "      box-shadow: 0px 1px 3px 1px rgba(0, 0, 0, 0.15);\n",
              "      filter: drop-shadow(0px 1px 2px rgba(0, 0, 0, 0.3));\n",
              "      fill: #FFFFFF;\n",
              "    }\n",
              "  </style>\n",
              "\n",
              "      <script>\n",
              "        const buttonEl =\n",
              "          document.querySelector('#df-6e77b2a9-24a2-4f65-8de8-27536ef0776f button.colab-df-convert');\n",
              "        buttonEl.style.display =\n",
              "          google.colab.kernel.accessAllowed ? 'block' : 'none';\n",
              "\n",
              "        async function convertToInteractive(key) {\n",
              "          const element = document.querySelector('#df-6e77b2a9-24a2-4f65-8de8-27536ef0776f');\n",
              "          const dataTable =\n",
              "            await google.colab.kernel.invokeFunction('convertToInteractive',\n",
              "                                                     [key], {});\n",
              "          if (!dataTable) return;\n",
              "\n",
              "          const docLinkHtml = 'Like what you see? Visit the ' +\n",
              "            '<a target=\"_blank\" href=https://colab.research.google.com/notebooks/data_table.ipynb>data table notebook</a>'\n",
              "            + ' to learn more about interactive tables.';\n",
              "          element.innerHTML = '';\n",
              "          dataTable['output_type'] = 'display_data';\n",
              "          await google.colab.output.renderOutput(dataTable, element);\n",
              "          const docLink = document.createElement('div');\n",
              "          docLink.innerHTML = docLinkHtml;\n",
              "          element.appendChild(docLink);\n",
              "        }\n",
              "      </script>\n",
              "    </div>\n",
              "  </div>\n",
              "  "
            ]
          },
          "metadata": {},
          "execution_count": 159
        }
      ]
    },
    {
      "cell_type": "markdown",
      "source": [
        "Por último, se exporta el *DataFrame* en formato `.xlsx`."
      ],
      "metadata": {
        "id": "cVMsfhQgsh66"
      }
    },
    {
      "cell_type": "code",
      "source": [
        "conjunto.to_excel(\"Precio de Paridad de Importación y Precio Doméstico.xlsx\", index=False)"
      ],
      "metadata": {
        "id": "W8_etMnLsm13"
      },
      "execution_count": 160,
      "outputs": []
    },
    {
      "cell_type": "markdown",
      "source": [
        "## Figuras"
      ],
      "metadata": {
        "id": "vcANbOTly-Z-"
      }
    },
    {
      "cell_type": "markdown",
      "source": [
        "### General\n",
        "\n",
        "Los colores utilizados para ambas figuras se construyen a partir de los 4 primeros valores de `qualitative.G10`, una escala discreta de colores de Plotly."
      ],
      "metadata": {
        "id": "PpGqB7yNSsl5"
      }
    },
    {
      "cell_type": "code",
      "source": [
        "colors = px.colors.qualitative.G10[0:4]"
      ],
      "metadata": {
        "id": "6GUEkMkWMMDk"
      },
      "execution_count": 161,
      "outputs": []
    },
    {
      "cell_type": "markdown",
      "source": [
        "Para aplicar el mismo color al precio doméstico y al Precio de Paridad de Importación, se repite cada color dos veces."
      ],
      "metadata": {
        "id": "K6IPPYsAUDIu"
      }
    },
    {
      "cell_type": "code",
      "source": [
        "colors = [y for color in colors for y in (color,)*2]"
      ],
      "metadata": {
        "id": "YXZR4chgS7TI"
      },
      "execution_count": 162,
      "outputs": []
    },
    {
      "cell_type": "markdown",
      "source": [
        "Por otra parte, se definen los nombres (y el orden) de los productos en las visualizaciones.\n",
        "\n",
        "La lista `names_productos` itera sobre cada producto en `productos` y recopila tanto el producto como su variante de paridad de importación."
      ],
      "metadata": {
        "id": "ZdIQpt7JUUbd"
      }
    },
    {
      "cell_type": "code",
      "source": [
        "names_productos = []\n",
        "for producto in productos:\n",
        "  names_productos.append(producto)\n",
        "  names_productos.append(\"PPI - \"+producto)"
      ],
      "metadata": {
        "id": "NJ3yLPw3uZBn"
      },
      "execution_count": 163,
      "outputs": []
    },
    {
      "cell_type": "markdown",
      "source": [
        "Se crea la lista `legend_groups`, que contiene el orden de agrupación de las leyendas de los gráficos."
      ],
      "metadata": {
        "id": "vFDhEkSrVs-Y"
      }
    },
    {
      "cell_type": "code",
      "source": [
        "legend_groups = [\"Gas Oil\"]*4 + [\"Nafta\"]*4"
      ],
      "metadata": {
        "id": "8qaDZBTgq-kj"
      },
      "execution_count": 164,
      "outputs": []
    },
    {
      "cell_type": "markdown",
      "source": [
        "Además, se crea la lista `dashing`, que contiene la forma (continua o discontinua) de las líneas a graficar."
      ],
      "metadata": {
        "id": "QL5qLE6Ja5tf"
      }
    },
    {
      "cell_type": "code",
      "source": [
        "dashing = [x for y in zip([\"solid\"]*4, [\"dash\"]*4) for x in y]"
      ],
      "metadata": {
        "id": "xg3UWwDFfHBB"
      },
      "execution_count": 165,
      "outputs": []
    },
    {
      "cell_type": "markdown",
      "source": [
        "Por último, se crea la función `general_update_layout`, que modifica el aspecto general de la figura.\n",
        "\n",
        "Los parámetros de la función son:\n",
        "*   `fig`: el nombre de la figura a utilizar.\n",
        "*   `bar_mode`: indica el modo de presentación de los gráficos de barra.\n",
        "*   `min`: valor mínimo del eje de ordenadas.\n",
        "*   `max`: valor máximo del eje de ordenadas.\n",
        "*   `dtick`: longitud de la medida entre valores del eje de ordenadas.\n",
        "*   `fig_number`: dígito de prueba."
      ],
      "metadata": {
        "id": "UWpNOHcPWAan"
      }
    },
    {
      "cell_type": "code",
      "source": [
        "def general_update_layout(fig, bar_mode, min, max, dtick, title_text, fig_number):\n",
        "  fig.update_layout(\n",
        "      margin = dict(\n",
        "          b = 15,\n",
        "          t = 15,\n",
        "          l = 15,\n",
        "          r = 50),\n",
        "      barmode = bar_mode,\n",
        "      height = 750, \n",
        "      width = 1000,\n",
        "      plot_bgcolor = 'rgba(0,0,0,0)',\n",
        "      legend = dict(\n",
        "          orientation = 'h',\n",
        "          xanchor = 'center', \n",
        "          x = 0.5, \n",
        "          yanchor = 'bottom', \n",
        "          y = 1,\n",
        "          font = dict(\n",
        "              size = 16\n",
        "              )\n",
        "          ),\n",
        "      yaxis=dict(\n",
        "        range=[min, max], title=dict(text=title_text),\n",
        "        showgrid=True,\n",
        "        gridcolor='lightgray',\n",
        "        dtick=dtick\n",
        "        ),\n",
        "      font=dict(\n",
        "          size=14,\n",
        "          family=\"Serif\"\n",
        "          )\n",
        "      )\n",
        "  if fig_number == 1:\n",
        "    fig.update_layout(\n",
        "        xaxis = dict(\n",
        "            range = [nacional_avg['Período'][0], dt.date(date.today().year, date.today().month, 15)],\n",
        "            tickformat = \"%m\\n<b>%Y\", dtick=\"M3\",\n",
        "            )\n",
        "    )\n",
        "  if fig_number == 2:\n",
        "    fig.update_layout(\n",
        "        xaxis = dict(\n",
        "            range = [CS['Período'][0], \n",
        "                     dt.date(pd.to_datetime(CS[\"Período\"][len(CS)-1]).year,\n",
        "                             pd.to_datetime(CS[\"Período\"][len(CS)-1]).month,\n",
        "                             28)],\n",
        "            tickformat = \"%m\\n<b>%Y\", dtick=\"M3\",\n",
        "            )\n",
        "    )"
      ],
      "metadata": {
        "id": "RnYXrkBz0zBg"
      },
      "execution_count": 166,
      "outputs": []
    },
    {
      "cell_type": "markdown",
      "source": [
        "### Figura: PPI vs. precio doméstico – promedio nacional mensual\n",
        "\n",
        "Para la creación de esta figura es necesario contar con las medias mensuales nacionales de cada producto. En este sentido, se crea el *DataFrame* `nacional_avg`, que consiste en agrupar (`.groupby()`) el *DataFrame* `conjunto` por período, y calcular los promedios mensuales de cada uno de los productos. "
      ],
      "metadata": {
        "id": "kL8Clc5IUrJB"
      }
    },
    {
      "cell_type": "code",
      "source": [
        "nacional_avg = conjunto.groupby(by=\"Período\", as_index=False)[conjunto.columns[2:]].mean()"
      ],
      "metadata": {
        "id": "dNSgj6tJJsNL"
      },
      "execution_count": 167,
      "outputs": []
    },
    {
      "cell_type": "markdown",
      "source": [
        "Se crea la figura `promedio_nacional` en el entorno de Plotly (utilizando `graph_objects` como `go`)."
      ],
      "metadata": {
        "id": "d87xbZ40sbJU"
      }
    },
    {
      "cell_type": "code",
      "source": [
        "promedio_nacional = go.Figure()"
      ],
      "metadata": {
        "id": "ApAYbbRosaRX"
      },
      "execution_count": 168,
      "outputs": []
    },
    {
      "cell_type": "markdown",
      "source": [
        "Las especificaciones de la figura se encuentran en su argumento, y se hace uso de la función `general_update_layout` para modificar el aspecto de la figura en general."
      ],
      "metadata": {
        "id": "hc6IFf5DZj0y"
      }
    },
    {
      "cell_type": "code",
      "source": [
        "for producto, color, dash, legend in zip(names_productos, colors, dashing, legend_groups):\n",
        "  promedio_nacional.add_trace(\n",
        "      go.Scatter(\n",
        "        x=nacional_avg['Período'],\n",
        "        y=nacional_avg[producto],\n",
        "        mode='lines',\n",
        "        name=producto,\n",
        "        legendgroup=legend,\n",
        "        legendgrouptitle_text=legend,\n",
        "        line=dict(\n",
        "            width=2,\n",
        "            color=color,\n",
        "            dash=dash\n",
        "        )\n",
        "      )\n",
        "  )\n",
        "  promedio_nacional.add_annotation(\n",
        "    x=pd.to_datetime(nacional_avg['Período'][-1:].values[0]),\n",
        "    y=nacional_avg[producto][-1:].values[0],\n",
        "    text=round(nacional_avg[producto][-1:].values[0], 2).astype(str),\n",
        "    font=dict(\n",
        "        color=color\n",
        "    ),\n",
        "    xanchor=\"left\",\n",
        "    xshift=10,\n",
        "    yshift=0,\n",
        "    showarrow=False\n",
        "  )\n",
        "  promedio_nacional.add_trace(\n",
        "    go.Scatter(\n",
        "      showlegend=False,\n",
        "      x=nacional_avg['Período'].tail(1),\n",
        "      y=nacional_avg[producto].tail(1),\n",
        "      mode='markers',\n",
        "      name=producto+\"EoP\",\n",
        "      marker=dict(\n",
        "          color=color, size=10\n",
        "      )\n",
        "    )\n",
        "  )\n",
        "\n",
        "general_update_layout(promedio_nacional, None, 25, 290, 30, \"<b>ARS / litro\", 1)"
      ],
      "metadata": {
        "id": "cRiPONcqqEGX"
      },
      "execution_count": 169,
      "outputs": []
    },
    {
      "cell_type": "markdown",
      "source": [
        "A continuación, se exhibe la figura."
      ],
      "metadata": {
        "id": "B74BAcxwTE2d"
      }
    },
    {
      "cell_type": "code",
      "source": [
        "promedio_nacional.show(\"png\")"
      ],
      "metadata": {
        "id": "8csvoS9J2rOL",
        "colab": {
          "base_uri": "https://localhost:8080/",
          "height": 767
        },
        "outputId": "cc077de3-7838-4280-b8c0-cc22dd7692ab"
      },
      "execution_count": 170,
      "outputs": [
        {
          "output_type": "display_data",
          "data": {
            "image/png": "[encoded data removed]"
          },
          "metadata": {}
        }
      ]
    },
    {
      "cell_type": "markdown",
      "source": [
        "Si se desea exportar la figura a formato `.pdf`, se debe des-comentar y ejecutar la siguiente celda. Recuérdese que el *package* `kaleido` debe estar correctamente instalado."
      ],
      "metadata": {
        "id": "GixdbOkC6pZ6"
      }
    },
    {
      "cell_type": "code",
      "source": [
        "pio.write_image(promedio_nacional, \"Figura PPI vs. Dom - nacional.pdf\", width=3*300, height=2.25*300)"
      ],
      "metadata": {
        "id": "dZI7rwBtJnJV"
      },
      "execution_count": 171,
      "outputs": []
    },
    {
      "cell_type": "markdown",
      "source": [
        "### Figura: PPI vs. precio doméstico – provincias seleccionadas\n",
        "\n",
        "Para la creación de esta figura, se requiere explicitar los nombres de las provincias que serán visualizadas. La lista `provincias_names` contiene dichas variables. Al mismo tiempo, los nombres de las provincias servirán de eje de abscisas (categórico) del gráfico."
      ],
      "metadata": {
        "id": "Gmu_ObR6azVG"
      }
    },
    {
      "cell_type": "code",
      "source": [
        "provincias_names = ['Buenos Aires', 'Capital Federal', 'Córdoba', 'Corrientes']"
      ],
      "metadata": {
        "id": "Rpu8GetC-rPr"
      },
      "execution_count": 172,
      "outputs": []
    },
    {
      "cell_type": "markdown",
      "source": [
        "Se crea la figura `provincias_seleccionadas` en el entorno de Plotly (utilizando `graph_objects` como `go`)."
      ],
      "metadata": {
        "id": "s5QzT2oIgfFN"
      }
    },
    {
      "cell_type": "code",
      "source": [
        "provincias_seleccionadas = go.Figure()"
      ],
      "metadata": {
        "id": "hT1jljONgfFN"
      },
      "execution_count": 173,
      "outputs": []
    },
    {
      "cell_type": "markdown",
      "source": [
        "Las especificaciones de la figura se encuentran en su argumento, y se hace uso de la función `general_update_layout` para modificar el aspecto de la figura en general."
      ],
      "metadata": {
        "id": "9E145_3QgfFO"
      }
    },
    {
      "cell_type": "code",
      "source": [
        "for column, color, legend in zip(conjunto[-7:-3].columns[2:], colors, legend_groups):\n",
        "  if \"PPI\" not in column:\n",
        "    provincias_seleccionadas.add_trace(\n",
        "      go.Bar(\n",
        "        name=column,\n",
        "        x=provincias_names,\n",
        "        y=conjunto[-7:-3][column],\n",
        "        text=conjunto[-7:-3][column],\n",
        "        textposition=\"inside\",\n",
        "        texttemplate=\"%{value:.1f}\",\n",
        "        marker=dict(color=color),\n",
        "        legendgroup=legend,\n",
        "        legendgrouptitle_text=legend,\n",
        "    ))\n",
        "  else:\n",
        "    provincias_seleccionadas.add_trace(\n",
        "      go.Scatter(\n",
        "        name=column,\n",
        "        x=provincias_names,\n",
        "        y=conjunto[-7:-3][column],\n",
        "        mode='markers+text',\n",
        "        text=conjunto[-7:-3][column],\n",
        "        textposition=\"middle right\",\n",
        "        texttemplate=\"%{text:.1f}\",\n",
        "        textfont=dict(color=color),\n",
        "        marker=dict(size=15, color=color),\n",
        "        legendgroup=legend,\n",
        "        legendgrouptitle_text=legend,\n",
        "    ))\n",
        "\n",
        "general_update_layout(provincias_seleccionadas, \"group\", 125, 300, 10, \"<b>ARS / litro\", 0)"
      ],
      "metadata": {
        "id": "qeebklGJ3YIt"
      },
      "execution_count": 174,
      "outputs": []
    },
    {
      "cell_type": "markdown",
      "source": [
        "A continuación, se exhibe la figura."
      ],
      "metadata": {
        "id": "hWOJefJghWtn"
      }
    },
    {
      "cell_type": "code",
      "source": [
        "provincias_seleccionadas.show(\"png\")"
      ],
      "metadata": {
        "id": "1TNHOkiR4PE4",
        "colab": {
          "base_uri": "https://localhost:8080/",
          "height": 767
        },
        "outputId": "da60d9a9-e829-487a-cc40-6c84a9222e08"
      },
      "execution_count": 175,
      "outputs": [
        {
          "output_type": "display_data",
          "data": {
            "image/png": "[encoded data removed]"
          },
          "metadata": {}
        }
      ]
    },
    {
      "cell_type": "markdown",
      "source": [
        "Si se desea exportar la figura a formato `.pdf`, se debe des-comentar y ejecutar la siguiente celda. Recuérdese que el *package* `kaleido` debe estar correctamente instalado."
      ],
      "metadata": {
        "id": "wmxd64Z8ha4F"
      }
    },
    {
      "cell_type": "code",
      "source": [
        "pio.write_image(provincias_seleccionadas, \"Figura PPI vs. Dom - provincias seleccionadas.pdf\", width=3*300, height=2.25*300)"
      ],
      "metadata": {
        "id": "prtH3mhPha4G"
      },
      "execution_count": 176,
      "outputs": []
    },
    {
      "cell_type": "markdown",
      "source": [
        "# ***Crack spread*: aproximación a los márgenes de comercialización**\n",
        "\n",
        "---\n",
        "\n",
        "El *crack spread* es un cálculo simplificado de los márgenes de refinación (esto es, el beneficio de las refinerías). Generalmente, se calcula como la diferencia entre el precio del petróleo crudo y el precio de los productos derivados de dicho petróleo (un *mix* de nafta y gas oil).\n",
        "\n",
        "El presente archivo contiene el código utilizado para obtener, procesar y analizar los datos del *crack spread* para Argentina y Estados Unidos.\n",
        "\n",
        "Como resultado del análisis de datos, se presenta una figura que permite visualizar la evolución de los márgenes de refino en ambos países."
      ],
      "metadata": {
        "id": "a4gvBDGVkjoj"
      }
    },
    {
      "cell_type": "markdown",
      "source": [
        "## Cálculo del *crack spread* para Argentina\n",
        "\n",
        "En Argentina, el *crack spread* se calcula a partir de los precios domésticos de la nafta (súper y premium) y del gas oil (grado 2 y 3), además de los precios domésticos de los crudos nacionales (Crudo Medanito y Escalante)."
      ],
      "metadata": {
        "id": "I1oT1EaQv4dY"
      }
    },
    {
      "cell_type": "markdown",
      "source": [
        "### Productos derivados del petróleo\n",
        "\n",
        "Los precios domésticos de los derivados del petróleo (nafta y gas oil) en Argentina se encuentran en el *DataFrame* `precio_domestico`, creado y modificado anteriormente para establecer comparaciones con respecto al Precio de Paridad de Importación.\n",
        "\n",
        "El *DataFrame* `CS_ARG` se define como una copia del *DataFrame* `precio_domestico`."
      ],
      "metadata": {
        "id": "H-ZGwRt52rm6"
      }
    },
    {
      "cell_type": "code",
      "source": [
        "CS_ARG = precio_domestico.copy()"
      ],
      "metadata": {
        "id": "dl7w70wRkusI"
      },
      "execution_count": 177,
      "outputs": []
    },
    {
      "cell_type": "markdown",
      "source": [
        "En particular, para el cálculo del *crack spread* se precisan solamente aquellos precios correspondientes a Capital Federal. Así, se eliminan filas no deseadas y se resetea el índice con el comando `.reset_index(drop=True)`."
      ],
      "metadata": {
        "id": "oQGYLVZW3mLD"
      }
    },
    {
      "cell_type": "code",
      "source": [
        "CS_ARG = CS_ARG[CS_ARG['provincia'] == \"CAPITAL FEDERAL\"].reset_index(drop=True)"
      ],
      "metadata": {
        "id": "AMqRpu74Fdjz"
      },
      "execution_count": 178,
      "outputs": []
    },
    {
      "cell_type": "markdown",
      "source": [
        "Tanto el gas oil como la nafta, en Argentina, se comercializan al público en 2 modalidades: una *standard* (Gas Oil Grado 2 y Nafta (súper) entre 92 y 95 Ron) y una *premium* (Gas Oil Grado 3 y Nafta (premium) de más de 95 Ron).\n",
        "\n",
        "Para cada derivado del petróleo, se calculan los promedios aritméticos entre calidades y se incluyen en las columnas \"Gas Oil\" y \"Nafta\"."
      ],
      "metadata": {
        "id": "Y0ijq-Fa4L8I"
      }
    },
    {
      "cell_type": "code",
      "source": [
        "CS_ARG[\"Gas Oil\"] =  CS_ARG[[productos[0], productos[1]]].mean(axis=1)"
      ],
      "metadata": {
        "id": "BiAalgtyGhYC"
      },
      "execution_count": 179,
      "outputs": []
    },
    {
      "cell_type": "code",
      "source": [
        "CS_ARG[\"Nafta\"] =  CS_ARG[[productos[2], productos[3]]].mean(axis=1)"
      ],
      "metadata": {
        "id": "deYfdwoUGhYC"
      },
      "execution_count": 180,
      "outputs": []
    },
    {
      "cell_type": "markdown",
      "source": [
        "Algo similar sucede con los márgenes minoristas, calculándose promedios entre calidades y creando `margen_GO` para el gas oil, y `margen_N` para la nafta."
      ],
      "metadata": {
        "id": "p9KPP1QU5WfT"
      }
    },
    {
      "cell_type": "code",
      "source": [
        "margen_GO = (margen_GO2 + margen_GO3)/2"
      ],
      "metadata": {
        "id": "-E_jWRFR8Izn"
      },
      "execution_count": 181,
      "outputs": []
    },
    {
      "cell_type": "code",
      "source": [
        "margen_N = (margen_NS + margen_NP)/2"
      ],
      "metadata": {
        "id": "bGBjWgRw8Llq"
      },
      "execution_count": 182,
      "outputs": []
    },
    {
      "cell_type": "markdown",
      "source": [
        "Con la información recopilada, se procede a calcular el precio ex-planta de cada uno de los productos derivados del petróleo.\n",
        "\n",
        "Así, se efectúan las siguientes operaciones:\n",
        "1.   sustraer los montos de impuestos (Impuesto a los Combustibles Líquidos e Impuesto al Dióxido de Carbono) para cada producto, notados en el *DataFrame* `impuestos`.\n",
        "2.   sustraer los montos erogados en concepto de fletes a Capital Federal, incluyendo el Impuesto al Valor Agregado (IVA)\n",
        "3.   sustraer los montos considerados márgenes minoristas para cada producto, incluyendo el Impuesto al Valor Agregado (IVA)\n",
        "4.   sustraer los montos erogados en concepto de impuestos *ad valorem* (definidos oportunamente en `ad_valorem`)"
      ],
      "metadata": {
        "id": "4722-kau7wbS"
      }
    },
    {
      "cell_type": "code",
      "source": [
        "CS_ARG[\"Gas Oil\"] = (CS_ARG[\"Gas Oil\"] - impuestos['ICL GO']/1000 - impuestos['ICO GO']/1000 - flete[provincias[1]]/1000*(1+iva) - margen_GO*CS_ARG[\"Gas Oil\"]*(1+iva)) / (1 + ad_valorem)"
      ],
      "metadata": {
        "id": "0SOh4jDD8gqi"
      },
      "execution_count": 183,
      "outputs": []
    },
    {
      "cell_type": "code",
      "source": [
        "CS_ARG[\"Nafta\"] = (CS_ARG[\"Nafta\"] - impuestos['ICL N']/1000 - impuestos['ICO N']/1000 - flete[provincias[1]]/1000*(1+iva) - margen_N*CS_ARG[\"Nafta\"]*(1+iva)) / (1 + ad_valorem)"
      ],
      "metadata": {
        "id": "4SFtAeHcGyG2"
      },
      "execution_count": 184,
      "outputs": []
    },
    {
      "cell_type": "markdown",
      "source": [
        "Las columnas \"Gas Oil\" y \"Nafta\" representan los montos promedios equivalentes a una hipotética paridad ex-planta, y su unidad de medida es ARS / litro (pesos argentinos por litro).\n",
        "\n",
        "Ambas columnas se convierten a US$ / bbl (dólares estadounidenses por barril) diviendo por el tipo de cambio y multiplicando por el conversor de litro a barril (`conversor_l_bbl`)."
      ],
      "metadata": {
        "id": "l3zIqbfjVzXo"
      }
    },
    {
      "cell_type": "code",
      "source": [
        "conversor_l_bbl = 1/0.00629"
      ],
      "metadata": {
        "id": "AIY2EjUuLAMq"
      },
      "execution_count": 185,
      "outputs": []
    },
    {
      "cell_type": "code",
      "source": [
        "CS_ARG[\"Gas Oil\"] = CS_ARG[\"Gas Oil\"] / tc[\"TCN\"] * conversor_l_bbl"
      ],
      "metadata": {
        "id": "EshFRFqQW2nM"
      },
      "execution_count": 186,
      "outputs": []
    },
    {
      "cell_type": "code",
      "source": [
        "CS_ARG[\"Nafta\"] = CS_ARG[\"Nafta\"] / tc[\"TCN\"] * conversor_l_bbl"
      ],
      "metadata": {
        "id": "c_rWfrNjW2nN"
      },
      "execution_count": 187,
      "outputs": []
    },
    {
      "cell_type": "markdown",
      "source": [
        "Finalmente, se eliminan las columnas innecesarias, y se resetea el índice."
      ],
      "metadata": {
        "id": "kPNmWx2qg5iQ"
      }
    },
    {
      "cell_type": "code",
      "source": [
        "CS_ARG = CS_ARG[[CS_ARG.columns[0]] + CS_ARG.columns[-2:].tolist()].reset_index(drop=True)"
      ],
      "metadata": {
        "id": "KYgXYgDaglaL"
      },
      "execution_count": 188,
      "outputs": []
    },
    {
      "cell_type": "markdown",
      "source": [
        "### Precio del petróleo crudo nacional\n",
        "\n",
        "El informe de Regalías del Crudo contiene el archivo necesario para la obtención de los precios domésticos del petróleo. corresponden a los informes de Regalías del Crudo.\n",
        "\n",
        "Dicho informe es publicad en forma de un archivo `.xlsx` (Excel) que se encuentra dentro de un archivo `.zip`. Dado que la *library* `pandas` no lee archivos `.zip` directamente, se crea una función (`domestic_prices`) que permite la lectura de estos archivos.\n",
        "\n",
        "En particular, se utilizan las *libraries* `request` e `io` para extraer los archivos guardados \"dentro\" del archivo `.zip` y guardarlos en la memoria de la interfaz.\n",
        "\n",
        "Una vez extraido el archivo, se procede a su lectura utilizando la *library* `pandas`. En particular, se lee solamente la hoja \"Tabla precios\", y se ignoran las primeras 12 filas.\n",
        "\n",
        "Por otra parte, la función `domestic_prices` también permite la *limpieza* del *DataFrame*. Así, dado que el análisis se efectúa a partir del año 2019, se eliminan todas los datos anteriores a dichas fechas. Acto seguido, se resetea el índice y se utilizan solo las columnas deseadas, dispuestas en una lista (`list_of_columns`) creada *ad-hoc*.\n",
        "\n",
        "Además, el archivo de Regalía contiene, en la columna \"AÑO\", valores `NaN`. Estos valores deben ser eliminados con `.fillna()` utilizando el método \"ffill\" (o *forward-fill*), que rellena los `NaN` con la última observación válida.\n",
        "\n",
        "La columna \"Período\" puede servir como un índice temporal, de la siguiente manera:\n",
        "1.   La columna \"AÑO\" debe ser interpretada como un número entero: `.astype(int)`\n",
        "2.   Las columnas \"AÑO\" y \"MES\" deben ser interpretadas como cadenas de texto: `.astype(str)`.\n",
        "3.   La columna \"Período\" surge de la transformación en `datetime` (`pd.to_datetime`) de una cadena de texto conformada por: \"AÑO\" + \"MES\" + \"1\", donde \"1\" es el día. Se aplica el formato correspondiente.\n",
        "\n",
        "La función `domestic_prices` recopila todo lo anterior y lo generaliza para cualquier *DataFrame*.\n",
        "\n",
        "Los parámetros de la función son:\n",
        "*   `url`: el link del cual extraer los links de los archivos.\n",
        "*   `df`: *DataFrame* donde se leerán los archivos.\n",
        "*   `list_of_columns`: lista de columnas a utilizar."
      ],
      "metadata": {
        "id": "p2DLdGURXLlB"
      }
    },
    {
      "cell_type": "code",
      "source": [
        "def domestic_prices_since_2019(url, df, list_of_columns):\n",
        "  request = requests.get(url)\n",
        "  zip_file = zipfile.ZipFile(io.BytesIO(request.content))\n",
        "  zip_file.extractall()\n",
        "  df = pd.read_excel(f\"/content/{zip_file.namelist()[0]}\", sheet_name=\"Tabla precios\", skiprows=12)\n",
        "  df = df.drop(df.index[0:144])[list_of_columns][192:].reset_index(drop=True)\n",
        "  df = df.fillna(method=\"ffill\")\n",
        "  df['AÑO'] = df['AÑO'].astype(int)\n",
        "  df['AÑO'] = df['AÑO'].astype(str)\n",
        "  df['MES'] = df['MES'].astype(str)\n",
        "  df['Período'] = pd.to_datetime(df[\"AÑO\"]+df[\"MES\"]+\"1\", format=\"%Y%m%d\")\n",
        "  return df"
      ],
      "metadata": {
        "id": "T7JD9zZv75ub"
      },
      "execution_count": 189,
      "outputs": []
    },
    {
      "cell_type": "markdown",
      "source": [
        "#### Obtención y limpieza de los datos\n",
        "\n",
        "Los precios nacionales del crudo del Informe de Regalías del Crudo, publicado mensualmente por la Secretaría de Energía.\n",
        "\n",
        "El link (`url_crudo`) remite a dicho archivo."
      ],
      "metadata": {
        "id": "qhaiLavSCf_e"
      }
    },
    {
      "cell_type": "code",
      "source": [
        "url_crudo = \"http://www.energia.gob.ar/contenidos/archivos/Reorganizacion/informacion_del_mercado/mercado_hidrocarburos/informacion_estadistica/regalias/Regalias_CRUDO.zip\""
      ],
      "metadata": {
        "id": "0kZ0jpdSCf_e"
      },
      "execution_count": 190,
      "outputs": []
    },
    {
      "cell_type": "markdown",
      "source": [
        "La ejecución de la función `domestic_prices()` permite la obtención del archivo a partir de `url_crudo` y su limpieza.\n",
        "\n",
        "Es necesario identificar un `pandas.DataFrame` (en este caso, `domesticos_crudo`) y una lista `list_of_columns` a utilizar (`columnas_crudo`)."
      ],
      "metadata": {
        "id": "9DZzZgNoCf_e"
      }
    },
    {
      "cell_type": "code",
      "source": [
        "domesticos_crudo = pd.DataFrame()"
      ],
      "metadata": {
        "id": "a6b5ARdmCf_e"
      },
      "execution_count": 191,
      "outputs": []
    },
    {
      "cell_type": "code",
      "source": [
        "columnas_crudo = [\"AÑO\", \"MES\", \"CUENCA GOLFO SAN JORGE\", \"CUENCA NEUQUINA\"]"
      ],
      "metadata": {
        "id": "Ven7sMEnCf_e"
      },
      "execution_count": 192,
      "outputs": []
    },
    {
      "cell_type": "code",
      "source": [
        "domesticos_crudo = domestic_prices_since_2019(url_crudo, domesticos_crudo, columnas_crudo)"
      ],
      "metadata": {
        "id": "rtlQpg3XCf_e",
        "colab": {
          "base_uri": "https://localhost:8080/"
        },
        "outputId": "500ac50a-8d81-47e6-ca5f-aefc25290114"
      },
      "execution_count": 193,
      "outputs": [
        {
          "output_type": "stream",
          "name": "stderr",
          "text": [
            "/usr/local/lib/python3.8/dist-packages/openpyxl/worksheet/_reader.py:312: UserWarning:\n",
            "\n",
            "Slicer List extension is not supported and will be removed\n",
            "\n"
          ]
        }
      ]
    },
    {
      "cell_type": "markdown",
      "source": [
        "Las columnas \"CUENCA GOLFO SAN JORGE\" y \"CUENCA NEUQUINA\" se renombran a partir de los crudos producidos en dichas cuencas: Escalante y Medanito, respectivamente."
      ],
      "metadata": {
        "id": "R3FSN1NvCf_f"
      }
    },
    {
      "cell_type": "code",
      "source": [
        "domesticos_crudo = domesticos_crudo.rename(\n",
        "  columns={\n",
        "    \"CUENCA GOLFO SAN JORGE\": \"Crudo Escalante\",\n",
        "    \"CUENCA NEUQUINA\": \"Crudo Medanito\"\n",
        "  })"
      ],
      "metadata": {
        "id": "uL8TBY_ZCf_f"
      },
      "execution_count": 194,
      "outputs": []
    },
    {
      "cell_type": "markdown",
      "source": [
        "Se eliminan las columnas innecesarias y se reordena el *DataFrame*."
      ],
      "metadata": {
        "id": "_SLNc9vXCf_f"
      }
    },
    {
      "cell_type": "code",
      "source": [
        "domesticos_crudo = domesticos_crudo[[\"Período\", \"Crudo Medanito\", \"Crudo Escalante\"]]"
      ],
      "metadata": {
        "id": "_ikJ5Ms9Cf_f"
      },
      "execution_count": 195,
      "outputs": []
    },
    {
      "cell_type": "markdown",
      "source": [
        "Los montos de las columnas \"Medanito\" y \"Escalante\" US$ / m3 (dólares estadounidenses por metro cúbico).\n",
        "\n",
        "Es preciso convertirlos a US$ / bbl (dólares estadounidenses por barril).\n",
        "\n",
        "Se utiliza el siguiente conversor de m3 a bbl para el crudo."
      ],
      "metadata": {
        "id": "T_lwGW8lDnjL"
      }
    },
    {
      "cell_type": "code",
      "source": [
        "conversor_m3_bbl = 6.289814"
      ],
      "metadata": {
        "id": "_-w04uspEMfG"
      },
      "execution_count": 196,
      "outputs": []
    },
    {
      "cell_type": "markdown",
      "source": [
        "Para obtener el valor de las columnas en US$ / bbl, se divide el valor de cada columna por el conversor de m3 a bbl."
      ],
      "metadata": {
        "id": "3UEFlBNTEMfG"
      }
    },
    {
      "cell_type": "code",
      "source": [
        "for column in domesticos_crudo.columns[1:]:\n",
        "  domesticos_crudo[column] = domesticos_crudo[column]/conversor_m3_bbl"
      ],
      "metadata": {
        "id": "xYMRduFwEMfH",
        "colab": {
          "base_uri": "https://localhost:8080/"
        },
        "outputId": "7bfcf96c-4f58-4307-821d-a01d54c88a4e"
      },
      "execution_count": 197,
      "outputs": [
        {
          "output_type": "stream",
          "name": "stderr",
          "text": [
            "<ipython-input-197-2e10b3461dda>:2: SettingWithCopyWarning:\n",
            "\n",
            "\n",
            "A value is trying to be set on a copy of a slice from a DataFrame.\n",
            "Try using .loc[row_indexer,col_indexer] = value instead\n",
            "\n",
            "See the caveats in the documentation: https://pandas.pydata.org/pandas-docs/stable/user_guide/indexing.html#returning-a-view-versus-a-copy\n",
            "\n"
          ]
        }
      ]
    },
    {
      "cell_type": "markdown",
      "source": [
        "Una vez obtenido el precio del Crudo Medanito y Crudo Escalante expresado en US$ / bbl (dólares estadounidenses por barril), se crea la columna \"Promedio\" con el monto promedio entre ambos crudos."
      ],
      "metadata": {
        "id": "liHrNKgKgHZi"
      }
    },
    {
      "cell_type": "code",
      "source": [
        "domesticos_crudo['Promedio'] = domesticos_crudo[['Crudo Medanito', 'Crudo Escalante']].mean(axis=1)"
      ],
      "metadata": {
        "id": "UDFGyNABLltr",
        "colab": {
          "base_uri": "https://localhost:8080/"
        },
        "outputId": "36a8c7b1-33b4-42ad-cf78-3404fc41c25a"
      },
      "execution_count": 198,
      "outputs": [
        {
          "output_type": "stream",
          "name": "stderr",
          "text": [
            "<ipython-input-198-e9c9c1bc7355>:1: SettingWithCopyWarning:\n",
            "\n",
            "\n",
            "A value is trying to be set on a copy of a slice from a DataFrame.\n",
            "Try using .loc[row_indexer,col_indexer] = value instead\n",
            "\n",
            "See the caveats in the documentation: https://pandas.pydata.org/pandas-docs/stable/user_guide/indexing.html#returning-a-view-versus-a-copy\n",
            "\n"
          ]
        }
      ]
    },
    {
      "cell_type": "code",
      "source": [
        "domesticos_crudo.columns"
      ],
      "metadata": {
        "id": "l1taUGBBhjqK",
        "colab": {
          "base_uri": "https://localhost:8080/"
        },
        "outputId": "79eeb869-2774-49e9-e7e5-7afd99140cba"
      },
      "execution_count": 199,
      "outputs": [
        {
          "output_type": "execute_result",
          "data": {
            "text/plain": [
              "Index(['Período', 'Crudo Medanito', 'Crudo Escalante', 'Promedio'], dtype='object')"
            ]
          },
          "metadata": {},
          "execution_count": 199
        }
      ]
    },
    {
      "cell_type": "markdown",
      "source": [
        "Finalmente, se eliminan las columnas innecesarias y se resetea el índice."
      ],
      "metadata": {
        "id": "I6tOAfxYhGGf"
      }
    },
    {
      "cell_type": "code",
      "source": [
        "domesticos_crudo = domesticos_crudo.loc[:,[\"Período\", \"Promedio\"]].reset_index(drop=True)"
      ],
      "metadata": {
        "id": "ibZKxu0j-l_q"
      },
      "execution_count": 200,
      "outputs": []
    },
    {
      "cell_type": "markdown",
      "source": [
        "### Cálculo y *DataFrame* final\n",
        "\n",
        "Para calcular el *crack spread* en Argentina se suma el precio de 2 barriles de gas oil y 1 de nafta, y se divide el resultado de la suma por 3 (cantidad de barriles totales). Al resultado de dicho cociente, se le resta el precio promedio del crudo doméstico (promedio entre el Crudo Escalante y el Crudo Medanito)."
      ],
      "metadata": {
        "id": "293o-CfUiA2i"
      }
    },
    {
      "cell_type": "code",
      "source": [
        "CS_ARG['Argentina'] = (2*CS_ARG['Gas Oil'] + CS_ARG['Nafta'])/3 - domesticos_crudo['Promedio']"
      ],
      "metadata": {
        "id": "fqzICDH9Mmyw"
      },
      "execution_count": 201,
      "outputs": []
    },
    {
      "cell_type": "markdown",
      "source": [
        "Finalmente, se eliminan las columnas innecesarias y se resetea el índice."
      ],
      "metadata": {
        "id": "Lv_sYUx2jO2L"
      }
    },
    {
      "cell_type": "code",
      "source": [
        "CS_ARG = CS_ARG.loc[:,[\"Período\", \"Argentina\"]].reset_index(drop=True)"
      ],
      "metadata": {
        "id": "U5Udk11zjO2L"
      },
      "execution_count": 202,
      "outputs": []
    },
    {
      "cell_type": "markdown",
      "source": [
        "A continuación, se presentan las 5 primeras filas del *DataFrame*."
      ],
      "metadata": {
        "id": "Eg83P_DCjdZD"
      }
    },
    {
      "cell_type": "code",
      "source": [
        "CS_ARG.head()"
      ],
      "metadata": {
        "id": "JcRMcbl1jiTh",
        "colab": {
          "base_uri": "https://localhost:8080/",
          "height": 206
        },
        "outputId": "267d77f0-1e19-4404-af35-96f7ba1a360e"
      },
      "execution_count": 203,
      "outputs": [
        {
          "output_type": "execute_result",
          "data": {
            "text/plain": [
              "producto    Período  Argentina\n",
              "0        2019-01-01  32.452675\n",
              "1        2019-02-01  28.831199\n",
              "2        2019-03-01  25.197698\n",
              "3        2019-04-01  21.150206\n",
              "4        2019-05-01  16.312554"
            ],
            "text/html": [
              "\n",
              "  <div id=\"df-5ac2897a-aef0-4cd6-8d05-cc6c500c5248\">\n",
              "    <div class=\"colab-df-container\">\n",
              "      <div>\n",
              "<style scoped>\n",
              "    .dataframe tbody tr th:only-of-type {\n",
              "        vertical-align: middle;\n",
              "    }\n",
              "\n",
              "    .dataframe tbody tr th {\n",
              "        vertical-align: top;\n",
              "    }\n",
              "\n",
              "    .dataframe thead th {\n",
              "        text-align: right;\n",
              "    }\n",
              "</style>\n",
              "<table border=\"1\" class=\"dataframe\">\n",
              "  <thead>\n",
              "    <tr style=\"text-align: right;\">\n",
              "      <th>producto</th>\n",
              "      <th>Período</th>\n",
              "      <th>Argentina</th>\n",
              "    </tr>\n",
              "  </thead>\n",
              "  <tbody>\n",
              "    <tr>\n",
              "      <th>0</th>\n",
              "      <td>2019-01-01</td>\n",
              "      <td>32.452675</td>\n",
              "    </tr>\n",
              "    <tr>\n",
              "      <th>1</th>\n",
              "      <td>2019-02-01</td>\n",
              "      <td>28.831199</td>\n",
              "    </tr>\n",
              "    <tr>\n",
              "      <th>2</th>\n",
              "      <td>2019-03-01</td>\n",
              "      <td>25.197698</td>\n",
              "    </tr>\n",
              "    <tr>\n",
              "      <th>3</th>\n",
              "      <td>2019-04-01</td>\n",
              "      <td>21.150206</td>\n",
              "    </tr>\n",
              "    <tr>\n",
              "      <th>4</th>\n",
              "      <td>2019-05-01</td>\n",
              "      <td>16.312554</td>\n",
              "    </tr>\n",
              "  </tbody>\n",
              "</table>\n",
              "</div>\n",
              "      <button class=\"colab-df-convert\" onclick=\"convertToInteractive('df-5ac2897a-aef0-4cd6-8d05-cc6c500c5248')\"\n",
              "              title=\"Convert this dataframe to an interactive table.\"\n",
              "              style=\"display:none;\">\n",
              "        \n",
              "  <svg xmlns=\"http://www.w3.org/2000/svg\" height=\"24px\"viewBox=\"0 0 24 24\"\n",
              "       width=\"24px\">\n",
              "    <path d=\"M0 0h24v24H0V0z\" fill=\"none\"/>\n",
              "    <path d=\"M18.56 5.44l.94 2.06.94-2.06 2.06-.94-2.06-.94-.94-2.06-.94 2.06-2.06.94zm-11 1L8.5 8.5l.94-2.06 2.06-.94-2.06-.94L8.5 2.5l-.94 2.06-2.06.94zm10 10l.94 2.06.94-2.06 2.06-.94-2.06-.94-.94-2.06-.94 2.06-2.06.94z\"/><path d=\"M17.41 7.96l-1.37-1.37c-.4-.4-.92-.59-1.43-.59-.52 0-1.04.2-1.43.59L10.3 9.45l-7.72 7.72c-.78.78-.78 2.05 0 2.83L4 21.41c.39.39.9.59 1.41.59.51 0 1.02-.2 1.41-.59l7.78-7.78 2.81-2.81c.8-.78.8-2.07 0-2.86zM5.41 20L4 18.59l7.72-7.72 1.47 1.35L5.41 20z\"/>\n",
              "  </svg>\n",
              "      </button>\n",
              "      \n",
              "  <style>\n",
              "    .colab-df-container {\n",
              "      display:flex;\n",
              "      flex-wrap:wrap;\n",
              "      gap: 12px;\n",
              "    }\n",
              "\n",
              "    .colab-df-convert {\n",
              "      background-color: #E8F0FE;\n",
              "      border: none;\n",
              "      border-radius: 50%;\n",
              "      cursor: pointer;\n",
              "      display: none;\n",
              "      fill: #1967D2;\n",
              "      height: 32px;\n",
              "      padding: 0 0 0 0;\n",
              "      width: 32px;\n",
              "    }\n",
              "\n",
              "    .colab-df-convert:hover {\n",
              "      background-color: #E2EBFA;\n",
              "      box-shadow: 0px 1px 2px rgba(60, 64, 67, 0.3), 0px 1px 3px 1px rgba(60, 64, 67, 0.15);\n",
              "      fill: #174EA6;\n",
              "    }\n",
              "\n",
              "    [theme=dark] .colab-df-convert {\n",
              "      background-color: #3B4455;\n",
              "      fill: #D2E3FC;\n",
              "    }\n",
              "\n",
              "    [theme=dark] .colab-df-convert:hover {\n",
              "      background-color: #434B5C;\n",
              "      box-shadow: 0px 1px 3px 1px rgba(0, 0, 0, 0.15);\n",
              "      filter: drop-shadow(0px 1px 2px rgba(0, 0, 0, 0.3));\n",
              "      fill: #FFFFFF;\n",
              "    }\n",
              "  </style>\n",
              "\n",
              "      <script>\n",
              "        const buttonEl =\n",
              "          document.querySelector('#df-5ac2897a-aef0-4cd6-8d05-cc6c500c5248 button.colab-df-convert');\n",
              "        buttonEl.style.display =\n",
              "          google.colab.kernel.accessAllowed ? 'block' : 'none';\n",
              "\n",
              "        async function convertToInteractive(key) {\n",
              "          const element = document.querySelector('#df-5ac2897a-aef0-4cd6-8d05-cc6c500c5248');\n",
              "          const dataTable =\n",
              "            await google.colab.kernel.invokeFunction('convertToInteractive',\n",
              "                                                     [key], {});\n",
              "          if (!dataTable) return;\n",
              "\n",
              "          const docLinkHtml = 'Like what you see? Visit the ' +\n",
              "            '<a target=\"_blank\" href=https://colab.research.google.com/notebooks/data_table.ipynb>data table notebook</a>'\n",
              "            + ' to learn more about interactive tables.';\n",
              "          element.innerHTML = '';\n",
              "          dataTable['output_type'] = 'display_data';\n",
              "          await google.colab.output.renderOutput(dataTable, element);\n",
              "          const docLink = document.createElement('div');\n",
              "          docLink.innerHTML = docLinkHtml;\n",
              "          element.appendChild(docLink);\n",
              "        }\n",
              "      </script>\n",
              "    </div>\n",
              "  </div>\n",
              "  "
            ]
          },
          "metadata": {},
          "execution_count": 203
        }
      ]
    },
    {
      "cell_type": "markdown",
      "source": [
        "## Cálculo del *crack spread* para Estados Unidos\n",
        "\n",
        "En Estados Unidos, el *crack spread* se calcula a partir de los precios domésticos de la nafta (*RBOB gasoline*) y del gas oil (*No. 2 Heating Oil*) y se utiliza como precio de referencia al barril de crudo Brent.\n",
        "\n",
        "Toda la información necesaria para el cálculo del *crack spread* estadounidense se encuentra en el documento \"Spot Prices for Crude Oil and Petroleum Products\", publicado mensualmente por la Energy Information Administration (EIA) de dicho país.\n",
        "\n",
        "El link `url_spot_prices` refiere a dicho documento."
      ],
      "metadata": {
        "id": "2RvBDtLEvfjB"
      }
    },
    {
      "cell_type": "code",
      "source": [
        "url_spot_prices = \"https://www.eia.gov/dnav/pet/xls/PET_PRI_SPT_S1_M.xls\""
      ],
      "metadata": {
        "id": "YFI-f4E755ZR"
      },
      "execution_count": 204,
      "outputs": []
    },
    {
      "cell_type": "markdown",
      "source": [
        "En particular, se precisa leer las hojas \"Data 1\", \"Data 3\" y \"Data 4\" del archivo, dado que contienen -respectivamente- los datos del crudo Brent, de la gasolina regular (*RBOB Regular Gasoline*) y del gas oil convencional (*No. 2 Heating Oil*).\n",
        "\n",
        "Los nombres de estas hojas son almacenados en la lista `sheet_names`."
      ],
      "metadata": {
        "id": "J24sx8pqm3eA"
      }
    },
    {
      "cell_type": "code",
      "source": [
        "sheet_names = [\"Data 1\", \"Data 3\", \"Data 4\"]"
      ],
      "metadata": {
        "id": "FzPCp059m7Px"
      },
      "execution_count": 205,
      "outputs": []
    },
    {
      "cell_type": "markdown",
      "source": [
        "A continuación, se crea el *DataFrame* `CS_USA`, que lee y concatena horizontalmente los datos contenidos en cada hoja mediante un *for-loop*. \n",
        "\n",
        "Asimismo, utiliza la columna \"Date\" como índice, y -luego de recortar el *DataFrame*- resetea el índice."
      ],
      "metadata": {
        "id": "SoCptE5uncRB"
      }
    },
    {
      "cell_type": "code",
      "source": [
        "CS_USA = pd.concat([pd.read_excel(url_spot_prices, sheet_name = sheet, header=2, index_col=\"Date\") for sheet in sheet_names], axis=1).reset_index()[396:].reset_index(drop=True)"
      ],
      "metadata": {
        "id": "aYXoxUBBLftr"
      },
      "execution_count": 206,
      "outputs": []
    },
    {
      "cell_type": "markdown",
      "source": [
        "Se eliminan columnas innecesarias."
      ],
      "metadata": {
        "id": "hb0h5XMwoom6"
      }
    },
    {
      "cell_type": "code",
      "source": [
        "CS_USA = CS_USA.drop(columns=CS_USA.columns[1])"
      ],
      "metadata": {
        "id": "bSji6JZbL4TO"
      },
      "execution_count": 207,
      "outputs": []
    },
    {
      "cell_type": "markdown",
      "source": [
        "Por eficiencia en la escritura, se renombran las columnas restantes."
      ],
      "metadata": {
        "id": "cdGSMDiBosLt"
      }
    },
    {
      "cell_type": "code",
      "source": [
        "CS_USA = CS_USA.rename(columns = {\n",
        "  CS_USA.columns[0]: \"Período\",\n",
        "  CS_USA.columns[1]: \"Brent\",\n",
        "  CS_USA.columns[2]: \"RBOB\",\n",
        "  CS_USA.columns[3]: \"N2 HO\"\n",
        "  }\n",
        ")"
      ],
      "metadata": {
        "id": "4-dNxZC2SMe9"
      },
      "execution_count": 208,
      "outputs": []
    },
    {
      "cell_type": "markdown",
      "source": [
        "Se convierte en formato `datetime` a la columna \"Período\", y se reemplazan todos los días por el primer día de cada mes."
      ],
      "metadata": {
        "id": "BOzCVriop5e8"
      }
    },
    {
      "cell_type": "code",
      "source": [
        "CS_USA['Período'] = pd.to_datetime(CS_USA['Período']).apply(lambda x: x.replace(day=1))"
      ],
      "metadata": {
        "id": "PGcYEpQGShik"
      },
      "execution_count": 209,
      "outputs": []
    },
    {
      "cell_type": "markdown",
      "source": [
        "### Cálculo y *DataFrame* final\n",
        "\n",
        "A continuación, se calcula el *crack spread* para Estados Unidos.\n",
        "\n",
        "Para ello, se toma el promedio entre el precio de 1 barril de *RBOB Regular Gasoline* (nafta regular) y de 1 barril de *No. 2 Heating Oil* (gas oil). Dado que dicho resultado se encuentra expresado en US\\$ / Gal (dólares estadounidenses por galón), se multiplica el resultado por 42 para reexpresarlo en US\\$ / bbl (dólares estadounidenses por barril). A este resultado, se le resta el precio de 1 barril de crudo Brent."
      ],
      "metadata": {
        "id": "EgKj0J1dp8DQ"
      }
    },
    {
      "cell_type": "code",
      "source": [
        "CS_USA['Estados Unidos'] = CS_USA[['RBOB', 'N2 HO']].mean(axis=1)*42 - CS_USA[\"Brent\"]"
      ],
      "metadata": {
        "id": "QBd4qOJQUvua"
      },
      "execution_count": 210,
      "outputs": []
    },
    {
      "cell_type": "markdown",
      "source": [
        "Finalmente, se eliminan las columnas innecesarias y se resetea el índice."
      ],
      "metadata": {
        "id": "8Cfw7tMnrnsv"
      }
    },
    {
      "cell_type": "code",
      "source": [
        "CS_USA = CS_USA.loc[:,[\"Período\", \"Estados Unidos\"]].reset_index(drop=True)"
      ],
      "metadata": {
        "id": "jObWeib9rnsv"
      },
      "execution_count": 211,
      "outputs": []
    },
    {
      "cell_type": "markdown",
      "source": [
        "A continuación, se presentan las 5 primeras filas del *DataFrame*."
      ],
      "metadata": {
        "id": "67It6Qqlrnsv"
      }
    },
    {
      "cell_type": "code",
      "source": [
        "CS_USA.head()"
      ],
      "metadata": {
        "id": "v_DeMOGErnsw",
        "colab": {
          "base_uri": "https://localhost:8080/",
          "height": 206
        },
        "outputId": "4db25b60-87b0-4e43-ec85-412acbf6ca8e"
      },
      "execution_count": 212,
      "outputs": [
        {
          "output_type": "execute_result",
          "data": {
            "text/plain": [
              "     Período  Estados Unidos\n",
              "0 2019-01-01          12.536\n",
              "1 2019-02-01          14.748\n",
              "2 2019-03-01          17.209\n",
              "3 2019-04-01          24.278\n",
              "4 2019-05-01          17.825"
            ],
            "text/html": [
              "\n",
              "  <div id=\"df-4c7e863a-0d95-4439-98e9-2bce8dc97221\">\n",
              "    <div class=\"colab-df-container\">\n",
              "      <div>\n",
              "<style scoped>\n",
              "    .dataframe tbody tr th:only-of-type {\n",
              "        vertical-align: middle;\n",
              "    }\n",
              "\n",
              "    .dataframe tbody tr th {\n",
              "        vertical-align: top;\n",
              "    }\n",
              "\n",
              "    .dataframe thead th {\n",
              "        text-align: right;\n",
              "    }\n",
              "</style>\n",
              "<table border=\"1\" class=\"dataframe\">\n",
              "  <thead>\n",
              "    <tr style=\"text-align: right;\">\n",
              "      <th></th>\n",
              "      <th>Período</th>\n",
              "      <th>Estados Unidos</th>\n",
              "    </tr>\n",
              "  </thead>\n",
              "  <tbody>\n",
              "    <tr>\n",
              "      <th>0</th>\n",
              "      <td>2019-01-01</td>\n",
              "      <td>12.536</td>\n",
              "    </tr>\n",
              "    <tr>\n",
              "      <th>1</th>\n",
              "      <td>2019-02-01</td>\n",
              "      <td>14.748</td>\n",
              "    </tr>\n",
              "    <tr>\n",
              "      <th>2</th>\n",
              "      <td>2019-03-01</td>\n",
              "      <td>17.209</td>\n",
              "    </tr>\n",
              "    <tr>\n",
              "      <th>3</th>\n",
              "      <td>2019-04-01</td>\n",
              "      <td>24.278</td>\n",
              "    </tr>\n",
              "    <tr>\n",
              "      <th>4</th>\n",
              "      <td>2019-05-01</td>\n",
              "      <td>17.825</td>\n",
              "    </tr>\n",
              "  </tbody>\n",
              "</table>\n",
              "</div>\n",
              "      <button class=\"colab-df-convert\" onclick=\"convertToInteractive('df-4c7e863a-0d95-4439-98e9-2bce8dc97221')\"\n",
              "              title=\"Convert this dataframe to an interactive table.\"\n",
              "              style=\"display:none;\">\n",
              "        \n",
              "  <svg xmlns=\"http://www.w3.org/2000/svg\" height=\"24px\"viewBox=\"0 0 24 24\"\n",
              "       width=\"24px\">\n",
              "    <path d=\"M0 0h24v24H0V0z\" fill=\"none\"/>\n",
              "    <path d=\"M18.56 5.44l.94 2.06.94-2.06 2.06-.94-2.06-.94-.94-2.06-.94 2.06-2.06.94zm-11 1L8.5 8.5l.94-2.06 2.06-.94-2.06-.94L8.5 2.5l-.94 2.06-2.06.94zm10 10l.94 2.06.94-2.06 2.06-.94-2.06-.94-.94-2.06-.94 2.06-2.06.94z\"/><path d=\"M17.41 7.96l-1.37-1.37c-.4-.4-.92-.59-1.43-.59-.52 0-1.04.2-1.43.59L10.3 9.45l-7.72 7.72c-.78.78-.78 2.05 0 2.83L4 21.41c.39.39.9.59 1.41.59.51 0 1.02-.2 1.41-.59l7.78-7.78 2.81-2.81c.8-.78.8-2.07 0-2.86zM5.41 20L4 18.59l7.72-7.72 1.47 1.35L5.41 20z\"/>\n",
              "  </svg>\n",
              "      </button>\n",
              "      \n",
              "  <style>\n",
              "    .colab-df-container {\n",
              "      display:flex;\n",
              "      flex-wrap:wrap;\n",
              "      gap: 12px;\n",
              "    }\n",
              "\n",
              "    .colab-df-convert {\n",
              "      background-color: #E8F0FE;\n",
              "      border: none;\n",
              "      border-radius: 50%;\n",
              "      cursor: pointer;\n",
              "      display: none;\n",
              "      fill: #1967D2;\n",
              "      height: 32px;\n",
              "      padding: 0 0 0 0;\n",
              "      width: 32px;\n",
              "    }\n",
              "\n",
              "    .colab-df-convert:hover {\n",
              "      background-color: #E2EBFA;\n",
              "      box-shadow: 0px 1px 2px rgba(60, 64, 67, 0.3), 0px 1px 3px 1px rgba(60, 64, 67, 0.15);\n",
              "      fill: #174EA6;\n",
              "    }\n",
              "\n",
              "    [theme=dark] .colab-df-convert {\n",
              "      background-color: #3B4455;\n",
              "      fill: #D2E3FC;\n",
              "    }\n",
              "\n",
              "    [theme=dark] .colab-df-convert:hover {\n",
              "      background-color: #434B5C;\n",
              "      box-shadow: 0px 1px 3px 1px rgba(0, 0, 0, 0.15);\n",
              "      filter: drop-shadow(0px 1px 2px rgba(0, 0, 0, 0.3));\n",
              "      fill: #FFFFFF;\n",
              "    }\n",
              "  </style>\n",
              "\n",
              "      <script>\n",
              "        const buttonEl =\n",
              "          document.querySelector('#df-4c7e863a-0d95-4439-98e9-2bce8dc97221 button.colab-df-convert');\n",
              "        buttonEl.style.display =\n",
              "          google.colab.kernel.accessAllowed ? 'block' : 'none';\n",
              "\n",
              "        async function convertToInteractive(key) {\n",
              "          const element = document.querySelector('#df-4c7e863a-0d95-4439-98e9-2bce8dc97221');\n",
              "          const dataTable =\n",
              "            await google.colab.kernel.invokeFunction('convertToInteractive',\n",
              "                                                     [key], {});\n",
              "          if (!dataTable) return;\n",
              "\n",
              "          const docLinkHtml = 'Like what you see? Visit the ' +\n",
              "            '<a target=\"_blank\" href=https://colab.research.google.com/notebooks/data_table.ipynb>data table notebook</a>'\n",
              "            + ' to learn more about interactive tables.';\n",
              "          element.innerHTML = '';\n",
              "          dataTable['output_type'] = 'display_data';\n",
              "          await google.colab.output.renderOutput(dataTable, element);\n",
              "          const docLink = document.createElement('div');\n",
              "          docLink.innerHTML = docLinkHtml;\n",
              "          element.appendChild(docLink);\n",
              "        }\n",
              "      </script>\n",
              "    </div>\n",
              "  </div>\n",
              "  "
            ]
          },
          "metadata": {},
          "execution_count": 212
        }
      ]
    },
    {
      "cell_type": "markdown",
      "source": [
        "## Cómputo total\n",
        "\n",
        "Para facilitar el análisis, los *DataFrames* `CS_ARG` y `CS_USA`, para Argentina y Estados respectivamente, pueden unirse en un solo *DataFrame*, denominado `CS`, utilizando la columna \"Período\" como guía."
      ],
      "metadata": {
        "id": "_cZWtfimtJAW"
      }
    },
    {
      "cell_type": "code",
      "source": [
        "CS = CS_ARG.merge(CS_USA, on=\"Período\")"
      ],
      "metadata": {
        "id": "ozfCdcLLtxEY"
      },
      "execution_count": 213,
      "outputs": []
    },
    {
      "cell_type": "markdown",
      "source": [
        "A continuación, se presentan las 5 primeras filas del *DataFrame*."
      ],
      "metadata": {
        "id": "j1JKHdhuuIVG"
      }
    },
    {
      "cell_type": "code",
      "source": [
        "CS.head()"
      ],
      "metadata": {
        "id": "RNKro6KhuGVF",
        "colab": {
          "base_uri": "https://localhost:8080/",
          "height": 206
        },
        "outputId": "a8eca9af-b402-4753-f924-f8c82256ad73"
      },
      "execution_count": 214,
      "outputs": [
        {
          "output_type": "execute_result",
          "data": {
            "text/plain": [
              "     Período  Argentina  Estados Unidos\n",
              "0 2019-01-01  32.452675          12.536\n",
              "1 2019-02-01  28.831199          14.748\n",
              "2 2019-03-01  25.197698          17.209\n",
              "3 2019-04-01  21.150206          24.278\n",
              "4 2019-05-01  16.312554          17.825"
            ],
            "text/html": [
              "\n",
              "  <div id=\"df-28f23649-c57e-493a-9d21-e2dc06617c67\">\n",
              "    <div class=\"colab-df-container\">\n",
              "      <div>\n",
              "<style scoped>\n",
              "    .dataframe tbody tr th:only-of-type {\n",
              "        vertical-align: middle;\n",
              "    }\n",
              "\n",
              "    .dataframe tbody tr th {\n",
              "        vertical-align: top;\n",
              "    }\n",
              "\n",
              "    .dataframe thead th {\n",
              "        text-align: right;\n",
              "    }\n",
              "</style>\n",
              "<table border=\"1\" class=\"dataframe\">\n",
              "  <thead>\n",
              "    <tr style=\"text-align: right;\">\n",
              "      <th></th>\n",
              "      <th>Período</th>\n",
              "      <th>Argentina</th>\n",
              "      <th>Estados Unidos</th>\n",
              "    </tr>\n",
              "  </thead>\n",
              "  <tbody>\n",
              "    <tr>\n",
              "      <th>0</th>\n",
              "      <td>2019-01-01</td>\n",
              "      <td>32.452675</td>\n",
              "      <td>12.536</td>\n",
              "    </tr>\n",
              "    <tr>\n",
              "      <th>1</th>\n",
              "      <td>2019-02-01</td>\n",
              "      <td>28.831199</td>\n",
              "      <td>14.748</td>\n",
              "    </tr>\n",
              "    <tr>\n",
              "      <th>2</th>\n",
              "      <td>2019-03-01</td>\n",
              "      <td>25.197698</td>\n",
              "      <td>17.209</td>\n",
              "    </tr>\n",
              "    <tr>\n",
              "      <th>3</th>\n",
              "      <td>2019-04-01</td>\n",
              "      <td>21.150206</td>\n",
              "      <td>24.278</td>\n",
              "    </tr>\n",
              "    <tr>\n",
              "      <th>4</th>\n",
              "      <td>2019-05-01</td>\n",
              "      <td>16.312554</td>\n",
              "      <td>17.825</td>\n",
              "    </tr>\n",
              "  </tbody>\n",
              "</table>\n",
              "</div>\n",
              "      <button class=\"colab-df-convert\" onclick=\"convertToInteractive('df-28f23649-c57e-493a-9d21-e2dc06617c67')\"\n",
              "              title=\"Convert this dataframe to an interactive table.\"\n",
              "              style=\"display:none;\">\n",
              "        \n",
              "  <svg xmlns=\"http://www.w3.org/2000/svg\" height=\"24px\"viewBox=\"0 0 24 24\"\n",
              "       width=\"24px\">\n",
              "    <path d=\"M0 0h24v24H0V0z\" fill=\"none\"/>\n",
              "    <path d=\"M18.56 5.44l.94 2.06.94-2.06 2.06-.94-2.06-.94-.94-2.06-.94 2.06-2.06.94zm-11 1L8.5 8.5l.94-2.06 2.06-.94-2.06-.94L8.5 2.5l-.94 2.06-2.06.94zm10 10l.94 2.06.94-2.06 2.06-.94-2.06-.94-.94-2.06-.94 2.06-2.06.94z\"/><path d=\"M17.41 7.96l-1.37-1.37c-.4-.4-.92-.59-1.43-.59-.52 0-1.04.2-1.43.59L10.3 9.45l-7.72 7.72c-.78.78-.78 2.05 0 2.83L4 21.41c.39.39.9.59 1.41.59.51 0 1.02-.2 1.41-.59l7.78-7.78 2.81-2.81c.8-.78.8-2.07 0-2.86zM5.41 20L4 18.59l7.72-7.72 1.47 1.35L5.41 20z\"/>\n",
              "  </svg>\n",
              "      </button>\n",
              "      \n",
              "  <style>\n",
              "    .colab-df-container {\n",
              "      display:flex;\n",
              "      flex-wrap:wrap;\n",
              "      gap: 12px;\n",
              "    }\n",
              "\n",
              "    .colab-df-convert {\n",
              "      background-color: #E8F0FE;\n",
              "      border: none;\n",
              "      border-radius: 50%;\n",
              "      cursor: pointer;\n",
              "      display: none;\n",
              "      fill: #1967D2;\n",
              "      height: 32px;\n",
              "      padding: 0 0 0 0;\n",
              "      width: 32px;\n",
              "    }\n",
              "\n",
              "    .colab-df-convert:hover {\n",
              "      background-color: #E2EBFA;\n",
              "      box-shadow: 0px 1px 2px rgba(60, 64, 67, 0.3), 0px 1px 3px 1px rgba(60, 64, 67, 0.15);\n",
              "      fill: #174EA6;\n",
              "    }\n",
              "\n",
              "    [theme=dark] .colab-df-convert {\n",
              "      background-color: #3B4455;\n",
              "      fill: #D2E3FC;\n",
              "    }\n",
              "\n",
              "    [theme=dark] .colab-df-convert:hover {\n",
              "      background-color: #434B5C;\n",
              "      box-shadow: 0px 1px 3px 1px rgba(0, 0, 0, 0.15);\n",
              "      filter: drop-shadow(0px 1px 2px rgba(0, 0, 0, 0.3));\n",
              "      fill: #FFFFFF;\n",
              "    }\n",
              "  </style>\n",
              "\n",
              "      <script>\n",
              "        const buttonEl =\n",
              "          document.querySelector('#df-28f23649-c57e-493a-9d21-e2dc06617c67 button.colab-df-convert');\n",
              "        buttonEl.style.display =\n",
              "          google.colab.kernel.accessAllowed ? 'block' : 'none';\n",
              "\n",
              "        async function convertToInteractive(key) {\n",
              "          const element = document.querySelector('#df-28f23649-c57e-493a-9d21-e2dc06617c67');\n",
              "          const dataTable =\n",
              "            await google.colab.kernel.invokeFunction('convertToInteractive',\n",
              "                                                     [key], {});\n",
              "          if (!dataTable) return;\n",
              "\n",
              "          const docLinkHtml = 'Like what you see? Visit the ' +\n",
              "            '<a target=\"_blank\" href=https://colab.research.google.com/notebooks/data_table.ipynb>data table notebook</a>'\n",
              "            + ' to learn more about interactive tables.';\n",
              "          element.innerHTML = '';\n",
              "          dataTable['output_type'] = 'display_data';\n",
              "          await google.colab.output.renderOutput(dataTable, element);\n",
              "          const docLink = document.createElement('div');\n",
              "          docLink.innerHTML = docLinkHtml;\n",
              "          element.appendChild(docLink);\n",
              "        }\n",
              "      </script>\n",
              "    </div>\n",
              "  </div>\n",
              "  "
            ]
          },
          "metadata": {},
          "execution_count": 214
        }
      ]
    },
    {
      "cell_type": "markdown",
      "source": [
        "Por último, se exporta el *DataFrame* en formato `.xlsx`."
      ],
      "metadata": {
        "id": "WwIzO7o11xLL"
      }
    },
    {
      "cell_type": "code",
      "source": [
        "CS.to_excel(\"Crack spread ARG - USA.xlsx\", index=False)"
      ],
      "metadata": {
        "id": "0E1YTrAm1xLL"
      },
      "execution_count": 215,
      "outputs": []
    },
    {
      "cell_type": "markdown",
      "source": [
        "## Figura: *crack spread* para Argentina y Estados Unidos"
      ],
      "metadata": {
        "id": "FUIvHXi_wDX7"
      }
    },
    {
      "cell_type": "markdown",
      "source": [
        "Los colores utilizados para la siguiente figura se construyen a partir de los 2 primeros valores de `qualitative.Safe`, una escala discreta de colores de Plotly."
      ],
      "metadata": {
        "id": "OUnU7Da6uw2k"
      }
    },
    {
      "cell_type": "code",
      "source": [
        "color_CS = px.colors.qualitative.Safe[0:2]"
      ],
      "metadata": {
        "id": "oTicfqituw2k"
      },
      "execution_count": 216,
      "outputs": []
    },
    {
      "cell_type": "markdown",
      "source": [
        "Se crea la figura `crack_spread` en el entorno de Plotly (utilizando `graph_objects` como `go`)."
      ],
      "metadata": {
        "id": "5krPfkMVvHtl"
      }
    },
    {
      "cell_type": "code",
      "source": [
        "crack_spread = go.Figure()"
      ],
      "metadata": {
        "id": "R7e2MEcUvHtl"
      },
      "execution_count": 217,
      "outputs": []
    },
    {
      "cell_type": "markdown",
      "source": [
        "Las especificaciones de la figura se encuentran en su argumento, y se hace uso de la función `general_update_layout` para modificar el aspecto de la figura en general."
      ],
      "metadata": {
        "id": "mKG3nuedvHtl"
      }
    },
    {
      "cell_type": "code",
      "source": [
        "for column, color in zip(CS.columns[1:], color_CS):\n",
        "  crack_spread.add_trace(\n",
        "      go.Scatter(\n",
        "        x=CS['Período'],\n",
        "        y=CS[column],\n",
        "        mode='lines',\n",
        "        name=column,\n",
        "        line=dict(\n",
        "            width=2,\n",
        "            color=color\n",
        "        )\n",
        "      )\n",
        "  )\n",
        "  crack_spread.add_annotation(\n",
        "    x=pd.to_datetime(CS['Período'][-1:].values[0]),\n",
        "    y=CS[column][-1:].values[0],\n",
        "    text=round(CS[column][-1:].values[0], 1).astype(str),\n",
        "    font=dict(\n",
        "        color=color\n",
        "    ),\n",
        "    xanchor=\"left\",\n",
        "    xshift=10,\n",
        "    yshift=0,\n",
        "    showarrow=False\n",
        "  )\n",
        "  crack_spread.add_trace(\n",
        "    go.Scatter(\n",
        "      showlegend=False,\n",
        "      x=CS['Período'].tail(1),\n",
        "      y=CS[column].tail(1),\n",
        "      mode='markers',\n",
        "      name=producto+\"EoP\",\n",
        "      marker=dict(\n",
        "          color=color, size=10\n",
        "      )\n",
        "    )\n",
        "  )\n",
        "\n",
        "general_update_layout(crack_spread, None, -0.5, 70, 30, \"<b>USD / bbl\", 2)"
      ],
      "metadata": {
        "id": "rPG-ZP9fvHtl"
      },
      "execution_count": 218,
      "outputs": []
    },
    {
      "cell_type": "markdown",
      "source": [
        "A continuación, se exhibe la figura."
      ],
      "metadata": {
        "id": "zapNoPI7zjdP"
      }
    },
    {
      "cell_type": "code",
      "source": [
        "crack_spread.show(\"png\")"
      ],
      "metadata": {
        "id": "1JOij99Yv1Dj",
        "colab": {
          "base_uri": "https://localhost:8080/",
          "height": 767
        },
        "outputId": "b88330f8-f2f1-4222-df25-268a2bb16a8c"
      },
      "execution_count": 219,
      "outputs": [
        {
          "output_type": "display_data",
          "data": {
            "image/png": "[encoded data removed]"
          },
          "metadata": {}
        }
      ]
    },
    {
      "cell_type": "markdown",
      "source": [
        "Si se desea exportar la figura a formato `.pdf`, se debe des-comentar y ejecutar la siguiente celda. Recuérdese que el *package* `kaleido` debe estar correctamente instalado."
      ],
      "metadata": {
        "id": "F5j3Xpd6zfyT"
      }
    },
    {
      "cell_type": "code",
      "source": [
        "pio.write_image(crack_spread, \"Figura Crack Spread.pdf\", width=3*300, height=2.25*300)"
      ],
      "metadata": {
        "id": "rIzDE4O0zfyT"
      },
      "execution_count": 220,
      "outputs": []
    }
  ]
}